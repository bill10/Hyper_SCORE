{
 "cells": [
  {
   "cell_type": "markdown",
   "metadata": {},
   "source": [
    "# Community Detection in Hypergraph Networks"
   ]
  },
  {
   "cell_type": "markdown",
   "metadata": {},
   "source": [
    "## Workbench"
   ]
  },
  {
   "cell_type": "code",
   "execution_count": 1,
   "metadata": {},
   "outputs": [],
   "source": [
    "import numpy as np\n",
    "import scipy.sparse as ssp\n",
    "import random\n",
    "from collections import Counter\n",
    "from scipy.sparse.linalg import eigsh\n",
    "import pandas as pd\n",
    "from multiprocessing import Pool, cpu_count\n",
    "from functools import partial, reduce\n",
    "from sklearn.manifold import TSNE\n",
    "from itertools import permutations, combinations, combinations_with_replacement \n",
    "from math import factorial"
   ]
  },
  {
   "cell_type": "code",
   "execution_count": 2,
   "metadata": {},
   "outputs": [],
   "source": [
    "%matplotlib inline\n",
    "import pylab as plt\n",
    "import seaborn as sns\n",
    "from matplotlib.colors import ListedColormap"
   ]
  },
  {
   "cell_type": "code",
   "execution_count": 3,
   "metadata": {},
   "outputs": [
    {
     "data": {
      "text/html": [
       "\n",
       "    <div class=\"bk-root\">\n",
       "        <a href=\"https://bokeh.pydata.org\" target=\"_blank\" class=\"bk-logo bk-logo-small bk-logo-notebook\"></a>\n",
       "        <span id=\"e419c55b-a711-437f-92ad-5cddb84d4213\">Loading BokehJS ...</span>\n",
       "    </div>"
      ]
     },
     "metadata": {},
     "output_type": "display_data"
    },
    {
     "data": {
      "application/javascript": [
       "\n",
       "(function(root) {\n",
       "  function now() {\n",
       "    return new Date();\n",
       "  }\n",
       "\n",
       "  var force = true;\n",
       "\n",
       "  if (typeof (root._bokeh_onload_callbacks) === \"undefined\" || force === true) {\n",
       "    root._bokeh_onload_callbacks = [];\n",
       "    root._bokeh_is_loading = undefined;\n",
       "  }\n",
       "\n",
       "  var JS_MIME_TYPE = 'application/javascript';\n",
       "  var HTML_MIME_TYPE = 'text/html';\n",
       "  var EXEC_MIME_TYPE = 'application/vnd.bokehjs_exec.v0+json';\n",
       "  var CLASS_NAME = 'output_bokeh rendered_html';\n",
       "\n",
       "  /**\n",
       "   * Render data to the DOM node\n",
       "   */\n",
       "  function render(props, node) {\n",
       "    var script = document.createElement(\"script\");\n",
       "    node.appendChild(script);\n",
       "  }\n",
       "\n",
       "  /**\n",
       "   * Handle when an output is cleared or removed\n",
       "   */\n",
       "  function handleClearOutput(event, handle) {\n",
       "    var cell = handle.cell;\n",
       "\n",
       "    var id = cell.output_area._bokeh_element_id;\n",
       "    var server_id = cell.output_area._bokeh_server_id;\n",
       "    // Clean up Bokeh references\n",
       "    if (id !== undefined) {\n",
       "      Bokeh.index[id].model.document.clear();\n",
       "      delete Bokeh.index[id];\n",
       "    }\n",
       "\n",
       "    if (server_id !== undefined) {\n",
       "      // Clean up Bokeh references\n",
       "      var cmd = \"from bokeh.io.state import curstate; print(curstate().uuid_to_server['\" + server_id + \"'].get_sessions()[0].document.roots[0]._id)\";\n",
       "      cell.notebook.kernel.execute(cmd, {\n",
       "        iopub: {\n",
       "          output: function(msg) {\n",
       "            var element_id = msg.content.text.trim();\n",
       "            Bokeh.index[element_id].model.document.clear();\n",
       "            delete Bokeh.index[element_id];\n",
       "          }\n",
       "        }\n",
       "      });\n",
       "      // Destroy server and session\n",
       "      var cmd = \"import bokeh.io.notebook as ion; ion.destroy_server('\" + server_id + \"')\";\n",
       "      cell.notebook.kernel.execute(cmd);\n",
       "    }\n",
       "  }\n",
       "\n",
       "  /**\n",
       "   * Handle when a new output is added\n",
       "   */\n",
       "  function handleAddOutput(event, handle) {\n",
       "    var output_area = handle.output_area;\n",
       "    var output = handle.output;\n",
       "\n",
       "    // limit handleAddOutput to display_data with EXEC_MIME_TYPE content only\n",
       "    if ((output.output_type != \"display_data\") || (!output.data.hasOwnProperty(EXEC_MIME_TYPE))) {\n",
       "      return\n",
       "    }\n",
       "\n",
       "    var toinsert = output_area.element.find(\".\" + CLASS_NAME.split(' ')[0]);\n",
       "\n",
       "    if (output.metadata[EXEC_MIME_TYPE][\"id\"] !== undefined) {\n",
       "      toinsert[0].firstChild.textContent = output.data[JS_MIME_TYPE];\n",
       "      // store reference to embed id on output_area\n",
       "      output_area._bokeh_element_id = output.metadata[EXEC_MIME_TYPE][\"id\"];\n",
       "    }\n",
       "    if (output.metadata[EXEC_MIME_TYPE][\"server_id\"] !== undefined) {\n",
       "      var bk_div = document.createElement(\"div\");\n",
       "      bk_div.innerHTML = output.data[HTML_MIME_TYPE];\n",
       "      var script_attrs = bk_div.children[0].attributes;\n",
       "      for (var i = 0; i < script_attrs.length; i++) {\n",
       "        toinsert[0].firstChild.setAttribute(script_attrs[i].name, script_attrs[i].value);\n",
       "      }\n",
       "      // store reference to server id on output_area\n",
       "      output_area._bokeh_server_id = output.metadata[EXEC_MIME_TYPE][\"server_id\"];\n",
       "    }\n",
       "  }\n",
       "\n",
       "  function register_renderer(events, OutputArea) {\n",
       "\n",
       "    function append_mime(data, metadata, element) {\n",
       "      // create a DOM node to render to\n",
       "      var toinsert = this.create_output_subarea(\n",
       "        metadata,\n",
       "        CLASS_NAME,\n",
       "        EXEC_MIME_TYPE\n",
       "      );\n",
       "      this.keyboard_manager.register_events(toinsert);\n",
       "      // Render to node\n",
       "      var props = {data: data, metadata: metadata[EXEC_MIME_TYPE]};\n",
       "      render(props, toinsert[0]);\n",
       "      element.append(toinsert);\n",
       "      return toinsert\n",
       "    }\n",
       "\n",
       "    /* Handle when an output is cleared or removed */\n",
       "    events.on('clear_output.CodeCell', handleClearOutput);\n",
       "    events.on('delete.Cell', handleClearOutput);\n",
       "\n",
       "    /* Handle when a new output is added */\n",
       "    events.on('output_added.OutputArea', handleAddOutput);\n",
       "\n",
       "    /**\n",
       "     * Register the mime type and append_mime function with output_area\n",
       "     */\n",
       "    OutputArea.prototype.register_mime_type(EXEC_MIME_TYPE, append_mime, {\n",
       "      /* Is output safe? */\n",
       "      safe: true,\n",
       "      /* Index of renderer in `output_area.display_order` */\n",
       "      index: 0\n",
       "    });\n",
       "  }\n",
       "\n",
       "  // register the mime type if in Jupyter Notebook environment and previously unregistered\n",
       "  if (root.Jupyter !== undefined) {\n",
       "    var events = require('base/js/events');\n",
       "    var OutputArea = require('notebook/js/outputarea').OutputArea;\n",
       "\n",
       "    if (OutputArea.prototype.mime_types().indexOf(EXEC_MIME_TYPE) == -1) {\n",
       "      register_renderer(events, OutputArea);\n",
       "    }\n",
       "  }\n",
       "\n",
       "  \n",
       "  if (typeof (root._bokeh_timeout) === \"undefined\" || force === true) {\n",
       "    root._bokeh_timeout = Date.now() + 5000;\n",
       "    root._bokeh_failed_load = false;\n",
       "  }\n",
       "\n",
       "  var NB_LOAD_WARNING = {'data': {'text/html':\n",
       "     \"<div style='background-color: #fdd'>\\n\"+\n",
       "     \"<p>\\n\"+\n",
       "     \"BokehJS does not appear to have successfully loaded. If loading BokehJS from CDN, this \\n\"+\n",
       "     \"may be due to a slow or bad network connection. Possible fixes:\\n\"+\n",
       "     \"</p>\\n\"+\n",
       "     \"<ul>\\n\"+\n",
       "     \"<li>re-rerun `output_notebook()` to attempt to load from CDN again, or</li>\\n\"+\n",
       "     \"<li>use INLINE resources instead, as so:</li>\\n\"+\n",
       "     \"</ul>\\n\"+\n",
       "     \"<code>\\n\"+\n",
       "     \"from bokeh.resources import INLINE\\n\"+\n",
       "     \"output_notebook(resources=INLINE)\\n\"+\n",
       "     \"</code>\\n\"+\n",
       "     \"</div>\"}};\n",
       "\n",
       "  function display_loaded() {\n",
       "    var el = document.getElementById(\"e419c55b-a711-437f-92ad-5cddb84d4213\");\n",
       "    if (el != null) {\n",
       "      el.textContent = \"BokehJS is loading...\";\n",
       "    }\n",
       "    if (root.Bokeh !== undefined) {\n",
       "      if (el != null) {\n",
       "        el.textContent = \"BokehJS \" + root.Bokeh.version + \" successfully loaded.\";\n",
       "      }\n",
       "    } else if (Date.now() < root._bokeh_timeout) {\n",
       "      setTimeout(display_loaded, 100)\n",
       "    }\n",
       "  }\n",
       "\n",
       "\n",
       "  function run_callbacks() {\n",
       "    try {\n",
       "      root._bokeh_onload_callbacks.forEach(function(callback) { callback() });\n",
       "    }\n",
       "    finally {\n",
       "      delete root._bokeh_onload_callbacks\n",
       "    }\n",
       "    console.info(\"Bokeh: all callbacks have finished\");\n",
       "  }\n",
       "\n",
       "  function load_libs(js_urls, callback) {\n",
       "    root._bokeh_onload_callbacks.push(callback);\n",
       "    if (root._bokeh_is_loading > 0) {\n",
       "      console.log(\"Bokeh: BokehJS is being loaded, scheduling callback at\", now());\n",
       "      return null;\n",
       "    }\n",
       "    if (js_urls == null || js_urls.length === 0) {\n",
       "      run_callbacks();\n",
       "      return null;\n",
       "    }\n",
       "    console.log(\"Bokeh: BokehJS not loaded, scheduling load and callback at\", now());\n",
       "    root._bokeh_is_loading = js_urls.length;\n",
       "    for (var i = 0; i < js_urls.length; i++) {\n",
       "      var url = js_urls[i];\n",
       "      var s = document.createElement('script');\n",
       "      s.src = url;\n",
       "      s.async = false;\n",
       "      s.onreadystatechange = s.onload = function() {\n",
       "        root._bokeh_is_loading--;\n",
       "        if (root._bokeh_is_loading === 0) {\n",
       "          console.log(\"Bokeh: all BokehJS libraries loaded\");\n",
       "          run_callbacks()\n",
       "        }\n",
       "      };\n",
       "      s.onerror = function() {\n",
       "        console.warn(\"failed to load library \" + url);\n",
       "      };\n",
       "      console.log(\"Bokeh: injecting script tag for BokehJS library: \", url);\n",
       "      document.getElementsByTagName(\"head\")[0].appendChild(s);\n",
       "    }\n",
       "  };var element = document.getElementById(\"e419c55b-a711-437f-92ad-5cddb84d4213\");\n",
       "  if (element == null) {\n",
       "    console.log(\"Bokeh: ERROR: autoload.js configured with elementid 'e419c55b-a711-437f-92ad-5cddb84d4213' but no matching script tag was found. \")\n",
       "    return false;\n",
       "  }\n",
       "\n",
       "  var js_urls = [\"https://cdn.pydata.org/bokeh/release/bokeh-0.12.13.min.js\", \"https://cdn.pydata.org/bokeh/release/bokeh-widgets-0.12.13.min.js\", \"https://cdn.pydata.org/bokeh/release/bokeh-tables-0.12.13.min.js\", \"https://cdn.pydata.org/bokeh/release/bokeh-gl-0.12.13.min.js\"];\n",
       "\n",
       "  var inline_js = [\n",
       "    function(Bokeh) {\n",
       "      Bokeh.set_log_level(\"info\");\n",
       "    },\n",
       "    \n",
       "    function(Bokeh) {\n",
       "      \n",
       "    },\n",
       "    function(Bokeh) {\n",
       "      console.log(\"Bokeh: injecting CSS: https://cdn.pydata.org/bokeh/release/bokeh-0.12.13.min.css\");\n",
       "      Bokeh.embed.inject_css(\"https://cdn.pydata.org/bokeh/release/bokeh-0.12.13.min.css\");\n",
       "      console.log(\"Bokeh: injecting CSS: https://cdn.pydata.org/bokeh/release/bokeh-widgets-0.12.13.min.css\");\n",
       "      Bokeh.embed.inject_css(\"https://cdn.pydata.org/bokeh/release/bokeh-widgets-0.12.13.min.css\");\n",
       "      console.log(\"Bokeh: injecting CSS: https://cdn.pydata.org/bokeh/release/bokeh-tables-0.12.13.min.css\");\n",
       "      Bokeh.embed.inject_css(\"https://cdn.pydata.org/bokeh/release/bokeh-tables-0.12.13.min.css\");\n",
       "    }\n",
       "  ];\n",
       "\n",
       "  function run_inline_js() {\n",
       "    \n",
       "    if ((root.Bokeh !== undefined) || (force === true)) {\n",
       "      for (var i = 0; i < inline_js.length; i++) {\n",
       "        inline_js[i].call(root, root.Bokeh);\n",
       "      }if (force === true) {\n",
       "        display_loaded();\n",
       "      }} else if (Date.now() < root._bokeh_timeout) {\n",
       "      setTimeout(run_inline_js, 100);\n",
       "    } else if (!root._bokeh_failed_load) {\n",
       "      console.log(\"Bokeh: BokehJS failed to load within specified timeout.\");\n",
       "      root._bokeh_failed_load = true;\n",
       "    } else if (force !== true) {\n",
       "      var cell = $(document.getElementById(\"e419c55b-a711-437f-92ad-5cddb84d4213\")).parents('.cell').data().cell;\n",
       "      cell.output_area.append_execute_result(NB_LOAD_WARNING)\n",
       "    }\n",
       "\n",
       "  }\n",
       "\n",
       "  if (root._bokeh_is_loading === 0) {\n",
       "    console.log(\"Bokeh: BokehJS loaded, going straight to plotting\");\n",
       "    run_inline_js();\n",
       "  } else {\n",
       "    load_libs(js_urls, function() {\n",
       "      console.log(\"Bokeh: BokehJS plotting callback run at\", now());\n",
       "      run_inline_js();\n",
       "    });\n",
       "  }\n",
       "}(window));"
      ],
      "application/vnd.bokehjs_load.v0+json": "\n(function(root) {\n  function now() {\n    return new Date();\n  }\n\n  var force = true;\n\n  if (typeof (root._bokeh_onload_callbacks) === \"undefined\" || force === true) {\n    root._bokeh_onload_callbacks = [];\n    root._bokeh_is_loading = undefined;\n  }\n\n  \n\n  \n  if (typeof (root._bokeh_timeout) === \"undefined\" || force === true) {\n    root._bokeh_timeout = Date.now() + 5000;\n    root._bokeh_failed_load = false;\n  }\n\n  var NB_LOAD_WARNING = {'data': {'text/html':\n     \"<div style='background-color: #fdd'>\\n\"+\n     \"<p>\\n\"+\n     \"BokehJS does not appear to have successfully loaded. If loading BokehJS from CDN, this \\n\"+\n     \"may be due to a slow or bad network connection. Possible fixes:\\n\"+\n     \"</p>\\n\"+\n     \"<ul>\\n\"+\n     \"<li>re-rerun `output_notebook()` to attempt to load from CDN again, or</li>\\n\"+\n     \"<li>use INLINE resources instead, as so:</li>\\n\"+\n     \"</ul>\\n\"+\n     \"<code>\\n\"+\n     \"from bokeh.resources import INLINE\\n\"+\n     \"output_notebook(resources=INLINE)\\n\"+\n     \"</code>\\n\"+\n     \"</div>\"}};\n\n  function display_loaded() {\n    var el = document.getElementById(\"e419c55b-a711-437f-92ad-5cddb84d4213\");\n    if (el != null) {\n      el.textContent = \"BokehJS is loading...\";\n    }\n    if (root.Bokeh !== undefined) {\n      if (el != null) {\n        el.textContent = \"BokehJS \" + root.Bokeh.version + \" successfully loaded.\";\n      }\n    } else if (Date.now() < root._bokeh_timeout) {\n      setTimeout(display_loaded, 100)\n    }\n  }\n\n\n  function run_callbacks() {\n    try {\n      root._bokeh_onload_callbacks.forEach(function(callback) { callback() });\n    }\n    finally {\n      delete root._bokeh_onload_callbacks\n    }\n    console.info(\"Bokeh: all callbacks have finished\");\n  }\n\n  function load_libs(js_urls, callback) {\n    root._bokeh_onload_callbacks.push(callback);\n    if (root._bokeh_is_loading > 0) {\n      console.log(\"Bokeh: BokehJS is being loaded, scheduling callback at\", now());\n      return null;\n    }\n    if (js_urls == null || js_urls.length === 0) {\n      run_callbacks();\n      return null;\n    }\n    console.log(\"Bokeh: BokehJS not loaded, scheduling load and callback at\", now());\n    root._bokeh_is_loading = js_urls.length;\n    for (var i = 0; i < js_urls.length; i++) {\n      var url = js_urls[i];\n      var s = document.createElement('script');\n      s.src = url;\n      s.async = false;\n      s.onreadystatechange = s.onload = function() {\n        root._bokeh_is_loading--;\n        if (root._bokeh_is_loading === 0) {\n          console.log(\"Bokeh: all BokehJS libraries loaded\");\n          run_callbacks()\n        }\n      };\n      s.onerror = function() {\n        console.warn(\"failed to load library \" + url);\n      };\n      console.log(\"Bokeh: injecting script tag for BokehJS library: \", url);\n      document.getElementsByTagName(\"head\")[0].appendChild(s);\n    }\n  };var element = document.getElementById(\"e419c55b-a711-437f-92ad-5cddb84d4213\");\n  if (element == null) {\n    console.log(\"Bokeh: ERROR: autoload.js configured with elementid 'e419c55b-a711-437f-92ad-5cddb84d4213' but no matching script tag was found. \")\n    return false;\n  }\n\n  var js_urls = [\"https://cdn.pydata.org/bokeh/release/bokeh-0.12.13.min.js\", \"https://cdn.pydata.org/bokeh/release/bokeh-widgets-0.12.13.min.js\", \"https://cdn.pydata.org/bokeh/release/bokeh-tables-0.12.13.min.js\", \"https://cdn.pydata.org/bokeh/release/bokeh-gl-0.12.13.min.js\"];\n\n  var inline_js = [\n    function(Bokeh) {\n      Bokeh.set_log_level(\"info\");\n    },\n    \n    function(Bokeh) {\n      \n    },\n    function(Bokeh) {\n      console.log(\"Bokeh: injecting CSS: https://cdn.pydata.org/bokeh/release/bokeh-0.12.13.min.css\");\n      Bokeh.embed.inject_css(\"https://cdn.pydata.org/bokeh/release/bokeh-0.12.13.min.css\");\n      console.log(\"Bokeh: injecting CSS: https://cdn.pydata.org/bokeh/release/bokeh-widgets-0.12.13.min.css\");\n      Bokeh.embed.inject_css(\"https://cdn.pydata.org/bokeh/release/bokeh-widgets-0.12.13.min.css\");\n      console.log(\"Bokeh: injecting CSS: https://cdn.pydata.org/bokeh/release/bokeh-tables-0.12.13.min.css\");\n      Bokeh.embed.inject_css(\"https://cdn.pydata.org/bokeh/release/bokeh-tables-0.12.13.min.css\");\n    }\n  ];\n\n  function run_inline_js() {\n    \n    if ((root.Bokeh !== undefined) || (force === true)) {\n      for (var i = 0; i < inline_js.length; i++) {\n        inline_js[i].call(root, root.Bokeh);\n      }if (force === true) {\n        display_loaded();\n      }} else if (Date.now() < root._bokeh_timeout) {\n      setTimeout(run_inline_js, 100);\n    } else if (!root._bokeh_failed_load) {\n      console.log(\"Bokeh: BokehJS failed to load within specified timeout.\");\n      root._bokeh_failed_load = true;\n    } else if (force !== true) {\n      var cell = $(document.getElementById(\"e419c55b-a711-437f-92ad-5cddb84d4213\")).parents('.cell').data().cell;\n      cell.output_area.append_execute_result(NB_LOAD_WARNING)\n    }\n\n  }\n\n  if (root._bokeh_is_loading === 0) {\n    console.log(\"Bokeh: BokehJS loaded, going straight to plotting\");\n    run_inline_js();\n  } else {\n    load_libs(js_urls, function() {\n      console.log(\"Bokeh: BokehJS plotting callback run at\", now());\n      run_inline_js();\n    });\n  }\n}(window));"
     },
     "metadata": {},
     "output_type": "display_data"
    }
   ],
   "source": [
    "from bokeh.io import output_notebook, show, save\n",
    "from bokeh.plotting import figure\n",
    "from bokeh.models import HoverTool, ColumnDataSource\n",
    "output_notebook()"
   ]
  },
  {
   "cell_type": "code",
   "execution_count": 4,
   "metadata": {},
   "outputs": [],
   "source": [
    "def get_nodes(x,G):\n",
    "    return tuple(sorted(G[x,:].nonzero()[1]))\n",
    "    \n",
    "def get_hyperedges(G):\n",
    "    # G: a edge-by-node incidence matrix\n",
    "    pool=Pool(cpu_count()-1)\n",
    "    E=Counter(pool.map(partial(get_nodes,G=G), (G.sum(axis=1).A.flatten()>1).nonzero()[0]))\n",
    "    pool.close()\n",
    "    pool.join()\n",
    "    return E.keys()\n",
    "\n",
    "def get_incidence(edges):\n",
    "    indices=[]\n",
    "    indptr=[0]\n",
    "    for e in edges:\n",
    "        indptr.append(indptr[-1]+len(e))\n",
    "        indices+=list(e)\n",
    "    return ssp.csr_matrix((np.ones(indptr[-1]), indices, indptr))\n",
    "\n",
    "def load_edges(filename, sep='\\t'):\n",
    "    data=pd.read_csv(filename,sep)\n",
    "    return ssp.csr_matrix((np.ones(len(data)),zip(*data.values)),shape=data.max().values+1)"
   ]
  },
  {
   "cell_type": "code",
   "execution_count": 5,
   "metadata": {},
   "outputs": [],
   "source": [
    "# Given an edge-by-node incidence matrix, this function returns the submatrix corresponding to the largest connected component. \n",
    "# If the associated adjacency matrix is weighted, edges with weights less than the threshold will be removed before finding components.\n",
    "def largest_component(G,threshold=None):\n",
    "    P=G.T*G\n",
    "    if threshold is None:\n",
    "        weights=Counter(P.data)\n",
    "        t=input(\"Tell me where to cut. Edges with weights >= will be kept. Here is the distribution of weights:\\n{}\".format(weights))\n",
    "    else:\n",
    "        t=threshold\n",
    "    for i in range(1,t):\n",
    "        P[P==i]=0\n",
    "        P.eliminate_zeros()\n",
    "    _,comp=ssp.csgraph.connected_components(P, directed=False)\n",
    "    largest_comp=Counter(comp).most_common(1)[0]\n",
    "    nodes=(comp==largest_comp[0]).nonzero()[0]\n",
    "    G2=G[:,nodes]\n",
    "    edges=G2.sum(axis=1).nonzero()[0]\n",
    "    return G2[edges,:], nodes, edges"
   ]
  },
  {
   "cell_type": "markdown",
   "metadata": {},
   "source": [
    "## Stochastic Block Model"
   ]
  },
  {
   "cell_type": "markdown",
   "metadata": {},
   "source": [
    "* Given an order-$m$ hypergraph with $N$ nodes and $M$ hyperedges (edges for short). \n",
    "* Let $A$ be the order-$m$ adjacency tensor.  \n",
    "* The stochastic block model for hypergraphs (SBMH) is defined as follows:\n",
    " * The nodes are divided into $K$ disjoint communities, $V=V_1\\cap V_2 \\cap \\cdots \\cap V_K$.\n",
    " * The probability that nodes $i_1,\\cdots,i_m$ will form an edge is \n",
    "$$P(A[i_1,\\cdots,i_m]=1) = C[g(i_1),\\cdots,g(i_m)]\\prod_{j~\\text{in}~(i_1,\\cdots,i_m)}\\theta_j,$$\n",
    "where $g(i)$ is the community that node $i$ belongs to, and $\\theta_i$ is a connectivity paramter for $i$.\n",
    " * $C$ is also an order-$m$ tensor and $C[g_1,\\cdots,g_m]$ is the \"density\" of edges between communities $g_1,\\cdots,g_m$. $C$ is much smaller than $A$.\n",
    "* Let $Q$ be the tensor where $Q[i_1,\\cdots,i_m]= P(A[i_1,\\cdots,i_m]=1)$, $1\\leq i_1,\\cdots,i_m \\leq N$, and $B$ be the matrix where $B[i,k]=1$ if node $i$ is in community $k$.\n",
    "* Then SBMH can be written as\n",
    "$$Q[i_1,\\cdots,i_m] = \\sum_{g_1,\\cdots,g_m} C[g_1,\\cdots,g_m] \\theta_{i_1}B[i_1,g_1] \\cdots \\theta_{i_m} B[i_m,g_m].$$\n",
    "* In tensor form, $Q = [C; \\theta B, \\cdots, \\theta B]$.\n",
    "* In other words, the SBMH assumes that the adjacency tensor can be approximated by a Tucker decomposition $[C; \\theta B, \\cdots, \\theta B]$. "
   ]
  },
  {
   "cell_type": "code",
   "execution_count": 6,
   "metadata": {},
   "outputs": [],
   "source": [
    "# This function generate a hypergraph (actually, all hyperedges) from the SBM with the following C: the diagonal elements of C = pwithin and the off-diagonal elements of C = pbetween\n",
    "def generate(N,M,m,comm,pwithin,pbetween):\n",
    "    V=range(N)\n",
    "    edges=set()\n",
    "    typecount=[0,0]\n",
    "    while len(edges)<M:\n",
    "        v=random.sample(V,m)\n",
    "        if len(np.unique(comm[v]))>1:\n",
    "            p=pbetween\n",
    "            t=1\n",
    "        else:\n",
    "            p=pwithin\n",
    "            t=0\n",
    "        if random.random()<=p:\n",
    "            edges.add(tuple(sorted(v)))\n",
    "            typecount[t]+=1\n",
    "    print(\"between: {}, within: {}\".format(typecount[1],typecount[0]) )\n",
    "    return list(edges)"
   ]
  },
  {
   "cell_type": "markdown",
   "metadata": {},
   "source": [
    "## Hyper-SCORE"
   ]
  },
  {
   "cell_type": "markdown",
   "metadata": {},
   "source": [
    "Given a hypergraph, hyper-SCORE fits the SBM to data and infers the community membership of nodes.\n",
    "1. Perform a Tucker decomposition of the adjacency tensor $A$.\n",
    "    1. Higher-order SVD (HOSVD) of $A$ as the initial decomposition. \n",
    "        1. Obtain the mode-1 matrix $A^{(1)}$ of $A$ by mapping indices as the following: $$A^{(1)}[i_1, \\sum_{j=2}^m i_j N^{m-j}] = A[i_1,\\cdots,i_m].$$\n",
    "        2. Compute the $K$ left singular vectors $(u_1,\\cdots,u_K)$ of $A^{(1)}$ corresponding to the $K$ largest singular values. \n",
    "            * If $A^{(1)}$ is too wide ($N$ by $N^{m-1}$) to do SVD, compute the eigen vectors of $A^{(1)}A^{(1)^T}$, since $A^{(1)}A^{(1)^T}$ can be much smaller than $A^{(1)}$ and can be calculated without constructing $A^{(1)}$ explicitely as follows.\n",
    "            * Let $e_i$ ($e_j$) be an edge that contains $i$ ($j$), and $e_i - i$ be the set of nodes after removing $i$ from $e_i$. \n",
    "            * $[A^{(1)}A^{(1)^T}]_{ij}$ = number of pairs $(e_i, e_j)$ s.t. $e_i - i$ = $e_j - j$, for any $e_i, e_j$.\n",
    "    2. Higher-order orthogonal iteration for improvements.\n",
    "        1. Let $U=[u_1,\\cdots,u_K]$. (Use the leading sigular vectors from HOSVD in the first iteration.)  \n",
    "        2. Compute $$C[i_1, g_2, \\cdots, g_m]=\\sum_{i_2,\\cdots,i_m} A[i_1,i_2,\\cdots,i_m] U[i_2,g_2] \\cdots U[i_m,g_m], 1\\leq i_1,\\cdots,i_m \\leq N, 1\\leq g_2, \\cdots, g_m \\leq K.$$\n",
    "        3. Calculate the $K$ leading left singular vectors $(u_1,\\cdots,u_K)$ of $C^{(1)}$, the mode-1 matrization of $C$.\n",
    "        4. Repeat all steps above until convergence.\n",
    "2. Compute $b_i=u_{i+1}/u_1$, $i=1,\\cdots,K-1$.\n",
    "3. Partition the rows of the matrix $[b_1,\\cdots,b_{K-1}]$ with any clustering algorithm, e.g., k-means."
   ]
  },
  {
   "cell_type": "code",
   "execution_count": 7,
   "metadata": {},
   "outputs": [],
   "source": [
    "def hosvd(N,K,hyperedges,v0=None,N_dummies=0):\n",
    "    M=len(hyperedges)\n",
    "    m=len(hyperedges[0])\n",
    "    indices=Counter()\n",
    "    for i in range(M):\n",
    "        for j in range(i+1,M):\n",
    "            e1=set(hyperedges[i])\n",
    "            e2=set(hyperedges[j])\n",
    "            overlap=e1 & e2 \n",
    "            if len(overlap)==m-1:\n",
    "                u=(e1-overlap).pop()\n",
    "                v=(e2-overlap).pop()\n",
    "                indices.update([tuple(sorted([u,v]))])               \n",
    "    H=ssp.coo_matrix((list(indices.values()),zip(*(indices.keys()))),shape=(N+N_dummies,N+N_dummies),dtype=float)\n",
    "    H=H+H.T\n",
    "    if N_dummies>0:\n",
    "        H=H[:N,:]\n",
    "        H=H[:,:N]\n",
    "    _,U=eigsh(H,K,v0=v0)\n",
    "    return U\n",
    "\n",
    "def tucker_matrization(args,N,T,U):\n",
    "    j,km=args\n",
    "    col=np.zeros(N)\n",
    "    for e in T:\n",
    "        for i in e:\n",
    "            im=list(e)\n",
    "            im.remove(i)\n",
    "            for p in permutations(im):\n",
    "                col[i]+=U[p,km].prod()\n",
    "    return j,col\n",
    "    \n",
    "\n",
    "def tucker(N, K, T, U0,iterations=10, diagnose=True):\n",
    "    m=len(T[0])\n",
    "    U_prev=U0\n",
    "    U_new=U0\n",
    "    for iteration in range(iterations):\n",
    "        calc_col=partial(tucker_matrization,N=N,T=T,U=U_prev)\n",
    "        pool=Pool(cpu_count()-1)\n",
    "        T2=np.zeros([N, int(factorial(K+m-1-1) / factorial(m-1) / factorial(K-1))])\n",
    "        for j,col in pool.imap_unordered(calc_col, enumerate(combinations_with_replacement(range(K), m-1))):\n",
    "            T2[:,j]=col\n",
    "        pool.close()\n",
    "        pool.join()\n",
    "        U_new,_,_=ssp.linalg.svds(T2,k=K)\n",
    "        if diagnose:\n",
    "            print(\"Iteration: {}, Difference: {}\".format(iteration, np.linalg.norm(abs(U_new)-abs(U_prev))))\n",
    "        U_prev=U_new\n",
    "    return U_new\n",
    "\n",
    "def hyper_score(N,K,hyperedges,eigs=False,v0=None,iterations=10,diagnose=True):\n",
    "    U=hosvd(N,K,hyperedges,v0=v0)\n",
    "    U=tucker(N, K, hyperedges, U,iterations,diagnose)  \n",
    "    if eigs:\n",
    "        return U   \n",
    "    B = U[:,:-1]/U[:,-1].reshape(len(U),1)\n",
    "    return B"
   ]
  },
  {
   "cell_type": "code",
   "execution_count": 8,
   "metadata": {},
   "outputs": [],
   "source": [
    "def score(G,K,eigs=False,project='normalized'):\n",
    "    if project not in ['binary', 'sum', 'normalized']:\n",
    "        raise ValueError(\"Invalid projection type.\")\n",
    "    if project=='normalized':\n",
    "        d=G.sum(axis=1).A.flatten()\n",
    "        d=1/d\n",
    "        D=ssp.diags(d)\n",
    "        A=G.T*D*D*G\n",
    "    else:\n",
    "        A=G.T*G\n",
    "    if project is 'binary':\n",
    "        A.data=np.ones_like(A.data)\n",
    "    _,U=eigsh(A,K)\n",
    "    if eigs:\n",
    "        return U\n",
    "    B = U[:,:-1]/U[:,-1].reshape(len(U),1)\n",
    "    return B"
   ]
  },
  {
   "cell_type": "code",
   "execution_count": 9,
   "metadata": {},
   "outputs": [],
   "source": [
    "def homogenize(N,m,edges,max_size=None):\n",
    "    if max_size is None:\n",
    "        max_size=m\n",
    "    min_size=m\n",
    "    for e in edges:\n",
    "        if (len(e)!=1 and len(e)<min_size):\n",
    "            min_size=len(e)\n",
    "    dummies=np.ones(m-min_size)*N + np.arange(m-min_size)\n",
    "    dummies=tuple(dummies.astype(int))\n",
    "    newedges=set()\n",
    "    for e in edges:\n",
    "        if len(e)<=1 or len(e)>max_size:\n",
    "            continue\n",
    "        if len(e)>m:\n",
    "            for i in combinations(e,m):\n",
    "                newedges.add(i)\n",
    "        elif len(e)==m:\n",
    "            newedges.add(e)\n",
    "        else:\n",
    "            newedges.add(e+dummies[len(e)-min_size:])\n",
    "    return len(dummies), list(newedges)"
   ]
  },
  {
   "cell_type": "markdown",
   "metadata": {},
   "source": [
    "##  Synthetic Data"
   ]
  },
  {
   "cell_type": "code",
   "execution_count": 11,
   "metadata": {},
   "outputs": [],
   "source": [
    "N=100\n",
    "M=500\n",
    "m=3\n",
    "K=2\n",
    "comm=np.zeros(N)\n",
    "comm[50:]=1\n",
    "pwithin=0.9\n",
    "pbetween=0.1"
   ]
  },
  {
   "cell_type": "code",
   "execution_count": 12,
   "metadata": {},
   "outputs": [
    {
     "name": "stdout",
     "output_type": "stream",
     "text": [
      "between: 142, within: 360\n"
     ]
    }
   ],
   "source": [
    "edges = generate(N,M,m,comm,pwithin,pbetween)"
   ]
  },
  {
   "cell_type": "code",
   "execution_count": 13,
   "metadata": {},
   "outputs": [],
   "source": [
    "U0 = hosvd(N,K,edges)\n",
    "B0 = U0[:,:-1]/U0[:,-1].reshape(len(U0),1)"
   ]
  },
  {
   "cell_type": "code",
   "execution_count": 14,
   "metadata": {},
   "outputs": [
    {
     "data": {
      "image/png": "[encoded data removed]",
      "text/plain": [
       "<Figure size 432x288 with 1 Axes>"
      ]
     },
     "metadata": {},
     "output_type": "display_data"
    }
   ],
   "source": [
    "plt.plot(B0,'.');"
   ]
  },
  {
   "cell_type": "code",
   "execution_count": 15,
   "metadata": {},
   "outputs": [
    {
     "name": "stdout",
     "output_type": "stream",
     "text": [
      "Iteration: 0, Difference: 0.9270426661192044\n",
      "Iteration: 1, Difference: 0.535134656930826\n",
      "Iteration: 2, Difference: 0.3151250029512196\n",
      "Iteration: 3, Difference: 0.2134264977441332\n",
      "Iteration: 4, Difference: 0.14612157904035125\n",
      "Iteration: 5, Difference: 0.10359142837298295\n",
      "Iteration: 6, Difference: 0.07352265030365154\n",
      "Iteration: 7, Difference: 0.052851418611659255\n",
      "Iteration: 8, Difference: 0.037990618574828564\n",
      "Iteration: 9, Difference: 0.027471797572659957\n",
      "Iteration: 10, Difference: 0.0198732089011833\n",
      "Iteration: 11, Difference: 0.014427124316320455\n",
      "Iteration: 12, Difference: 0.010482489038745527\n",
      "Iteration: 13, Difference: 0.007636375688626572\n",
      "Iteration: 14, Difference: 0.005569769585865532\n",
      "Iteration: 15, Difference: 0.004071904716810508\n",
      "Iteration: 16, Difference: 0.002981281688477966\n",
      "Iteration: 17, Difference: 0.0021877796085315693\n",
      "Iteration: 18, Difference: 0.0016082065162064433\n",
      "Iteration: 19, Difference: 0.00118496151913995\n"
     ]
    }
   ],
   "source": [
    "B=hyper_score(N,K,edges,iterations=20)"
   ]
  },
  {
   "cell_type": "code",
   "execution_count": 16,
   "metadata": {},
   "outputs": [
    {
     "data": {
      "image/png": "[encoded data removed]",
      "text/plain": [
       "<Figure size 432x288 with 1 Axes>"
      ]
     },
     "metadata": {},
     "output_type": "display_data"
    }
   ],
   "source": [
    "plt.scatter(range(len(B)), B, s=30,c=comm, cmap=ListedColormap(sns.color_palette(\"Set2\", 2)));\n",
    "plt.xlabel('Node ID');\n",
    "plt.ylabel('R');"
   ]
  },
  {
   "cell_type": "code",
   "execution_count": 17,
   "metadata": {},
   "outputs": [],
   "source": [
    "G=get_incidence(edges)"
   ]
  },
  {
   "cell_type": "code",
   "execution_count": 18,
   "metadata": {},
   "outputs": [],
   "source": [
    "B2=score(G,K)"
   ]
  },
  {
   "cell_type": "code",
   "execution_count": 19,
   "metadata": {},
   "outputs": [
    {
     "data": {
      "image/png": "[encoded data removed]",
      "text/plain": [
       "<Figure size 432x288 with 1 Axes>"
      ]
     },
     "metadata": {},
     "output_type": "display_data"
    }
   ],
   "source": [
    "plt.scatter(range(len(B2)), B2, s=30,c=comm, cmap=ListedColormap(sns.color_palette(\"Set2\", 2)));"
   ]
  },
  {
   "cell_type": "markdown",
   "metadata": {},
   "source": [
    "## Real Data"
   ]
  },
  {
   "cell_type": "markdown",
   "metadata": {},
   "source": [
    "### Statistician Network"
   ]
  },
  {
   "cell_type": "markdown",
   "metadata": {},
   "source": [
    "* Edges: papers published in the statistics journals.\n",
    "* Nodes: authors of the papers."
   ]
  },
  {
   "cell_type": "code",
   "execution_count": 23,
   "metadata": {},
   "outputs": [],
   "source": [
    "G=load_edges('../Data/Statistician/statistician.tsv')\n",
    "node_names=pd.read_csv('../Data/Statistician/statistician_names.csv',sep='\\t')\n",
    "node_names.columns=['node_id','name']"
   ]
  },
  {
   "cell_type": "code",
   "execution_count": 24,
   "metadata": {},
   "outputs": [],
   "source": [
    "G2, nodes, _=largest_component(G,2)\n",
    "N=G2.shape[1]"
   ]
  },
  {
   "cell_type": "code",
   "execution_count": 25,
   "metadata": {},
   "outputs": [],
   "source": [
    "node_names=node_names.merge(pd.DataFrame({\"node_id\":nodes}), on='node_id')"
   ]
  },
  {
   "cell_type": "code",
   "execution_count": 26,
   "metadata": {},
   "outputs": [],
   "source": [
    "edges=get_hyperedges(G2)"
   ]
  },
  {
   "cell_type": "code",
   "execution_count": 27,
   "metadata": {},
   "outputs": [
    {
     "name": "stdout",
     "output_type": "stream",
     "text": [
      "Distribution of edge sizes:\n",
      "[(2, 207), (3, 124), (4, 20), (6, 1)]\n"
     ]
    }
   ],
   "source": [
    "print(\"Distribution of edge sizes:\")\n",
    "print(sorted(Counter([len(i) for i in edges]).items()))"
   ]
  },
  {
   "cell_type": "markdown",
   "metadata": {},
   "source": [
    "Add dummy nodes to make all edges of size $m$"
   ]
  },
  {
   "cell_type": "code",
   "execution_count": 28,
   "metadata": {},
   "outputs": [],
   "source": [
    "m=4\n",
    "dummies,regular_edges=homogenize(N,m,edges)"
   ]
  },
  {
   "cell_type": "markdown",
   "metadata": {},
   "source": [
    "Set the number of communities $K$ and do HOSVD"
   ]
  },
  {
   "cell_type": "code",
   "execution_count": 29,
   "metadata": {},
   "outputs": [],
   "source": [
    "K=3\n",
    "U0 = hosvd(N+dummies,K,regular_edges)\n",
    "B0 = U0[:,:-1]/U0[:,-1].reshape(len(U0),1)"
   ]
  },
  {
   "cell_type": "markdown",
   "metadata": {},
   "source": [
    "Visualization of HOSVD Result"
   ]
  },
  {
   "cell_type": "code",
   "execution_count": 30,
   "metadata": {},
   "outputs": [
    {
     "data": {
      "text/html": [
       "\n",
       "<div class=\"bk-root\">\n",
       "    <div class=\"bk-plotdiv\" id=\"3c48aa8e-0114-47e6-bf02-74ed9d8fb4e7\"></div>\n",
       "</div>"
      ]
     },
     "metadata": {},
     "output_type": "display_data"
    },
    {
     "data": {
      "application/javascript": [
       "(function(root) {\n",
       "  function embed_document(root) {\n",
       "    \n",
       "  var docs_json = {\"62384cf9-ef23-41fd-a1fb-4ae2230d967d\":{\"roots\":{\"references\":[{\"attributes\":{},\"id\":\"3a10974f-f3ea-4a2e-a643-804943acf80e\",\"type\":\"BasicTicker\"},{\"attributes\":{},\"id\":\"c83ab3ea-c904-4b26-a46a-c144e8751fc0\",\"type\":\"PanTool\"},{\"attributes\":{\"data_source\":{\"id\":\"6de8b984-7c95-46c1-a58e-0e6a31857ad4\",\"type\":\"ColumnDataSource\"},\"glyph\":{\"id\":\"4ff51b3f-7932-4b80-98d0-6290fb967d1d\",\"type\":\"Circle\"},\"hover_glyph\":null,\"muted_glyph\":null,\"nonselection_glyph\":{\"id\":\"0cd006fd-f9b4-4916-be36-02ea49401ca7\",\"type\":\"Circle\"},\"selection_glyph\":null,\"view\":{\"id\":\"47068bfb-f744-4365-b8c1-280d182aa3d7\",\"type\":\"CDSView\"}},\"id\":\"313474a7-3e51-4594-82f4-713fff4af7a2\",\"type\":\"GlyphRenderer\"},{\"attributes\":{},\"id\":\"305e7fca-57ba-4606-8972-7a693cb15225\",\"type\":\"HelpTool\"},{\"attributes\":{},\"id\":\"7e254e96-ec04-4e21-adf7-cf1409c7a95f\",\"type\":\"ResetTool\"},{\"attributes\":{\"formatter\":{\"id\":\"95d3ccc0-dd63-4ba5-8ec9-d65b1c2758d0\",\"type\":\"BasicTickFormatter\"},\"plot\":{\"id\":\"8e2a9933-7d80-4554-a1cd-54ed7c1875e9\",\"subtype\":\"Figure\",\"type\":\"Plot\"},\"ticker\":{\"id\":\"3a10974f-f3ea-4a2e-a643-804943acf80e\",\"type\":\"BasicTicker\"}},\"id\":\"fb1cbe68-c79e-425c-a084-f4c81f61f879\",\"type\":\"LinearAxis\"},{\"attributes\":{\"below\":[{\"id\":\"c3f35ed4-26e1-42b2-9999-beac8196302f\",\"type\":\"LinearAxis\"}],\"left\":[{\"id\":\"fb1cbe68-c79e-425c-a084-f4c81f61f879\",\"type\":\"LinearAxis\"}],\"plot_height\":500,\"plot_width\":750,\"renderers\":[{\"id\":\"c3f35ed4-26e1-42b2-9999-beac8196302f\",\"type\":\"LinearAxis\"},{\"id\":\"c8688c16-5a59-4a3b-bdf4-a94c6adad89f\",\"type\":\"Grid\"},{\"id\":\"fb1cbe68-c79e-425c-a084-f4c81f61f879\",\"type\":\"LinearAxis\"},{\"id\":\"f6f6dd2a-5c80-42c2-aebb-dc69c061f75a\",\"type\":\"Grid\"},{\"id\":\"7babd40d-1f7a-4d6f-bbee-004fa86a6cd3\",\"type\":\"BoxAnnotation\"},{\"id\":\"313474a7-3e51-4594-82f4-713fff4af7a2\",\"type\":\"GlyphRenderer\"}],\"title\":{\"id\":\"4a967436-0572-4e3a-b0ca-2ef4b06aeb94\",\"type\":\"Title\"},\"toolbar\":{\"id\":\"f6e14ba4-906d-4dbc-b3ea-0981dc516474\",\"type\":\"Toolbar\"},\"x_range\":{\"id\":\"d20b55a3-5ab7-425c-992f-b29b6d50b82b\",\"type\":\"DataRange1d\"},\"x_scale\":{\"id\":\"07bb92d0-030e-4fb1-8a2e-5b97cd87fcf8\",\"type\":\"LinearScale\"},\"y_range\":{\"id\":\"814e89fb-b328-4bf2-b65f-2db42bd1d440\",\"type\":\"DataRange1d\"},\"y_scale\":{\"id\":\"f48168bb-fbc3-4e40-8b98-eaf439ea3f24\",\"type\":\"LinearScale\"}},\"id\":\"8e2a9933-7d80-4554-a1cd-54ed7c1875e9\",\"subtype\":\"Figure\",\"type\":\"Plot\"},{\"attributes\":{\"overlay\":{\"id\":\"7babd40d-1f7a-4d6f-bbee-004fa86a6cd3\",\"type\":\"BoxAnnotation\"}},\"id\":\"19fa576e-a77e-4a05-ba4b-b017375c4212\",\"type\":\"BoxZoomTool\"},{\"attributes\":{},\"id\":\"95d3ccc0-dd63-4ba5-8ec9-d65b1c2758d0\",\"type\":\"BasicTickFormatter\"},{\"attributes\":{},\"id\":\"20a4b833-0bd0-48d0-8e57-2592864c8fe8\",\"type\":\"WheelZoomTool\"},{\"attributes\":{\"plot\":{\"id\":\"8e2a9933-7d80-4554-a1cd-54ed7c1875e9\",\"subtype\":\"Figure\",\"type\":\"Plot\"},\"ticker\":{\"id\":\"1e4ab394-0d81-4446-8ec0-7f0fa185ea4b\",\"type\":\"BasicTicker\"}},\"id\":\"c8688c16-5a59-4a3b-bdf4-a94c6adad89f\",\"type\":\"Grid\"},{\"attributes\":{},\"id\":\"22585488-96d8-470e-b9eb-c43eaf529f6e\",\"type\":\"SaveTool\"},{\"attributes\":{\"callback\":null,\"tooltips\":[[\"\",\"@desc\"]]},\"id\":\"7125ca0f-fc44-403b-93b5-bf6619f90844\",\"type\":\"HoverTool\"},{\"attributes\":{\"bottom_units\":\"screen\",\"fill_alpha\":{\"value\":0.5},\"fill_color\":{\"value\":\"lightgrey\"},\"left_units\":\"screen\",\"level\":\"overlay\",\"line_alpha\":{\"value\":1.0},\"line_color\":{\"value\":\"black\"},\"line_dash\":[4,4],\"line_width\":{\"value\":2},\"plot\":null,\"render_mode\":\"css\",\"right_units\":\"screen\",\"top_units\":\"screen\"},\"id\":\"7babd40d-1f7a-4d6f-bbee-004fa86a6cd3\",\"type\":\"BoxAnnotation\"},{\"attributes\":{},\"id\":\"c8ac1f5c-4b56-4b53-8de7-2ac3814fa1be\",\"type\":\"BasicTickFormatter\"},{\"attributes\":{\"fill_alpha\":{\"value\":0.1},\"fill_color\":{\"value\":\"#1f77b4\"},\"line_alpha\":{\"value\":0.1},\"line_color\":{\"value\":\"#1f77b4\"},\"size\":{\"field\":\"s\",\"units\":\"screen\"},\"x\":{\"field\":\"x\"},\"y\":{\"field\":\"y\"}},\"id\":\"0cd006fd-f9b4-4916-be36-02ea49401ca7\",\"type\":\"Circle\"},{\"attributes\":{\"active_drag\":\"auto\",\"active_inspect\":\"auto\",\"active_scroll\":\"auto\",\"active_tap\":\"auto\",\"tools\":[{\"id\":\"c83ab3ea-c904-4b26-a46a-c144e8751fc0\",\"type\":\"PanTool\"},{\"id\":\"20a4b833-0bd0-48d0-8e57-2592864c8fe8\",\"type\":\"WheelZoomTool\"},{\"id\":\"19fa576e-a77e-4a05-ba4b-b017375c4212\",\"type\":\"BoxZoomTool\"},{\"id\":\"22585488-96d8-470e-b9eb-c43eaf529f6e\",\"type\":\"SaveTool\"},{\"id\":\"7e254e96-ec04-4e21-adf7-cf1409c7a95f\",\"type\":\"ResetTool\"},{\"id\":\"305e7fca-57ba-4606-8972-7a693cb15225\",\"type\":\"HelpTool\"},{\"id\":\"7125ca0f-fc44-403b-93b5-bf6619f90844\",\"type\":\"HoverTool\"}]},\"id\":\"f6e14ba4-906d-4dbc-b3ea-0981dc516474\",\"type\":\"Toolbar\"},{\"attributes\":{\"callback\":null},\"id\":\"d20b55a3-5ab7-425c-992f-b29b6d50b82b\",\"type\":\"DataRange1d\"},{\"attributes\":{\"source\":{\"id\":\"6de8b984-7c95-46c1-a58e-0e6a31857ad4\",\"type\":\"ColumnDataSource\"}},\"id\":\"47068bfb-f744-4365-b8c1-280d182aa3d7\",\"type\":\"CDSView\"},{\"attributes\":{},\"id\":\"07bb92d0-030e-4fb1-8a2e-5b97cd87fcf8\",\"type\":\"LinearScale\"},{\"attributes\":{\"fill_alpha\":{\"value\":0.5},\"fill_color\":{\"value\":\"#1f77b4\"},\"line_color\":{\"value\":\"#1f77b4\"},\"size\":{\"field\":\"s\",\"units\":\"screen\"},\"x\":{\"field\":\"x\"},\"y\":{\"field\":\"y\"}},\"id\":\"4ff51b3f-7932-4b80-98d0-6290fb967d1d\",\"type\":\"Circle\"},{\"attributes\":{\"callback\":null,\"column_names\":[\"x\",\"y\",\"desc\",\"s\"],\"data\":{\"desc\":[\"Abel Rodriguez\",\"Alan E Gelfand\",\"Alexander Meister\",\"Amnon Neeman\",\"Amy H Herring\",\"Anastasios A Tsiatis\",\"Andrew O Finley\",\"Anirban Bhattacharya\",\"Anna Maria Siega-Riz\",\"Annie Qu\",\"Arnab Maity\",\"Aurore Delaigle\",\"Bani Mallick\",\"Bee Leng Lee\",\"Bent Nielsen\",\"Biao Zhang\",\"Bin Nan\",\"Bing-Yi Jing\",\"Bo Kai\",\"Bo Li\",\"Bradley P Carlin\",\"Bradley S Peterson\",\"Brian J Reich\",\"Bruce G Lindsay\",\"Byeong U Park\",\"C F Sirmans\",\"Celine Vial\",\"Cheng Yong Tang\",\"Chenlei Leng\",\"Chih-Ling Tsai\",\"Chiung-Yu Huang\",\"Chris C Holmes\",\"Christina Kendziorski\",\"Chunming Zhang\",\"Ci-Ren Jiang\",\"Clifford Lam\",\"Cun-Hui Zhang\",\"D Kuang\",\"D M Titterington\",\"Damla Senturk\",\"Dan Yu Lin\",\"Daniela M Witten\",\"David A Stephens\",\"David Dunson\",\"David L Donoho\",\"Dean A Follmann\",\"Debajyoti Sinha\",\"Debashis Paul\",\"Denis Heng-Yan Leung\",\"Dipak K Dey\",\"Donglin Zeng\",\"Emmanuel J Candes\",\"Enno Mammen\",\"Eric Bair\",\"Ery Arias-Castro\",\"Fang Yao\",\"Grace Wahba\",\"Guang Cheng\",\"Guohua Zou\",\"Guosheng Yin\",\"Haibo Zhou\",\"Hans-Georg Muller\",\"Hansheng Wang\",\"Hao Helen Zhang\",\"Hao Liu\",\"Harrison H Zhou\",\"Heng Peng\",\"Henghsiu Tsai\",\"Heping Zhang\",\"Hongtu Zhu\",\"Hongzhe Li\",\"Howell Tong\",\"Hsin-Cheng Huang\",\"Hua Liang\",\"Huazhen Lin\",\"Hugh Miller\",\"Hui Li\",\"Hui Zou\",\"Huiliang Xie\",\"Hulin Wu\",\"Ingrid Van Keilegom\",\"J S Marron\",\"Jacob Bien\",\"Jane-Ling Wang\",\"Jason P Fine\",\"Jean Jacod\",\"Jeffrey D Hart\",\"Jeffrey S Morris\",\"Jeng-Min Chiou\",\"Jens Perch Nielsen\",\"Jeongyoun Ahn\",\"Jerome H Friedman\",\"Jian Huang\",\"Jian Shi\",\"Jiancheng Jiang\",\"Jianhua Z Huang\",\"Jianqing Fan\",\"Jianwen Cai\",\"Jiashun Jin\",\"Jing-Hao Xue\",\"Jing Ning\",\"Jing Qin\",\"Joel L Horowitz\",\"John D Kalbfleisch\",\"Joseph G Ibrahim\",\"Ju-Hyun Park\",\"Jun Yan\",\"Junhui Wang\",\"Kani Chen\",\"Kehui Chen\",\"Kung-Sik Chan\",\"Kyusang Yu\",\"Lan Huang\",\"Lan Wang\",\"Lan Zhang\",\"Lan Zhou\",\"Lawrence Carin\",\"Lawrence D Brown\",\"Li Chen\",\"Liang Peng\",\"Lie Wang\",\"Limin Peng\",\"Malay Ghosh\",\"Marc G Genton\",\"Mark G Low\",\"Mei-Cheng Wang\",\"Menggang Yu\",\"Michael G Akritas\",\"Michael J Todd\",\"Michael Levine\",\"Michael R Kosorok\",\"Michael Sherman\",\"Michele Guindani\",\"Ming-Hui Chen\",\"Ming-Yen Cheng\",\"Ming Yuan\",\"Minggen Lu\",\"Naisyin Wang\",\"Neil Bathia\",\"Ngai Hang Chan\",\"Niansheng Tang\",\"Nilanjan Chatterjee\",\"Nils Chr Stenseth\",\"Noelle I Samia\",\"Pai-Ling Li\",\"Peide Shi\",\"Peihua Qiu\",\"Per Aslak Mykland\",\"Peter Hall\",\"Peter X-K Song\",\"Philip J Brown\",\"Ping-Shou Zhong\",\"Prasad A Naik\",\"Qi-Man Shao\",\"Qingxia Chen\",\"Qiwei Yao\",\"Ram C Tiwari\",\"Rasmus Waagepetersen\",\"Raymond J Carroll\",\"Richard Samworth\",\"Robert J Tibshirani\",\"Rui Song\",\"Runze Li\",\"Ryan T Elmore\",\"Shaojun Guo\",\"Shu-Chuan Chen\",\"Shuangge Ma\",\"Shubhankar Ray\",\"Shyamal Das Peddada\",\"Song Xi Chen\",\"Stefan Sperlich\",\"Stuart R Lipsitz\",\"Subharup Guha\",\"Sudipto Banerjee\",\"Sungduk Kim\",\"Sungkyu Jung\",\"Suojin Wang\",\"Surajit Ray\",\"T Tony Cai\",\"Tailen Hsing\",\"Tao Huang\",\"Tao Yu\",\"Tapabrata Maiti\",\"Tatiyana V Apanasovich\",\"Tiejun Tong\",\"Trevor J Hastie\",\"Tung Pham\",\"Ulrich Stadtmuller\",\"Vladimir Spokoiny\",\"Wang Zhou\",\"Wei Pan\",\"Weidong Liu\",\"Weili Lin\",\"Weiping Zhang\",\"Wenbin Lu\",\"Wenguang Sun\",\"Wenyang Zhang\",\"Wolfgang Karl Hardle\",\"X Jessie Jeng\",\"Xiang Liu\",\"Xiaotong Shen\",\"Xiaoyan Shi\",\"Xihong Lin\",\"Xin-Bing Kong\",\"Xinyu Zhang\",\"Yacine Ait-Sahalia\",\"Yan Sun\",\"Yang Feng\",\"Yaniv Plan\",\"Yanyuan Ma\",\"Yao-Ban Chan\",\"Yehua Li\",\"Yi-Hau Chen\",\"Yi Li\",\"Yi Lin\",\"Yichao Wu\",\"Yijian Huang\",\"Yimei Li\",\"Ying-Li Qin\",\"Ying Chen\",\"Ying Wei\",\"Ying Yuan\",\"Ying Zhang\",\"Yingcun Xia\",\"Yingying Fan\",\"Yong Zhou\",\"Yongho Jeon\",\"Yongtao Guan\",\"Yu Cheng\",\"Yu Shen\",\"Yuedong Wang\",\"Yufeng Liu\",\"Zhezhen Jin\",\"Zhi Liu\",\"Zhiliang Ying\",\"Zonghui Hu\"],\"s\":{\"__ndarray__\":\"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\",\"dtype\":\"float64\",\"shape\":[236]},\"x\":{\"__ndarray__\":\"6AS4fW++E0BYS5jNq+0QQMt7iVU/hIU/nVB0/EO4EkAl0APWtMIWQGSMbQVz5t4/9z7kGZkHDkB5DcXU1xVEQKBQdPxDuBJAWiVWthgbGMDeZnmNZNMHQJnUo0k+AfI/zxsIbrVs27+MNAHomRzsvw5qwyYkUSxAIzPqvLbvGMB/IbwXWT35vzxovBEkt2jAAhsOaLjyDkD4tWJClR4OQJN2q32WvR3AXksciSxvFMAZ8DZjLesIwB9g/1s17uA/9/gOTPWC8z9P4j0YMs0QQDBZnqIVH8K/4HGojMDDGcBVW3Ej+wkGwAnjriQVrwXAhdMgsBXdEkAYObQzrFjwv7eaGOyuwLS/dGVtVmpo0r9nFR0WBM0rQIimEi30J80/XIUOCJVKB0DBvpJoticjQKBQdPxDuBJAneGB6NBl578IaNw5XXMCwNPPXBqEWgNA+UnZDQcC6z/WkamUrBwYwJZMpSBRB4G/oFB0/EO4EkBt5y5YcKkQQKkTVO928TxAnVB0/EO4EkAni76SFBEZwHn+D3EVDRBAck1MfxPFkD8Okxb/Tl77P1EAr1XxJyJAnLNjoBPHAUDnFlLQwoP2P3lTwFGqjAlAddeKMfKZ/L8cljNcIgQRQC8iyyRvPOE/FVJ64ZdXCEBWQx1/e8ubP0u7MRtuexBAzVUCwQO+CkAhbp01s2YHQA8tslkPbsu/gLQORwMl3j8jxChPsWUZwLAY3VpH2wpAjH0mdiPQEEBy23xTJcXrP+LMRQlwyw3AzQmBQG66DUDbJLo1frv5P/bcuq2QJSNAOFmeohUfwr/3IGJP+/Lwv75wPYZa3v8/BjjrA+mP2L9F5NPTGs/jv84QwYPfu8C/7IODf6qjnr+4z1wahFoDQKDD/KSucgdAfbS9F8sWB0CZCrr3I5MAwG/oPEiaSN4/Ryv9L9Yx5b+DPkieNxDpvxHdZnZg8OW/cPgHFaDGEECXlKfGRWgVwDbi5bU48/G/DawSrfy6DUAOjWINncj2PyVHuU2CP+W/9HcjBcbQ8j8x2+eI9Jbkv4Eicp7QFNA/HlmeohUfwr+WUHT8Q7gSQArKPFcjt+4/P78kB/9u0r/tE1VOU70nQD+Ev8ZEpg5AiF5Vv9vzGUD+KLoS6dLav6dQdPxDuBJAzjKN8UnR/L9+PkieNxDpv6mhGbmXUITAxX7W7S4LEEB4lPieW/kIQIHSMyonONO/T45gDGp/CEBpZmrW/QklQKXQhdGPjRDAC9vuX8ILBkDWyfbjIQYQQPhmh0FhEPI/aU/cDAqq2b9HeR5TQHD5P+Kg9UCgLLk/hPPmQGPknT9lSk36+WPxP5DlqNdGRwXA6iwqJEnHT0AHem3ibCfov6BQdPxDuBJAUtTzuhio6j9lHptJtK4NQGonh8XpkBnAlRtTcQxUVUASz69QKUzaPzDgl9Wy0MK/8tdEby1s8r+Gnt49Z04qQOodqR2NWvk/Wx7q20sf7T+pwO3NuQDeP29rrDLrjw5ATkv+0Txu6r9mbYwA0/MQQFttjADT8xBA7TEedFxfq7+gUHT8Q7gSQN29IiGqpZs/pgq69yOTAMCytNZozEHLP2lh/1s17uA/6x2pHY1a+T9X2ckNTysJwFu/+1qvbAXADaFug2ehB0B/W4PjYvnwv/PiwAhha9O//r+JBZv+D0DcJofF6ZAZwGC4+uNuquw/IFmeohUfwr9yMFO1CFcQQCTsSFEaG+E/9hAveQl0wj/CLqGCQxLCvzLP0nG12+U/9Fz09NTYEEAVyX7edFwJQBM5tDOsWPC/IZw0J9LEQEDkNddD6E4QQCoc0W+viAFAe8fcZhB5IUDyv4kFm/4PQEXCuNXaRD1ANYu+khQRGcBZ+QcVoMYQQNnb1aqUS+W/+1z09NTYEECrXFRA81/LvxyH50Bb7ybAeMpnUrtGDkBRpgA5hYIBQI1p88tCj8K/Xk7yON5M57+BUiyT7Dr8v2XdcwRS+PW/J1meohUfwr/DMwANumPwP0jrGfTE19q/Nkjs2fgXMkA46hi4FskRQGxP3AwKqtm/e6bHjrrNI0DIoIs5sTcbwN/DR54mQvC/eU/cDAqq2b+erQqZxQLovz7Vpeg/DAlAXqIyA2UDEUBQXrEovvj0P3hQ7bm17+y/6/Dk1NQUDkCoxDd4Pevuv5oR2m77+zNAVeTT0xrP47/YMJJrZPf9P8rxyZWlwhJAYpPib2Tz+D/ntVq0gWYQQFGvequkAtw/OFmeohUfwr9EzPdlDfYEwO4dqR2NWvk/TLqhWgFc+b+bCxHhYxHbvw6x/m+qJuE/8ICu9THkFsDaxn6T1mQWQPDdNMG5+wHAbnVJZPJWEMCVP1FlieLsP6aNF5XCIOW/oFB0/EO4EkDYpnTGyxMTwMdjE6RLHNs/Dl3jegRj9L+qg+R1t2UMwKKfWhXzSRdAzCi6EunS2r9Fixv6Ld4EwIw/UWWJ4uw/KHGM9jcLA8CxIkSmo04iQGpue3blzT5AXgci2vOWEsCXI8ZNMbAAQA==\",\"dtype\":\"float64\",\"shape\":[236]},\"y\":{\"__ndarray__\":\"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\",\"dtype\":\"float64\",\"shape\":[236]}}},\"id\":\"6de8b984-7c95-46c1-a58e-0e6a31857ad4\",\"type\":\"ColumnDataSource\"},{\"attributes\":{\"plot\":null,\"text\":\"\"},\"id\":\"4a967436-0572-4e3a-b0ca-2ef4b06aeb94\",\"type\":\"Title\"},{\"attributes\":{\"formatter\":{\"id\":\"c8ac1f5c-4b56-4b53-8de7-2ac3814fa1be\",\"type\":\"BasicTickFormatter\"},\"plot\":{\"id\":\"8e2a9933-7d80-4554-a1cd-54ed7c1875e9\",\"subtype\":\"Figure\",\"type\":\"Plot\"},\"ticker\":{\"id\":\"1e4ab394-0d81-4446-8ec0-7f0fa185ea4b\",\"type\":\"BasicTicker\"}},\"id\":\"c3f35ed4-26e1-42b2-9999-beac8196302f\",\"type\":\"LinearAxis\"},{\"attributes\":{\"callback\":null},\"id\":\"814e89fb-b328-4bf2-b65f-2db42bd1d440\",\"type\":\"DataRange1d\"},{\"attributes\":{\"dimension\":1,\"plot\":{\"id\":\"8e2a9933-7d80-4554-a1cd-54ed7c1875e9\",\"subtype\":\"Figure\",\"type\":\"Plot\"},\"ticker\":{\"id\":\"3a10974f-f3ea-4a2e-a643-804943acf80e\",\"type\":\"BasicTicker\"}},\"id\":\"f6f6dd2a-5c80-42c2-aebb-dc69c061f75a\",\"type\":\"Grid\"},{\"attributes\":{},\"id\":\"f48168bb-fbc3-4e40-8b98-eaf439ea3f24\",\"type\":\"LinearScale\"},{\"attributes\":{},\"id\":\"1e4ab394-0d81-4446-8ec0-7f0fa185ea4b\",\"type\":\"BasicTicker\"}],\"root_ids\":[\"8e2a9933-7d80-4554-a1cd-54ed7c1875e9\"]},\"title\":\"Bokeh Application\",\"version\":\"0.12.13\"}};\n",
       "  var render_items = [{\"docid\":\"62384cf9-ef23-41fd-a1fb-4ae2230d967d\",\"elementid\":\"3c48aa8e-0114-47e6-bf02-74ed9d8fb4e7\",\"modelid\":\"8e2a9933-7d80-4554-a1cd-54ed7c1875e9\"}];\n",
       "  root.Bokeh.embed.embed_items_notebook(docs_json, render_items);\n",
       "\n",
       "  }\n",
       "  if (root.Bokeh !== undefined) {\n",
       "    embed_document(root);\n",
       "  } else {\n",
       "    var attempts = 0;\n",
       "    var timer = setInterval(function(root) {\n",
       "      if (root.Bokeh !== undefined) {\n",
       "        embed_document(root);\n",
       "        clearInterval(timer);\n",
       "      }\n",
       "      attempts++;\n",
       "      if (attempts > 100) {\n",
       "        console.log(\"Bokeh: ERROR: Unable to run BokehJS code because BokehJS library is missing\")\n",
       "        clearInterval(timer);\n",
       "      }\n",
       "    }, 10, root)\n",
       "  }\n",
       "})(window);"
      ],
      "application/vnd.bokehjs_exec.v0+json": ""
     },
     "metadata": {
      "application/vnd.bokehjs_exec.v0+json": {
       "id": "8e2a9933-7d80-4554-a1cd-54ed7c1875e9"
      }
     },
     "output_type": "display_data"
    }
   ],
   "source": [
    "source = ColumnDataSource(\n",
    "        data=dict(\n",
    "            x=B0[:N,0],\n",
    "            y=B0[:N,1],\n",
    "            desc=node_names['name'],\n",
    "            s=np.log(G2.sum(axis=0).A.ravel()+1)*5\n",
    "        )\n",
    "    )\n",
    "\n",
    "hover = HoverTool(\n",
    "        tooltips=[\n",
    "            (\"\", \"@desc\"),\n",
    "        ]\n",
    "    )\n",
    "\n",
    "p = figure(plot_width=750, plot_height=500)\n",
    "\n",
    "p.circle('x', 'y', size='s', source=source, fill_alpha=0.5)\n",
    "p.add_tools(hover)\n",
    "show(p)"
   ]
  },
  {
   "cell_type": "markdown",
   "metadata": {},
   "source": [
    "Full Tucker decomposition"
   ]
  },
  {
   "cell_type": "code",
   "execution_count": 31,
   "metadata": {},
   "outputs": [
    {
     "name": "stdout",
     "output_type": "stream",
     "text": [
      "Iteration: 0, Difference: 2.0416923786738703\n",
      "Iteration: 1, Difference: 2.147050862591479\n",
      "Iteration: 2, Difference: 2.3358127735809386\n",
      "Iteration: 3, Difference: 2.2976960198376863\n",
      "Iteration: 4, Difference: 2.2331475123955915\n",
      "Iteration: 5, Difference: 2.0393607284004216\n",
      "Iteration: 6, Difference: 1.0518379749105622\n",
      "Iteration: 7, Difference: 1.0125450412398902\n",
      "Iteration: 8, Difference: 0.9526473575797769\n",
      "Iteration: 9, Difference: 0.921116265138677\n",
      "Iteration: 10, Difference: 0.8931980081341686\n",
      "Iteration: 11, Difference: 0.9936032946714622\n",
      "Iteration: 12, Difference: 0.962586748471463\n",
      "Iteration: 13, Difference: 0.8394179541206633\n",
      "Iteration: 14, Difference: 1.057230002572051\n",
      "Iteration: 15, Difference: 0.8384398158899286\n",
      "Iteration: 16, Difference: 0.7560899357881384\n",
      "Iteration: 17, Difference: 0.7606341110882837\n",
      "Iteration: 18, Difference: 0.80435736659905\n",
      "Iteration: 19, Difference: 1.067920242103396\n"
     ]
    },
    {
     "name": "stderr",
     "output_type": "stream",
     "text": [
      "/home/bill10/anaconda3/lib/python3.6/site-packages/ipykernel_launcher.py:57: RuntimeWarning: invalid value encountered in true_divide\n"
     ]
    }
   ],
   "source": [
    "B=hyper_score(N+dummies,K,regular_edges,iterations=20)"
   ]
  },
  {
   "cell_type": "markdown",
   "metadata": {},
   "source": [
    "Visualization of Tucker result"
   ]
  },
  {
   "cell_type": "code",
   "execution_count": 32,
   "metadata": {},
   "outputs": [
    {
     "data": {
      "text/html": [
       "\n",
       "<div class=\"bk-root\">\n",
       "    <div class=\"bk-plotdiv\" id=\"27b0c1ed-c684-4636-8b29-1432330c2b12\"></div>\n",
       "</div>"
      ]
     },
     "metadata": {},
     "output_type": "display_data"
    },
    {
     "data": {
      "application/javascript": [
       "(function(root) {\n",
       "  function embed_document(root) {\n",
       "    \n",
       "  var docs_json = {\"441cae5a-bd33-483d-a798-7cf88755a3af\":{\"roots\":{\"references\":[{\"attributes\":{},\"id\":\"9b13e83b-edcc-4cad-8609-0055c9323052\",\"type\":\"WheelZoomTool\"},{\"attributes\":{\"formatter\":{\"id\":\"9a078543-ab13-407a-b733-7ce8dc14f2d8\",\"type\":\"BasicTickFormatter\"},\"plot\":{\"id\":\"7c6f5fc4-22f7-486f-9627-447c98f3a10b\",\"subtype\":\"Figure\",\"type\":\"Plot\"},\"ticker\":{\"id\":\"f21c427f-c1cf-47eb-acfb-616d2cc57958\",\"type\":\"BasicTicker\"}},\"id\":\"97304754-e93e-4f0d-ba5f-44e806f1c53f\",\"type\":\"LinearAxis\"},{\"attributes\":{\"fill_alpha\":{\"value\":0.1},\"fill_color\":{\"value\":\"#1f77b4\"},\"line_alpha\":{\"value\":0.1},\"line_color\":{\"value\":\"#1f77b4\"},\"size\":{\"field\":\"s\",\"units\":\"screen\"},\"x\":{\"field\":\"x\"},\"y\":{\"field\":\"y\"}},\"id\":\"1d9cfefa-b712-4195-ab8e-c85f60a490ff\",\"type\":\"Circle\"},{\"attributes\":{\"active_drag\":\"auto\",\"active_inspect\":\"auto\",\"active_scroll\":\"auto\",\"active_tap\":\"auto\",\"tools\":[{\"id\":\"966c10f1-f9ca-4503-8376-b2ff2ba5278b\",\"type\":\"PanTool\"},{\"id\":\"9b13e83b-edcc-4cad-8609-0055c9323052\",\"type\":\"WheelZoomTool\"},{\"id\":\"fe3c108e-174a-4bed-bea1-4fc33234b552\",\"type\":\"BoxZoomTool\"},{\"id\":\"f2ed1cf3-6a43-4217-8f52-02cac9a2111e\",\"type\":\"SaveTool\"},{\"id\":\"554e0a5a-a01d-4101-a9c6-bfa7392a2e1a\",\"type\":\"ResetTool\"},{\"id\":\"3ef73a86-c758-495f-8247-b9ef89ff6ef1\",\"type\":\"HelpTool\"},{\"id\":\"5305d3d7-5bfb-4000-a5f4-bc34ae6baf03\",\"type\":\"HoverTool\"}]},\"id\":\"d86c2334-f17b-4415-b4bd-b81de30155e9\",\"type\":\"Toolbar\"},{\"attributes\":{\"formatter\":{\"id\":\"2586f98f-e272-4fe6-8d06-434361d891df\",\"type\":\"BasicTickFormatter\"},\"plot\":{\"id\":\"7c6f5fc4-22f7-486f-9627-447c98f3a10b\",\"subtype\":\"Figure\",\"type\":\"Plot\"},\"ticker\":{\"id\":\"29d550f1-ea4a-4b9b-a5f9-736560ed7654\",\"type\":\"BasicTicker\"}},\"id\":\"0ef35927-4794-45ff-9c84-a004c98c4021\",\"type\":\"LinearAxis\"},{\"attributes\":{},\"id\":\"3ef73a86-c758-495f-8247-b9ef89ff6ef1\",\"type\":\"HelpTool\"},{\"attributes\":{\"callback\":null,\"tooltips\":[[\"\",\"@desc\"]]},\"id\":\"5305d3d7-5bfb-4000-a5f4-bc34ae6baf03\",\"type\":\"HoverTool\"},{\"attributes\":{\"bottom_units\":\"screen\",\"fill_alpha\":{\"value\":0.5},\"fill_color\":{\"value\":\"lightgrey\"},\"left_units\":\"screen\",\"level\":\"overlay\",\"line_alpha\":{\"value\":1.0},\"line_color\":{\"value\":\"black\"},\"line_dash\":[4,4],\"line_width\":{\"value\":2},\"plot\":null,\"render_mode\":\"css\",\"right_units\":\"screen\",\"top_units\":\"screen\"},\"id\":\"e978d25c-af22-4622-8389-6e19de423126\",\"type\":\"BoxAnnotation\"},{\"attributes\":{\"source\":{\"id\":\"c66b0e89-467b-440b-af90-bd1df07a4acb\",\"type\":\"ColumnDataSource\"}},\"id\":\"ad8d5158-1134-460b-8271-0a9b32522cdf\",\"type\":\"CDSView\"},{\"attributes\":{},\"id\":\"f21c427f-c1cf-47eb-acfb-616d2cc57958\",\"type\":\"BasicTicker\"},{\"attributes\":{},\"id\":\"2586f98f-e272-4fe6-8d06-434361d891df\",\"type\":\"BasicTickFormatter\"},{\"attributes\":{},\"id\":\"9a078543-ab13-407a-b733-7ce8dc14f2d8\",\"type\":\"BasicTickFormatter\"},{\"attributes\":{\"callback\":null},\"id\":\"ba1ae004-da50-4a87-b9c0-3ac3c8766c1a\",\"type\":\"DataRange1d\"},{\"attributes\":{\"below\":[{\"id\":\"97304754-e93e-4f0d-ba5f-44e806f1c53f\",\"type\":\"LinearAxis\"}],\"left\":[{\"id\":\"0ef35927-4794-45ff-9c84-a004c98c4021\",\"type\":\"LinearAxis\"}],\"plot_height\":500,\"plot_width\":750,\"renderers\":[{\"id\":\"97304754-e93e-4f0d-ba5f-44e806f1c53f\",\"type\":\"LinearAxis\"},{\"id\":\"a96a4114-9a10-4c3b-8579-ce4c35d6b26e\",\"type\":\"Grid\"},{\"id\":\"0ef35927-4794-45ff-9c84-a004c98c4021\",\"type\":\"LinearAxis\"},{\"id\":\"c77af1fb-631f-4512-a635-3c398b4120ce\",\"type\":\"Grid\"},{\"id\":\"e978d25c-af22-4622-8389-6e19de423126\",\"type\":\"BoxAnnotation\"},{\"id\":\"f2e8e110-5486-4584-bb99-ca45019e35d3\",\"type\":\"GlyphRenderer\"}],\"title\":{\"id\":\"65a08862-1bf7-4e0a-a9db-27195f10127b\",\"type\":\"Title\"},\"toolbar\":{\"id\":\"d86c2334-f17b-4415-b4bd-b81de30155e9\",\"type\":\"Toolbar\"},\"x_range\":{\"id\":\"2252a9a9-f6c5-4013-b4b5-c51f6f4b294e\",\"type\":\"DataRange1d\"},\"x_scale\":{\"id\":\"bde3b62c-ef5f-4aa0-8a54-313ac150948a\",\"type\":\"LinearScale\"},\"y_range\":{\"id\":\"ba1ae004-da50-4a87-b9c0-3ac3c8766c1a\",\"type\":\"DataRange1d\"},\"y_scale\":{\"id\":\"ae98aa7c-01ad-4594-bf6d-a275833d5ec1\",\"type\":\"LinearScale\"}},\"id\":\"7c6f5fc4-22f7-486f-9627-447c98f3a10b\",\"subtype\":\"Figure\",\"type\":\"Plot\"},{\"attributes\":{},\"id\":\"554e0a5a-a01d-4101-a9c6-bfa7392a2e1a\",\"type\":\"ResetTool\"},{\"attributes\":{},\"id\":\"ae98aa7c-01ad-4594-bf6d-a275833d5ec1\",\"type\":\"LinearScale\"},{\"attributes\":{\"dimension\":1,\"plot\":{\"id\":\"7c6f5fc4-22f7-486f-9627-447c98f3a10b\",\"subtype\":\"Figure\",\"type\":\"Plot\"},\"ticker\":{\"id\":\"29d550f1-ea4a-4b9b-a5f9-736560ed7654\",\"type\":\"BasicTicker\"}},\"id\":\"c77af1fb-631f-4512-a635-3c398b4120ce\",\"type\":\"Grid\"},{\"attributes\":{\"data_source\":{\"id\":\"c66b0e89-467b-440b-af90-bd1df07a4acb\",\"type\":\"ColumnDataSource\"},\"glyph\":{\"id\":\"1a729aff-ae08-4752-b1ca-e7687b4c44d6\",\"type\":\"Circle\"},\"hover_glyph\":null,\"muted_glyph\":null,\"nonselection_glyph\":{\"id\":\"1d9cfefa-b712-4195-ab8e-c85f60a490ff\",\"type\":\"Circle\"},\"selection_glyph\":null,\"view\":{\"id\":\"ad8d5158-1134-460b-8271-0a9b32522cdf\",\"type\":\"CDSView\"}},\"id\":\"f2e8e110-5486-4584-bb99-ca45019e35d3\",\"type\":\"GlyphRenderer\"},{\"attributes\":{\"plot\":{\"id\":\"7c6f5fc4-22f7-486f-9627-447c98f3a10b\",\"subtype\":\"Figure\",\"type\":\"Plot\"},\"ticker\":{\"id\":\"f21c427f-c1cf-47eb-acfb-616d2cc57958\",\"type\":\"BasicTicker\"}},\"id\":\"a96a4114-9a10-4c3b-8579-ce4c35d6b26e\",\"type\":\"Grid\"},{\"attributes\":{\"callback\":null,\"column_names\":[\"x\",\"y\",\"desc\",\"s\"],\"data\":{\"desc\":[\"Abel Rodriguez\",\"Alan E Gelfand\",\"Alexander Meister\",\"Amnon Neeman\",\"Amy H Herring\",\"Anastasios A Tsiatis\",\"Andrew O Finley\",\"Anirban Bhattacharya\",\"Anna Maria Siega-Riz\",\"Annie Qu\",\"Arnab Maity\",\"Aurore Delaigle\",\"Bani Mallick\",\"Bee Leng Lee\",\"Bent Nielsen\",\"Biao Zhang\",\"Bin Nan\",\"Bing-Yi Jing\",\"Bo Kai\",\"Bo Li\",\"Bradley P Carlin\",\"Bradley S Peterson\",\"Brian J Reich\",\"Bruce G Lindsay\",\"Byeong U Park\",\"C F Sirmans\",\"Celine Vial\",\"Cheng Yong Tang\",\"Chenlei Leng\",\"Chih-Ling Tsai\",\"Chiung-Yu Huang\",\"Chris C Holmes\",\"Christina Kendziorski\",\"Chunming Zhang\",\"Ci-Ren Jiang\",\"Clifford Lam\",\"Cun-Hui Zhang\",\"D Kuang\",\"D M Titterington\",\"Damla Senturk\",\"Dan Yu Lin\",\"Daniela M Witten\",\"David A Stephens\",\"David Dunson\",\"David L Donoho\",\"Dean A Follmann\",\"Debajyoti Sinha\",\"Debashis Paul\",\"Denis Heng-Yan Leung\",\"Dipak K Dey\",\"Donglin Zeng\",\"Emmanuel J Candes\",\"Enno Mammen\",\"Eric Bair\",\"Ery Arias-Castro\",\"Fang Yao\",\"Grace Wahba\",\"Guang Cheng\",\"Guohua Zou\",\"Guosheng Yin\",\"Haibo Zhou\",\"Hans-Georg Muller\",\"Hansheng Wang\",\"Hao Helen Zhang\",\"Hao Liu\",\"Harrison H Zhou\",\"Heng Peng\",\"Henghsiu Tsai\",\"Heping Zhang\",\"Hongtu Zhu\",\"Hongzhe Li\",\"Howell Tong\",\"Hsin-Cheng Huang\",\"Hua Liang\",\"Huazhen Lin\",\"Hugh Miller\",\"Hui Li\",\"Hui Zou\",\"Huiliang Xie\",\"Hulin Wu\",\"Ingrid Van Keilegom\",\"J S Marron\",\"Jacob Bien\",\"Jane-Ling Wang\",\"Jason P Fine\",\"Jean Jacod\",\"Jeffrey D Hart\",\"Jeffrey S Morris\",\"Jeng-Min Chiou\",\"Jens Perch Nielsen\",\"Jeongyoun Ahn\",\"Jerome H Friedman\",\"Jian Huang\",\"Jian Shi\",\"Jiancheng Jiang\",\"Jianhua Z Huang\",\"Jianqing Fan\",\"Jianwen Cai\",\"Jiashun Jin\",\"Jing-Hao Xue\",\"Jing Ning\",\"Jing Qin\",\"Joel L Horowitz\",\"John D Kalbfleisch\",\"Joseph G Ibrahim\",\"Ju-Hyun Park\",\"Jun Yan\",\"Junhui Wang\",\"Kani Chen\",\"Kehui Chen\",\"Kung-Sik Chan\",\"Kyusang Yu\",\"Lan Huang\",\"Lan Wang\",\"Lan Zhang\",\"Lan Zhou\",\"Lawrence Carin\",\"Lawrence D Brown\",\"Li Chen\",\"Liang Peng\",\"Lie Wang\",\"Limin Peng\",\"Malay Ghosh\",\"Marc G Genton\",\"Mark G Low\",\"Mei-Cheng Wang\",\"Menggang Yu\",\"Michael G Akritas\",\"Michael J Todd\",\"Michael Levine\",\"Michael R Kosorok\",\"Michael Sherman\",\"Michele Guindani\",\"Ming-Hui Chen\",\"Ming-Yen Cheng\",\"Ming Yuan\",\"Minggen Lu\",\"Naisyin Wang\",\"Neil Bathia\",\"Ngai Hang Chan\",\"Niansheng Tang\",\"Nilanjan Chatterjee\",\"Nils Chr Stenseth\",\"Noelle I Samia\",\"Pai-Ling Li\",\"Peide Shi\",\"Peihua Qiu\",\"Per Aslak Mykland\",\"Peter Hall\",\"Peter X-K Song\",\"Philip J Brown\",\"Ping-Shou Zhong\",\"Prasad A Naik\",\"Qi-Man Shao\",\"Qingxia Chen\",\"Qiwei Yao\",\"Ram C Tiwari\",\"Rasmus Waagepetersen\",\"Raymond J Carroll\",\"Richard Samworth\",\"Robert J Tibshirani\",\"Rui Song\",\"Runze Li\",\"Ryan T Elmore\",\"Shaojun Guo\",\"Shu-Chuan Chen\",\"Shuangge Ma\",\"Shubhankar Ray\",\"Shyamal Das Peddada\",\"Song Xi Chen\",\"Stefan Sperlich\",\"Stuart R Lipsitz\",\"Subharup Guha\",\"Sudipto Banerjee\",\"Sungduk Kim\",\"Sungkyu Jung\",\"Suojin Wang\",\"Surajit Ray\",\"T Tony Cai\",\"Tailen Hsing\",\"Tao Huang\",\"Tao Yu\",\"Tapabrata Maiti\",\"Tatiyana V Apanasovich\",\"Tiejun Tong\",\"Trevor J Hastie\",\"Tung Pham\",\"Ulrich Stadtmuller\",\"Vladimir Spokoiny\",\"Wang Zhou\",\"Wei Pan\",\"Weidong Liu\",\"Weili Lin\",\"Weiping Zhang\",\"Wenbin Lu\",\"Wenguang Sun\",\"Wenyang Zhang\",\"Wolfgang Karl Hardle\",\"X Jessie Jeng\",\"Xiang Liu\",\"Xiaotong Shen\",\"Xiaoyan Shi\",\"Xihong Lin\",\"Xin-Bing Kong\",\"Xinyu Zhang\",\"Yacine Ait-Sahalia\",\"Yan Sun\",\"Yang Feng\",\"Yaniv Plan\",\"Yanyuan Ma\",\"Yao-Ban Chan\",\"Yehua Li\",\"Yi-Hau Chen\",\"Yi Li\",\"Yi Lin\",\"Yichao Wu\",\"Yijian Huang\",\"Yimei Li\",\"Ying-Li Qin\",\"Ying Chen\",\"Ying Wei\",\"Ying Yuan\",\"Ying Zhang\",\"Yingcun Xia\",\"Yingying Fan\",\"Yong Zhou\",\"Yongho Jeon\",\"Yongtao Guan\",\"Yu Cheng\",\"Yu Shen\",\"Yuedong Wang\",\"Yufeng Liu\",\"Zhezhen Jin\",\"Zhi Liu\",\"Zhiliang Ying\",\"Zonghui Hu\"],\"s\":{\"__ndarray__\":\"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\",\"dtype\":\"float64\",\"shape\":[236]},\"x\":{\"__ndarray__\":\"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\",\"dtype\":\"float64\",\"shape\":[236]},\"y\":{\"__ndarray__\":\"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\",\"dtype\":\"float64\",\"shape\":[236]}}},\"id\":\"c66b0e89-467b-440b-af90-bd1df07a4acb\",\"type\":\"ColumnDataSource\"},{\"attributes\":{},\"id\":\"f2ed1cf3-6a43-4217-8f52-02cac9a2111e\",\"type\":\"SaveTool\"},{\"attributes\":{\"overlay\":{\"id\":\"e978d25c-af22-4622-8389-6e19de423126\",\"type\":\"BoxAnnotation\"}},\"id\":\"fe3c108e-174a-4bed-bea1-4fc33234b552\",\"type\":\"BoxZoomTool\"},{\"attributes\":{\"plot\":null,\"text\":\"\"},\"id\":\"65a08862-1bf7-4e0a-a9db-27195f10127b\",\"type\":\"Title\"},{\"attributes\":{\"callback\":null},\"id\":\"2252a9a9-f6c5-4013-b4b5-c51f6f4b294e\",\"type\":\"DataRange1d\"},{\"attributes\":{\"fill_alpha\":{\"value\":0.5},\"fill_color\":{\"value\":\"#1f77b4\"},\"line_color\":{\"value\":\"#1f77b4\"},\"size\":{\"field\":\"s\",\"units\":\"screen\"},\"x\":{\"field\":\"x\"},\"y\":{\"field\":\"y\"}},\"id\":\"1a729aff-ae08-4752-b1ca-e7687b4c44d6\",\"type\":\"Circle\"},{\"attributes\":{},\"id\":\"29d550f1-ea4a-4b9b-a5f9-736560ed7654\",\"type\":\"BasicTicker\"},{\"attributes\":{},\"id\":\"bde3b62c-ef5f-4aa0-8a54-313ac150948a\",\"type\":\"LinearScale\"},{\"attributes\":{},\"id\":\"966c10f1-f9ca-4503-8376-b2ff2ba5278b\",\"type\":\"PanTool\"}],\"root_ids\":[\"7c6f5fc4-22f7-486f-9627-447c98f3a10b\"]},\"title\":\"Bokeh Application\",\"version\":\"0.12.13\"}};\n",
       "  var render_items = [{\"docid\":\"441cae5a-bd33-483d-a798-7cf88755a3af\",\"elementid\":\"27b0c1ed-c684-4636-8b29-1432330c2b12\",\"modelid\":\"7c6f5fc4-22f7-486f-9627-447c98f3a10b\"}];\n",
       "  root.Bokeh.embed.embed_items_notebook(docs_json, render_items);\n",
       "\n",
       "  }\n",
       "  if (root.Bokeh !== undefined) {\n",
       "    embed_document(root);\n",
       "  } else {\n",
       "    var attempts = 0;\n",
       "    var timer = setInterval(function(root) {\n",
       "      if (root.Bokeh !== undefined) {\n",
       "        embed_document(root);\n",
       "        clearInterval(timer);\n",
       "      }\n",
       "      attempts++;\n",
       "      if (attempts > 100) {\n",
       "        console.log(\"Bokeh: ERROR: Unable to run BokehJS code because BokehJS library is missing\")\n",
       "        clearInterval(timer);\n",
       "      }\n",
       "    }, 10, root)\n",
       "  }\n",
       "})(window);"
      ],
      "application/vnd.bokehjs_exec.v0+json": ""
     },
     "metadata": {
      "application/vnd.bokehjs_exec.v0+json": {
       "id": "7c6f5fc4-22f7-486f-9627-447c98f3a10b"
      }
     },
     "output_type": "display_data"
    }
   ],
   "source": [
    "source = ColumnDataSource(\n",
    "        data=dict(\n",
    "            x=B[:N,0],\n",
    "            y=B[:N,1],\n",
    "            desc=node_names['name'],\n",
    "            s=np.log(G2.sum(axis=0).A.ravel()+1)*5\n",
    "        )\n",
    "    )\n",
    "\n",
    "hover = HoverTool(\n",
    "        tooltips=[\n",
    "            (\"\", \"@desc\"),\n",
    "        ]\n",
    "    )\n",
    "\n",
    "p = figure(plot_width=750, plot_height=500)\n",
    "\n",
    "p.circle('x', 'y', size='s', source=source, fill_alpha=0.5)\n",
    "p.add_tools(hover)\n",
    "show(p)"
   ]
  },
  {
   "cell_type": "markdown",
   "metadata": {},
   "source": [
    "Project to simple graph and do SCORE"
   ]
  },
  {
   "cell_type": "code",
   "execution_count": 33,
   "metadata": {},
   "outputs": [],
   "source": [
    "B2=score(G2,K,project='binary')"
   ]
  },
  {
   "cell_type": "code",
   "execution_count": 34,
   "metadata": {},
   "outputs": [
    {
     "data": {
      "text/html": [
       "\n",
       "<div class=\"bk-root\">\n",
       "    <div class=\"bk-plotdiv\" id=\"f6ae3f9a-9299-40ef-b303-48e4870a33cf\"></div>\n",
       "</div>"
      ]
     },
     "metadata": {},
     "output_type": "display_data"
    },
    {
     "data": {
      "application/javascript": [
       "(function(root) {\n",
       "  function embed_document(root) {\n",
       "    \n",
       "  var docs_json = {\"5b1b57b1-de46-47ef-9363-7b2a4d0fc380\":{\"roots\":{\"references\":[{\"attributes\":{\"overlay\":{\"id\":\"7f1fb7c3-250a-4b59-a3f9-394a2f040147\",\"type\":\"BoxAnnotation\"}},\"id\":\"42e69e07-4ba6-4ad6-873e-30b9f70fd8ce\",\"type\":\"BoxZoomTool\"},{\"attributes\":{\"callback\":null},\"id\":\"7f867308-3bdd-475d-8ce8-34e2046e2c80\",\"type\":\"DataRange1d\"},{\"attributes\":{\"callback\":null,\"tooltips\":[[\"\",\"@desc\"]]},\"id\":\"32f7ca98-f1dd-432e-92d1-1037fce7d612\",\"type\":\"HoverTool\"},{\"attributes\":{\"bottom_units\":\"screen\",\"fill_alpha\":{\"value\":0.5},\"fill_color\":{\"value\":\"lightgrey\"},\"left_units\":\"screen\",\"level\":\"overlay\",\"line_alpha\":{\"value\":1.0},\"line_color\":{\"value\":\"black\"},\"line_dash\":[4,4],\"line_width\":{\"value\":2},\"plot\":null,\"render_mode\":\"css\",\"right_units\":\"screen\",\"top_units\":\"screen\"},\"id\":\"7f1fb7c3-250a-4b59-a3f9-394a2f040147\",\"type\":\"BoxAnnotation\"},{\"attributes\":{\"below\":[{\"id\":\"47e2d209-f5df-4172-96f0-80494992bc98\",\"type\":\"LinearAxis\"}],\"left\":[{\"id\":\"3e5ff18e-0d67-45f7-9723-6105080e0569\",\"type\":\"LinearAxis\"}],\"plot_height\":500,\"plot_width\":750,\"renderers\":[{\"id\":\"47e2d209-f5df-4172-96f0-80494992bc98\",\"type\":\"LinearAxis\"},{\"id\":\"6185a50b-8c7a-419e-824c-ae1bd0fe5dd5\",\"type\":\"Grid\"},{\"id\":\"3e5ff18e-0d67-45f7-9723-6105080e0569\",\"type\":\"LinearAxis\"},{\"id\":\"21e28e8f-ecf9-4ea3-8e4f-8d8a3d8829f9\",\"type\":\"Grid\"},{\"id\":\"7f1fb7c3-250a-4b59-a3f9-394a2f040147\",\"type\":\"BoxAnnotation\"},{\"id\":\"a98a3742-5536-4223-931a-3c97fe6a5a26\",\"type\":\"GlyphRenderer\"}],\"title\":{\"id\":\"d4b691de-89c6-4422-adeb-f01997b4df70\",\"type\":\"Title\"},\"toolbar\":{\"id\":\"6cbc85e6-c032-4186-9441-d82a9b2c624e\",\"type\":\"Toolbar\"},\"x_range\":{\"id\":\"7f867308-3bdd-475d-8ce8-34e2046e2c80\",\"type\":\"DataRange1d\"},\"x_scale\":{\"id\":\"ac94e7b5-4ab0-4d49-a257-1fd664e8f7c4\",\"type\":\"LinearScale\"},\"y_range\":{\"id\":\"51f8d448-8971-47a2-8c3f-05cc0f82bd63\",\"type\":\"DataRange1d\"},\"y_scale\":{\"id\":\"5df7c7c6-0a46-4d79-a36a-5bcae08fbb02\",\"type\":\"LinearScale\"}},\"id\":\"558e0294-fe5e-491e-9a05-b101a4e75c7f\",\"subtype\":\"Figure\",\"type\":\"Plot\"},{\"attributes\":{},\"id\":\"f9892e23-0d3d-4db0-a736-8c3ca4cccdb5\",\"type\":\"BasicTickFormatter\"},{\"attributes\":{},\"id\":\"da08e5a9-1123-4b2c-b1fc-91edc0ee2449\",\"type\":\"SaveTool\"},{\"attributes\":{\"plot\":{\"id\":\"558e0294-fe5e-491e-9a05-b101a4e75c7f\",\"subtype\":\"Figure\",\"type\":\"Plot\"},\"ticker\":{\"id\":\"5ee492d0-673c-45b9-a0d9-d54a002d5ce7\",\"type\":\"BasicTicker\"}},\"id\":\"6185a50b-8c7a-419e-824c-ae1bd0fe5dd5\",\"type\":\"Grid\"},{\"attributes\":{\"data_source\":{\"id\":\"0e76c885-4fdd-4e3d-a912-45f77c7efba1\",\"type\":\"ColumnDataSource\"},\"glyph\":{\"id\":\"1552d02e-63ae-485b-b98b-56c83a776769\",\"type\":\"Circle\"},\"hover_glyph\":null,\"muted_glyph\":null,\"nonselection_glyph\":{\"id\":\"e0b20c21-1621-43bf-9470-23689db331d5\",\"type\":\"Circle\"},\"selection_glyph\":null,\"view\":{\"id\":\"603e498e-37c5-4f20-94a5-c70035cdd288\",\"type\":\"CDSView\"}},\"id\":\"a98a3742-5536-4223-931a-3c97fe6a5a26\",\"type\":\"GlyphRenderer\"},{\"attributes\":{\"active_drag\":\"auto\",\"active_inspect\":\"auto\",\"active_scroll\":\"auto\",\"active_tap\":\"auto\",\"tools\":[{\"id\":\"c61a71af-8581-436b-9931-7bbbaad936b8\",\"type\":\"PanTool\"},{\"id\":\"fbc8f5b4-557a-4507-9c19-66e2a2ccdf19\",\"type\":\"WheelZoomTool\"},{\"id\":\"42e69e07-4ba6-4ad6-873e-30b9f70fd8ce\",\"type\":\"BoxZoomTool\"},{\"id\":\"da08e5a9-1123-4b2c-b1fc-91edc0ee2449\",\"type\":\"SaveTool\"},{\"id\":\"cc2d8390-3a0e-4ff8-aa77-231df9ee0cac\",\"type\":\"ResetTool\"},{\"id\":\"42806c56-fc41-4364-80b9-70fc6d61831c\",\"type\":\"HelpTool\"},{\"id\":\"32f7ca98-f1dd-432e-92d1-1037fce7d612\",\"type\":\"HoverTool\"}]},\"id\":\"6cbc85e6-c032-4186-9441-d82a9b2c624e\",\"type\":\"Toolbar\"},{\"attributes\":{},\"id\":\"37984fa4-940e-4cb6-90e7-c47d5ee0cb3b\",\"type\":\"BasicTickFormatter\"},{\"attributes\":{},\"id\":\"fbc8f5b4-557a-4507-9c19-66e2a2ccdf19\",\"type\":\"WheelZoomTool\"},{\"attributes\":{\"fill_alpha\":{\"value\":0.5},\"fill_color\":{\"value\":\"#1f77b4\"},\"line_color\":{\"value\":\"#1f77b4\"},\"size\":{\"field\":\"s\",\"units\":\"screen\"},\"x\":{\"field\":\"x\"},\"y\":{\"field\":\"y\"}},\"id\":\"1552d02e-63ae-485b-b98b-56c83a776769\",\"type\":\"Circle\"},{\"attributes\":{\"fill_alpha\":{\"value\":0.1},\"fill_color\":{\"value\":\"#1f77b4\"},\"line_alpha\":{\"value\":0.1},\"line_color\":{\"value\":\"#1f77b4\"},\"size\":{\"field\":\"s\",\"units\":\"screen\"},\"x\":{\"field\":\"x\"},\"y\":{\"field\":\"y\"}},\"id\":\"e0b20c21-1621-43bf-9470-23689db331d5\",\"type\":\"Circle\"},{\"attributes\":{},\"id\":\"ac94e7b5-4ab0-4d49-a257-1fd664e8f7c4\",\"type\":\"LinearScale\"},{\"attributes\":{\"callback\":null},\"id\":\"51f8d448-8971-47a2-8c3f-05cc0f82bd63\",\"type\":\"DataRange1d\"},{\"attributes\":{\"source\":{\"id\":\"0e76c885-4fdd-4e3d-a912-45f77c7efba1\",\"type\":\"ColumnDataSource\"}},\"id\":\"603e498e-37c5-4f20-94a5-c70035cdd288\",\"type\":\"CDSView\"},{\"attributes\":{},\"id\":\"cc2d8390-3a0e-4ff8-aa77-231df9ee0cac\",\"type\":\"ResetTool\"},{\"attributes\":{},\"id\":\"9793f8cc-3cf3-48f0-a86c-255587790fef\",\"type\":\"BasicTicker\"},{\"attributes\":{\"formatter\":{\"id\":\"37984fa4-940e-4cb6-90e7-c47d5ee0cb3b\",\"type\":\"BasicTickFormatter\"},\"plot\":{\"id\":\"558e0294-fe5e-491e-9a05-b101a4e75c7f\",\"subtype\":\"Figure\",\"type\":\"Plot\"},\"ticker\":{\"id\":\"5ee492d0-673c-45b9-a0d9-d54a002d5ce7\",\"type\":\"BasicTicker\"}},\"id\":\"47e2d209-f5df-4172-96f0-80494992bc98\",\"type\":\"LinearAxis\"},{\"attributes\":{\"formatter\":{\"id\":\"f9892e23-0d3d-4db0-a736-8c3ca4cccdb5\",\"type\":\"BasicTickFormatter\"},\"plot\":{\"id\":\"558e0294-fe5e-491e-9a05-b101a4e75c7f\",\"subtype\":\"Figure\",\"type\":\"Plot\"},\"ticker\":{\"id\":\"9793f8cc-3cf3-48f0-a86c-255587790fef\",\"type\":\"BasicTicker\"}},\"id\":\"3e5ff18e-0d67-45f7-9723-6105080e0569\",\"type\":\"LinearAxis\"},{\"attributes\":{\"callback\":null,\"column_names\":[\"x\",\"y\",\"desc\",\"s\"],\"data\":{\"desc\":[\"Abel Rodriguez\",\"Alan E Gelfand\",\"Alexander Meister\",\"Amnon Neeman\",\"Amy H Herring\",\"Anastasios A Tsiatis\",\"Andrew O Finley\",\"Anirban Bhattacharya\",\"Anna Maria Siega-Riz\",\"Annie Qu\",\"Arnab Maity\",\"Aurore Delaigle\",\"Bani Mallick\",\"Bee Leng Lee\",\"Bent Nielsen\",\"Biao Zhang\",\"Bin Nan\",\"Bing-Yi Jing\",\"Bo Kai\",\"Bo Li\",\"Bradley P Carlin\",\"Bradley S Peterson\",\"Brian J Reich\",\"Bruce G Lindsay\",\"Byeong U Park\",\"C F Sirmans\",\"Celine Vial\",\"Cheng Yong Tang\",\"Chenlei Leng\",\"Chih-Ling Tsai\",\"Chiung-Yu Huang\",\"Chris C Holmes\",\"Christina Kendziorski\",\"Chunming Zhang\",\"Ci-Ren Jiang\",\"Clifford Lam\",\"Cun-Hui Zhang\",\"D Kuang\",\"D M Titterington\",\"Damla Senturk\",\"Dan Yu Lin\",\"Daniela M Witten\",\"David A Stephens\",\"David Dunson\",\"David L Donoho\",\"Dean A Follmann\",\"Debajyoti Sinha\",\"Debashis Paul\",\"Denis Heng-Yan Leung\",\"Dipak K Dey\",\"Donglin Zeng\",\"Emmanuel J Candes\",\"Enno Mammen\",\"Eric Bair\",\"Ery Arias-Castro\",\"Fang Yao\",\"Grace Wahba\",\"Guang Cheng\",\"Guohua Zou\",\"Guosheng Yin\",\"Haibo Zhou\",\"Hans-Georg Muller\",\"Hansheng Wang\",\"Hao Helen Zhang\",\"Hao Liu\",\"Harrison H Zhou\",\"Heng Peng\",\"Henghsiu Tsai\",\"Heping Zhang\",\"Hongtu Zhu\",\"Hongzhe Li\",\"Howell Tong\",\"Hsin-Cheng Huang\",\"Hua Liang\",\"Huazhen Lin\",\"Hugh Miller\",\"Hui Li\",\"Hui Zou\",\"Huiliang Xie\",\"Hulin Wu\",\"Ingrid Van Keilegom\",\"J S Marron\",\"Jacob Bien\",\"Jane-Ling Wang\",\"Jason P Fine\",\"Jean Jacod\",\"Jeffrey D Hart\",\"Jeffrey S Morris\",\"Jeng-Min Chiou\",\"Jens Perch Nielsen\",\"Jeongyoun Ahn\",\"Jerome H Friedman\",\"Jian Huang\",\"Jian Shi\",\"Jiancheng Jiang\",\"Jianhua Z Huang\",\"Jianqing Fan\",\"Jianwen Cai\",\"Jiashun Jin\",\"Jing-Hao Xue\",\"Jing Ning\",\"Jing Qin\",\"Joel L Horowitz\",\"John D Kalbfleisch\",\"Joseph G Ibrahim\",\"Ju-Hyun Park\",\"Jun Yan\",\"Junhui Wang\",\"Kani Chen\",\"Kehui Chen\",\"Kung-Sik Chan\",\"Kyusang Yu\",\"Lan Huang\",\"Lan Wang\",\"Lan Zhang\",\"Lan Zhou\",\"Lawrence Carin\",\"Lawrence D Brown\",\"Li Chen\",\"Liang Peng\",\"Lie Wang\",\"Limin Peng\",\"Malay Ghosh\",\"Marc G Genton\",\"Mark G Low\",\"Mei-Cheng Wang\",\"Menggang Yu\",\"Michael G Akritas\",\"Michael J Todd\",\"Michael Levine\",\"Michael R Kosorok\",\"Michael Sherman\",\"Michele Guindani\",\"Ming-Hui Chen\",\"Ming-Yen Cheng\",\"Ming Yuan\",\"Minggen Lu\",\"Naisyin Wang\",\"Neil Bathia\",\"Ngai Hang Chan\",\"Niansheng Tang\",\"Nilanjan Chatterjee\",\"Nils Chr Stenseth\",\"Noelle I Samia\",\"Pai-Ling Li\",\"Peide Shi\",\"Peihua Qiu\",\"Per Aslak Mykland\",\"Peter Hall\",\"Peter X-K Song\",\"Philip J Brown\",\"Ping-Shou Zhong\",\"Prasad A Naik\",\"Qi-Man Shao\",\"Qingxia Chen\",\"Qiwei Yao\",\"Ram C Tiwari\",\"Rasmus Waagepetersen\",\"Raymond J Carroll\",\"Richard Samworth\",\"Robert J Tibshirani\",\"Rui Song\",\"Runze Li\",\"Ryan T Elmore\",\"Shaojun Guo\",\"Shu-Chuan Chen\",\"Shuangge Ma\",\"Shubhankar Ray\",\"Shyamal Das Peddada\",\"Song Xi Chen\",\"Stefan Sperlich\",\"Stuart R Lipsitz\",\"Subharup Guha\",\"Sudipto Banerjee\",\"Sungduk Kim\",\"Sungkyu Jung\",\"Suojin Wang\",\"Surajit Ray\",\"T Tony Cai\",\"Tailen Hsing\",\"Tao Huang\",\"Tao Yu\",\"Tapabrata Maiti\",\"Tatiyana V Apanasovich\",\"Tiejun Tong\",\"Trevor J Hastie\",\"Tung Pham\",\"Ulrich Stadtmuller\",\"Vladimir Spokoiny\",\"Wang Zhou\",\"Wei Pan\",\"Weidong Liu\",\"Weili Lin\",\"Weiping Zhang\",\"Wenbin Lu\",\"Wenguang Sun\",\"Wenyang Zhang\",\"Wolfgang Karl Hardle\",\"X Jessie Jeng\",\"Xiang Liu\",\"Xiaotong Shen\",\"Xiaoyan Shi\",\"Xihong Lin\",\"Xin-Bing Kong\",\"Xinyu Zhang\",\"Yacine Ait-Sahalia\",\"Yan Sun\",\"Yang Feng\",\"Yaniv Plan\",\"Yanyuan Ma\",\"Yao-Ban Chan\",\"Yehua Li\",\"Yi-Hau Chen\",\"Yi Li\",\"Yi Lin\",\"Yichao Wu\",\"Yijian Huang\",\"Yimei Li\",\"Ying-Li Qin\",\"Ying Chen\",\"Ying Wei\",\"Ying Yuan\",\"Ying Zhang\",\"Yingcun Xia\",\"Yingying Fan\",\"Yong Zhou\",\"Yongho Jeon\",\"Yongtao Guan\",\"Yu Cheng\",\"Yu Shen\",\"Yuedong Wang\",\"Yufeng Liu\",\"Zhezhen Jin\",\"Zhi Liu\",\"Zhiliang Ying\",\"Zonghui Hu\"],\"s\":{\"__ndarray__\":\"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\",\"dtype\":\"float64\",\"shape\":[236]},\"x\":{\"__ndarray__\":\"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\",\"dtype\":\"float64\",\"shape\":[236]},\"y\":{\"__ndarray__\":\"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\",\"dtype\":\"float64\",\"shape\":[236]}}},\"id\":\"0e76c885-4fdd-4e3d-a912-45f77c7efba1\",\"type\":\"ColumnDataSource\"},{\"attributes\":{\"plot\":null,\"text\":\"\"},\"id\":\"d4b691de-89c6-4422-adeb-f01997b4df70\",\"type\":\"Title\"},{\"attributes\":{},\"id\":\"c61a71af-8581-436b-9931-7bbbaad936b8\",\"type\":\"PanTool\"},{\"attributes\":{},\"id\":\"5df7c7c6-0a46-4d79-a36a-5bcae08fbb02\",\"type\":\"LinearScale\"},{\"attributes\":{},\"id\":\"42806c56-fc41-4364-80b9-70fc6d61831c\",\"type\":\"HelpTool\"},{\"attributes\":{\"dimension\":1,\"plot\":{\"id\":\"558e0294-fe5e-491e-9a05-b101a4e75c7f\",\"subtype\":\"Figure\",\"type\":\"Plot\"},\"ticker\":{\"id\":\"9793f8cc-3cf3-48f0-a86c-255587790fef\",\"type\":\"BasicTicker\"}},\"id\":\"21e28e8f-ecf9-4ea3-8e4f-8d8a3d8829f9\",\"type\":\"Grid\"},{\"attributes\":{},\"id\":\"5ee492d0-673c-45b9-a0d9-d54a002d5ce7\",\"type\":\"BasicTicker\"}],\"root_ids\":[\"558e0294-fe5e-491e-9a05-b101a4e75c7f\"]},\"title\":\"Bokeh Application\",\"version\":\"0.12.13\"}};\n",
       "  var render_items = [{\"docid\":\"5b1b57b1-de46-47ef-9363-7b2a4d0fc380\",\"elementid\":\"f6ae3f9a-9299-40ef-b303-48e4870a33cf\",\"modelid\":\"558e0294-fe5e-491e-9a05-b101a4e75c7f\"}];\n",
       "  root.Bokeh.embed.embed_items_notebook(docs_json, render_items);\n",
       "\n",
       "  }\n",
       "  if (root.Bokeh !== undefined) {\n",
       "    embed_document(root);\n",
       "  } else {\n",
       "    var attempts = 0;\n",
       "    var timer = setInterval(function(root) {\n",
       "      if (root.Bokeh !== undefined) {\n",
       "        embed_document(root);\n",
       "        clearInterval(timer);\n",
       "      }\n",
       "      attempts++;\n",
       "      if (attempts > 100) {\n",
       "        console.log(\"Bokeh: ERROR: Unable to run BokehJS code because BokehJS library is missing\")\n",
       "        clearInterval(timer);\n",
       "      }\n",
       "    }, 10, root)\n",
       "  }\n",
       "})(window);"
      ],
      "application/vnd.bokehjs_exec.v0+json": ""
     },
     "metadata": {
      "application/vnd.bokehjs_exec.v0+json": {
       "id": "558e0294-fe5e-491e-9a05-b101a4e75c7f"
      }
     },
     "output_type": "display_data"
    }
   ],
   "source": [
    "source = ColumnDataSource(\n",
    "        data=dict(\n",
    "            x=B2[:N,0],\n",
    "            y=B2[:N,1],\n",
    "            desc=node_names['name'],\n",
    "            s=np.log(G2.sum(axis=0).A.ravel()+1)*5\n",
    "        )\n",
    "    )\n",
    "\n",
    "hover = HoverTool(\n",
    "        tooltips=[\n",
    "            (\"\", \"@desc\"),\n",
    "        ]\n",
    "    )\n",
    "\n",
    "p = figure(plot_width=750, plot_height=500)\n",
    "\n",
    "p.circle('x', 'y', size='s', source=source, fill_alpha=0.5)\n",
    "p.add_tools(hover)\n",
    "show(p)"
   ]
  }
 ],
 "metadata": {
  "anaconda-cloud": {},
  "kernelspec": {
   "display_name": "Python 3",
   "language": "python",
   "name": "python3"
  },
  "language_info": {
   "codemirror_mode": {
    "name": "ipython",
    "version": 3
   },
   "file_extension": ".py",
   "mimetype": "text/x-python",
   "name": "python",
   "nbconvert_exporter": "python",
   "pygments_lexer": "ipython3",
   "version": "3.6.8"
  },
  "toc": {
   "nav_menu": {
    "height": "171px",
    "width": "252px"
   },
   "number_sections": false,
   "sideBar": true,
   "skip_h1_title": true,
   "title_cell": "Table of Contents",
   "title_sidebar": "Contents",
   "toc_cell": false,
   "toc_position": {
    "height": "791px",
    "left": "0px",
    "right": "1693px",
    "top": "135px",
    "width": "166px"
   },
   "toc_section_display": "block",
   "toc_window_display": true
  }
 },
 "nbformat": 4,
 "nbformat_minor": 2
}
