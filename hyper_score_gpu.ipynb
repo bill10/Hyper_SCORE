{
 "cells": [
  {
   "cell_type": "markdown",
   "metadata": {},
   "source": [
    "# Community Detection in Hypergraph Networks"
   ]
  },
  {
   "cell_type": "markdown",
   "metadata": {},
   "source": [
    "## Workbench"
   ]
  },
  {
   "cell_type": "code",
   "execution_count": 1,
   "metadata": {},
   "outputs": [],
   "source": [
    "import numpy as np\n",
    "import pandas as pd\n",
    "import random\n",
    "from collections import Counter\n",
    "import scipy.sparse as ssp\n",
    "from scipy.sparse.linalg import eigsh\n",
    "from scipy.linalg import eigh\n",
    "from multiprocessing import Pool, cpu_count\n",
    "from functools import partial, reduce\n",
    "from sklearn.manifold import TSNE\n",
    "import sklearn.cluster as skcluster\n",
    "from itertools import permutations, combinations, combinations_with_replacement \n",
    "from sklearn import metrics\n",
    "from sklearn.metrics.cluster import contingency_matrix\n",
    "from scipy.special import comb\n",
    "from itertools import groupby"
   ]
  },
  {
   "cell_type": "code",
   "execution_count": 2,
   "metadata": {},
   "outputs": [],
   "source": [
    "%matplotlib inline\n",
    "import pylab as plt\n",
    "import seaborn as sns\n",
    "from matplotlib.colors import ListedColormap"
   ]
  },
  {
   "cell_type": "code",
   "execution_count": 3,
   "metadata": {},
   "outputs": [
    {
     "data": {
      "text/html": [
       "\n",
       "    <div class=\"bk-root\">\n",
       "        <a href=\"https://bokeh.pydata.org\" target=\"_blank\" class=\"bk-logo bk-logo-small bk-logo-notebook\"></a>\n",
       "        <span id=\"1001\">Loading BokehJS ...</span>\n",
       "    </div>"
      ]
     },
     "metadata": {},
     "output_type": "display_data"
    },
    {
     "data": {
      "application/javascript": [
       "\n",
       "(function(root) {\n",
       "  function now() {\n",
       "    return new Date();\n",
       "  }\n",
       "\n",
       "  var force = true;\n",
       "\n",
       "  if (typeof (root._bokeh_onload_callbacks) === \"undefined\" || force === true) {\n",
       "    root._bokeh_onload_callbacks = [];\n",
       "    root._bokeh_is_loading = undefined;\n",
       "  }\n",
       "\n",
       "  var JS_MIME_TYPE = 'application/javascript';\n",
       "  var HTML_MIME_TYPE = 'text/html';\n",
       "  var EXEC_MIME_TYPE = 'application/vnd.bokehjs_exec.v0+json';\n",
       "  var CLASS_NAME = 'output_bokeh rendered_html';\n",
       "\n",
       "  /**\n",
       "   * Render data to the DOM node\n",
       "   */\n",
       "  function render(props, node) {\n",
       "    var script = document.createElement(\"script\");\n",
       "    node.appendChild(script);\n",
       "  }\n",
       "\n",
       "  /**\n",
       "   * Handle when an output is cleared or removed\n",
       "   */\n",
       "  function handleClearOutput(event, handle) {\n",
       "    var cell = handle.cell;\n",
       "\n",
       "    var id = cell.output_area._bokeh_element_id;\n",
       "    var server_id = cell.output_area._bokeh_server_id;\n",
       "    // Clean up Bokeh references\n",
       "    if (id != null && id in Bokeh.index) {\n",
       "      Bokeh.index[id].model.document.clear();\n",
       "      delete Bokeh.index[id];\n",
       "    }\n",
       "\n",
       "    if (server_id !== undefined) {\n",
       "      // Clean up Bokeh references\n",
       "      var cmd = \"from bokeh.io.state import curstate; print(curstate().uuid_to_server['\" + server_id + \"'].get_sessions()[0].document.roots[0]._id)\";\n",
       "      cell.notebook.kernel.execute(cmd, {\n",
       "        iopub: {\n",
       "          output: function(msg) {\n",
       "            var id = msg.content.text.trim();\n",
       "            if (id in Bokeh.index) {\n",
       "              Bokeh.index[id].model.document.clear();\n",
       "              delete Bokeh.index[id];\n",
       "            }\n",
       "          }\n",
       "        }\n",
       "      });\n",
       "      // Destroy server and session\n",
       "      var cmd = \"import bokeh.io.notebook as ion; ion.destroy_server('\" + server_id + \"')\";\n",
       "      cell.notebook.kernel.execute(cmd);\n",
       "    }\n",
       "  }\n",
       "\n",
       "  /**\n",
       "   * Handle when a new output is added\n",
       "   */\n",
       "  function handleAddOutput(event, handle) {\n",
       "    var output_area = handle.output_area;\n",
       "    var output = handle.output;\n",
       "\n",
       "    // limit handleAddOutput to display_data with EXEC_MIME_TYPE content only\n",
       "    if ((output.output_type != \"display_data\") || (!output.data.hasOwnProperty(EXEC_MIME_TYPE))) {\n",
       "      return\n",
       "    }\n",
       "\n",
       "    var toinsert = output_area.element.find(\".\" + CLASS_NAME.split(' ')[0]);\n",
       "\n",
       "    if (output.metadata[EXEC_MIME_TYPE][\"id\"] !== undefined) {\n",
       "      toinsert[toinsert.length - 1].firstChild.textContent = output.data[JS_MIME_TYPE];\n",
       "      // store reference to embed id on output_area\n",
       "      output_area._bokeh_element_id = output.metadata[EXEC_MIME_TYPE][\"id\"];\n",
       "    }\n",
       "    if (output.metadata[EXEC_MIME_TYPE][\"server_id\"] !== undefined) {\n",
       "      var bk_div = document.createElement(\"div\");\n",
       "      bk_div.innerHTML = output.data[HTML_MIME_TYPE];\n",
       "      var script_attrs = bk_div.children[0].attributes;\n",
       "      for (var i = 0; i < script_attrs.length; i++) {\n",
       "        toinsert[toinsert.length - 1].firstChild.setAttribute(script_attrs[i].name, script_attrs[i].value);\n",
       "      }\n",
       "      // store reference to server id on output_area\n",
       "      output_area._bokeh_server_id = output.metadata[EXEC_MIME_TYPE][\"server_id\"];\n",
       "    }\n",
       "  }\n",
       "\n",
       "  function register_renderer(events, OutputArea) {\n",
       "\n",
       "    function append_mime(data, metadata, element) {\n",
       "      // create a DOM node to render to\n",
       "      var toinsert = this.create_output_subarea(\n",
       "        metadata,\n",
       "        CLASS_NAME,\n",
       "        EXEC_MIME_TYPE\n",
       "      );\n",
       "      this.keyboard_manager.register_events(toinsert);\n",
       "      // Render to node\n",
       "      var props = {data: data, metadata: metadata[EXEC_MIME_TYPE]};\n",
       "      render(props, toinsert[toinsert.length - 1]);\n",
       "      element.append(toinsert);\n",
       "      return toinsert\n",
       "    }\n",
       "\n",
       "    /* Handle when an output is cleared or removed */\n",
       "    events.on('clear_output.CodeCell', handleClearOutput);\n",
       "    events.on('delete.Cell', handleClearOutput);\n",
       "\n",
       "    /* Handle when a new output is added */\n",
       "    events.on('output_added.OutputArea', handleAddOutput);\n",
       "\n",
       "    /**\n",
       "     * Register the mime type and append_mime function with output_area\n",
       "     */\n",
       "    OutputArea.prototype.register_mime_type(EXEC_MIME_TYPE, append_mime, {\n",
       "      /* Is output safe? */\n",
       "      safe: true,\n",
       "      /* Index of renderer in `output_area.display_order` */\n",
       "      index: 0\n",
       "    });\n",
       "  }\n",
       "\n",
       "  // register the mime type if in Jupyter Notebook environment and previously unregistered\n",
       "  if (root.Jupyter !== undefined) {\n",
       "    var events = require('base/js/events');\n",
       "    var OutputArea = require('notebook/js/outputarea').OutputArea;\n",
       "\n",
       "    if (OutputArea.prototype.mime_types().indexOf(EXEC_MIME_TYPE) == -1) {\n",
       "      register_renderer(events, OutputArea);\n",
       "    }\n",
       "  }\n",
       "\n",
       "  \n",
       "  if (typeof (root._bokeh_timeout) === \"undefined\" || force === true) {\n",
       "    root._bokeh_timeout = Date.now() + 5000;\n",
       "    root._bokeh_failed_load = false;\n",
       "  }\n",
       "\n",
       "  var NB_LOAD_WARNING = {'data': {'text/html':\n",
       "     \"<div style='background-color: #fdd'>\\n\"+\n",
       "     \"<p>\\n\"+\n",
       "     \"BokehJS does not appear to have successfully loaded. If loading BokehJS from CDN, this \\n\"+\n",
       "     \"may be due to a slow or bad network connection. Possible fixes:\\n\"+\n",
       "     \"</p>\\n\"+\n",
       "     \"<ul>\\n\"+\n",
       "     \"<li>re-rerun `output_notebook()` to attempt to load from CDN again, or</li>\\n\"+\n",
       "     \"<li>use INLINE resources instead, as so:</li>\\n\"+\n",
       "     \"</ul>\\n\"+\n",
       "     \"<code>\\n\"+\n",
       "     \"from bokeh.resources import INLINE\\n\"+\n",
       "     \"output_notebook(resources=INLINE)\\n\"+\n",
       "     \"</code>\\n\"+\n",
       "     \"</div>\"}};\n",
       "\n",
       "  function display_loaded() {\n",
       "    var el = document.getElementById(\"1001\");\n",
       "    if (el != null) {\n",
       "      el.textContent = \"BokehJS is loading...\";\n",
       "    }\n",
       "    if (root.Bokeh !== undefined) {\n",
       "      if (el != null) {\n",
       "        el.textContent = \"BokehJS \" + root.Bokeh.version + \" successfully loaded.\";\n",
       "      }\n",
       "    } else if (Date.now() < root._bokeh_timeout) {\n",
       "      setTimeout(display_loaded, 100)\n",
       "    }\n",
       "  }\n",
       "\n",
       "\n",
       "  function run_callbacks() {\n",
       "    try {\n",
       "      root._bokeh_onload_callbacks.forEach(function(callback) { callback() });\n",
       "    }\n",
       "    finally {\n",
       "      delete root._bokeh_onload_callbacks\n",
       "    }\n",
       "    console.info(\"Bokeh: all callbacks have finished\");\n",
       "  }\n",
       "\n",
       "  function load_libs(js_urls, callback) {\n",
       "    root._bokeh_onload_callbacks.push(callback);\n",
       "    if (root._bokeh_is_loading > 0) {\n",
       "      console.log(\"Bokeh: BokehJS is being loaded, scheduling callback at\", now());\n",
       "      return null;\n",
       "    }\n",
       "    if (js_urls == null || js_urls.length === 0) {\n",
       "      run_callbacks();\n",
       "      return null;\n",
       "    }\n",
       "    console.log(\"Bokeh: BokehJS not loaded, scheduling load and callback at\", now());\n",
       "    root._bokeh_is_loading = js_urls.length;\n",
       "    for (var i = 0; i < js_urls.length; i++) {\n",
       "      var url = js_urls[i];\n",
       "      var s = document.createElement('script');\n",
       "      s.src = url;\n",
       "      s.async = false;\n",
       "      s.onreadystatechange = s.onload = function() {\n",
       "        root._bokeh_is_loading--;\n",
       "        if (root._bokeh_is_loading === 0) {\n",
       "          console.log(\"Bokeh: all BokehJS libraries loaded\");\n",
       "          run_callbacks()\n",
       "        }\n",
       "      };\n",
       "      s.onerror = function() {\n",
       "        console.warn(\"failed to load library \" + url);\n",
       "      };\n",
       "      console.log(\"Bokeh: injecting script tag for BokehJS library: \", url);\n",
       "      document.getElementsByTagName(\"head\")[0].appendChild(s);\n",
       "    }\n",
       "  };var element = document.getElementById(\"1001\");\n",
       "  if (element == null) {\n",
       "    console.log(\"Bokeh: ERROR: autoload.js configured with elementid '1001' but no matching script tag was found. \")\n",
       "    return false;\n",
       "  }\n",
       "\n",
       "  var js_urls = [\"https://cdn.pydata.org/bokeh/release/bokeh-1.0.4.min.js\", \"https://cdn.pydata.org/bokeh/release/bokeh-widgets-1.0.4.min.js\", \"https://cdn.pydata.org/bokeh/release/bokeh-tables-1.0.4.min.js\", \"https://cdn.pydata.org/bokeh/release/bokeh-gl-1.0.4.min.js\"];\n",
       "\n",
       "  var inline_js = [\n",
       "    function(Bokeh) {\n",
       "      Bokeh.set_log_level(\"info\");\n",
       "    },\n",
       "    \n",
       "    function(Bokeh) {\n",
       "      \n",
       "    },\n",
       "    function(Bokeh) {\n",
       "      console.log(\"Bokeh: injecting CSS: https://cdn.pydata.org/bokeh/release/bokeh-1.0.4.min.css\");\n",
       "      Bokeh.embed.inject_css(\"https://cdn.pydata.org/bokeh/release/bokeh-1.0.4.min.css\");\n",
       "      console.log(\"Bokeh: injecting CSS: https://cdn.pydata.org/bokeh/release/bokeh-widgets-1.0.4.min.css\");\n",
       "      Bokeh.embed.inject_css(\"https://cdn.pydata.org/bokeh/release/bokeh-widgets-1.0.4.min.css\");\n",
       "      console.log(\"Bokeh: injecting CSS: https://cdn.pydata.org/bokeh/release/bokeh-tables-1.0.4.min.css\");\n",
       "      Bokeh.embed.inject_css(\"https://cdn.pydata.org/bokeh/release/bokeh-tables-1.0.4.min.css\");\n",
       "    }\n",
       "  ];\n",
       "\n",
       "  function run_inline_js() {\n",
       "    \n",
       "    if ((root.Bokeh !== undefined) || (force === true)) {\n",
       "      for (var i = 0; i < inline_js.length; i++) {\n",
       "        inline_js[i].call(root, root.Bokeh);\n",
       "      }if (force === true) {\n",
       "        display_loaded();\n",
       "      }} else if (Date.now() < root._bokeh_timeout) {\n",
       "      setTimeout(run_inline_js, 100);\n",
       "    } else if (!root._bokeh_failed_load) {\n",
       "      console.log(\"Bokeh: BokehJS failed to load within specified timeout.\");\n",
       "      root._bokeh_failed_load = true;\n",
       "    } else if (force !== true) {\n",
       "      var cell = $(document.getElementById(\"1001\")).parents('.cell').data().cell;\n",
       "      cell.output_area.append_execute_result(NB_LOAD_WARNING)\n",
       "    }\n",
       "\n",
       "  }\n",
       "\n",
       "  if (root._bokeh_is_loading === 0) {\n",
       "    console.log(\"Bokeh: BokehJS loaded, going straight to plotting\");\n",
       "    run_inline_js();\n",
       "  } else {\n",
       "    load_libs(js_urls, function() {\n",
       "      console.log(\"Bokeh: BokehJS plotting callback run at\", now());\n",
       "      run_inline_js();\n",
       "    });\n",
       "  }\n",
       "}(window));"
      ],
      "application/vnd.bokehjs_load.v0+json": "\n(function(root) {\n  function now() {\n    return new Date();\n  }\n\n  var force = true;\n\n  if (typeof (root._bokeh_onload_callbacks) === \"undefined\" || force === true) {\n    root._bokeh_onload_callbacks = [];\n    root._bokeh_is_loading = undefined;\n  }\n\n  \n\n  \n  if (typeof (root._bokeh_timeout) === \"undefined\" || force === true) {\n    root._bokeh_timeout = Date.now() + 5000;\n    root._bokeh_failed_load = false;\n  }\n\n  var NB_LOAD_WARNING = {'data': {'text/html':\n     \"<div style='background-color: #fdd'>\\n\"+\n     \"<p>\\n\"+\n     \"BokehJS does not appear to have successfully loaded. If loading BokehJS from CDN, this \\n\"+\n     \"may be due to a slow or bad network connection. Possible fixes:\\n\"+\n     \"</p>\\n\"+\n     \"<ul>\\n\"+\n     \"<li>re-rerun `output_notebook()` to attempt to load from CDN again, or</li>\\n\"+\n     \"<li>use INLINE resources instead, as so:</li>\\n\"+\n     \"</ul>\\n\"+\n     \"<code>\\n\"+\n     \"from bokeh.resources import INLINE\\n\"+\n     \"output_notebook(resources=INLINE)\\n\"+\n     \"</code>\\n\"+\n     \"</div>\"}};\n\n  function display_loaded() {\n    var el = document.getElementById(\"1001\");\n    if (el != null) {\n      el.textContent = \"BokehJS is loading...\";\n    }\n    if (root.Bokeh !== undefined) {\n      if (el != null) {\n        el.textContent = \"BokehJS \" + root.Bokeh.version + \" successfully loaded.\";\n      }\n    } else if (Date.now() < root._bokeh_timeout) {\n      setTimeout(display_loaded, 100)\n    }\n  }\n\n\n  function run_callbacks() {\n    try {\n      root._bokeh_onload_callbacks.forEach(function(callback) { callback() });\n    }\n    finally {\n      delete root._bokeh_onload_callbacks\n    }\n    console.info(\"Bokeh: all callbacks have finished\");\n  }\n\n  function load_libs(js_urls, callback) {\n    root._bokeh_onload_callbacks.push(callback);\n    if (root._bokeh_is_loading > 0) {\n      console.log(\"Bokeh: BokehJS is being loaded, scheduling callback at\", now());\n      return null;\n    }\n    if (js_urls == null || js_urls.length === 0) {\n      run_callbacks();\n      return null;\n    }\n    console.log(\"Bokeh: BokehJS not loaded, scheduling load and callback at\", now());\n    root._bokeh_is_loading = js_urls.length;\n    for (var i = 0; i < js_urls.length; i++) {\n      var url = js_urls[i];\n      var s = document.createElement('script');\n      s.src = url;\n      s.async = false;\n      s.onreadystatechange = s.onload = function() {\n        root._bokeh_is_loading--;\n        if (root._bokeh_is_loading === 0) {\n          console.log(\"Bokeh: all BokehJS libraries loaded\");\n          run_callbacks()\n        }\n      };\n      s.onerror = function() {\n        console.warn(\"failed to load library \" + url);\n      };\n      console.log(\"Bokeh: injecting script tag for BokehJS library: \", url);\n      document.getElementsByTagName(\"head\")[0].appendChild(s);\n    }\n  };var element = document.getElementById(\"1001\");\n  if (element == null) {\n    console.log(\"Bokeh: ERROR: autoload.js configured with elementid '1001' but no matching script tag was found. \")\n    return false;\n  }\n\n  var js_urls = [\"https://cdn.pydata.org/bokeh/release/bokeh-1.0.4.min.js\", \"https://cdn.pydata.org/bokeh/release/bokeh-widgets-1.0.4.min.js\", \"https://cdn.pydata.org/bokeh/release/bokeh-tables-1.0.4.min.js\", \"https://cdn.pydata.org/bokeh/release/bokeh-gl-1.0.4.min.js\"];\n\n  var inline_js = [\n    function(Bokeh) {\n      Bokeh.set_log_level(\"info\");\n    },\n    \n    function(Bokeh) {\n      \n    },\n    function(Bokeh) {\n      console.log(\"Bokeh: injecting CSS: https://cdn.pydata.org/bokeh/release/bokeh-1.0.4.min.css\");\n      Bokeh.embed.inject_css(\"https://cdn.pydata.org/bokeh/release/bokeh-1.0.4.min.css\");\n      console.log(\"Bokeh: injecting CSS: https://cdn.pydata.org/bokeh/release/bokeh-widgets-1.0.4.min.css\");\n      Bokeh.embed.inject_css(\"https://cdn.pydata.org/bokeh/release/bokeh-widgets-1.0.4.min.css\");\n      console.log(\"Bokeh: injecting CSS: https://cdn.pydata.org/bokeh/release/bokeh-tables-1.0.4.min.css\");\n      Bokeh.embed.inject_css(\"https://cdn.pydata.org/bokeh/release/bokeh-tables-1.0.4.min.css\");\n    }\n  ];\n\n  function run_inline_js() {\n    \n    if ((root.Bokeh !== undefined) || (force === true)) {\n      for (var i = 0; i < inline_js.length; i++) {\n        inline_js[i].call(root, root.Bokeh);\n      }if (force === true) {\n        display_loaded();\n      }} else if (Date.now() < root._bokeh_timeout) {\n      setTimeout(run_inline_js, 100);\n    } else if (!root._bokeh_failed_load) {\n      console.log(\"Bokeh: BokehJS failed to load within specified timeout.\");\n      root._bokeh_failed_load = true;\n    } else if (force !== true) {\n      var cell = $(document.getElementById(\"1001\")).parents('.cell').data().cell;\n      cell.output_area.append_execute_result(NB_LOAD_WARNING)\n    }\n\n  }\n\n  if (root._bokeh_is_loading === 0) {\n    console.log(\"Bokeh: BokehJS loaded, going straight to plotting\");\n    run_inline_js();\n  } else {\n    load_libs(js_urls, function() {\n      console.log(\"Bokeh: BokehJS plotting callback run at\", now());\n      run_inline_js();\n    });\n  }\n}(window));"
     },
     "metadata": {},
     "output_type": "display_data"
    }
   ],
   "source": [
    "from bokeh.io import output_notebook, show, save\n",
    "from bokeh.plotting import figure\n",
    "from bokeh.models import HoverTool, ColumnDataSource\n",
    "from bokeh.transform import factor_cmap\n",
    "from bokeh.palettes import Spectral\n",
    "output_notebook()"
   ]
  },
  {
   "cell_type": "code",
   "execution_count": 4,
   "metadata": {},
   "outputs": [],
   "source": [
    "from numba import guvectorize\n",
    "from numba import int64,float64\n",
    "from numba import cuda"
   ]
  },
  {
   "cell_type": "code",
   "execution_count": 5,
   "metadata": {},
   "outputs": [],
   "source": [
    "def get_nodes(x,G):\n",
    "    return tuple(sorted(G[x,:].nonzero()[1]))\n",
    "    \n",
    "def get_hyperedges(G):\n",
    "    # G: a edge-by-node incidence matrix\n",
    "    with Pool(cpu_count()-1) as pool:\n",
    "        E=Counter(pool.map(partial(get_nodes,G=G), (G.sum(axis=1).A.flatten()>1).nonzero()[0]))\n",
    "    return E.keys()\n",
    "\n",
    "def get_incidence(edges):\n",
    "    indices=[]\n",
    "    indptr=[0]\n",
    "    for e in edges:\n",
    "        indptr.append(indptr[-1]+len(e))\n",
    "        indices+=list(e)\n",
    "    return ssp.csr_matrix((np.ones(indptr[-1]), indices, indptr))\n",
    "\n",
    "def load_edges(filename, sep='\\t'):\n",
    "    data=pd.read_csv(filename,sep)\n",
    "    return ssp.csr_matrix((np.ones(len(data)),zip(*data.values)),shape=data.max().values+1)"
   ]
  },
  {
   "cell_type": "code",
   "execution_count": 6,
   "metadata": {},
   "outputs": [],
   "source": [
    "# Given an edge-by-node incidence matrix, this function returns the submatrix corresponding to the largest connected component. \n",
    "# If the associated adjacency matrix is weighted, edges with weights less than the threshold will be removed before finding components.\n",
    "def largest_component(G,threshold=None):\n",
    "    P=G.T*G\n",
    "    if threshold is None:\n",
    "        weights=Counter(P.data)\n",
    "        t=input(\"Tell me where to cut. Edges with weights >= will be kept. Here is the distribution of weights:\\n{}\".format(weights))\n",
    "    else:\n",
    "        t=threshold\n",
    "    for i in range(1,t):\n",
    "        P[P==i]=0\n",
    "        P.eliminate_zeros()\n",
    "    _,comp=ssp.csgraph.connected_components(P, directed=False)\n",
    "    largest_comp=Counter(comp).most_common(1)[0]\n",
    "    nodes=(comp==largest_comp[0]).nonzero()[0]\n",
    "    G2=G[:,nodes]\n",
    "    edges=G2.sum(axis=1).nonzero()[0]\n",
    "    return G2[edges,:], nodes, edges"
   ]
  },
  {
   "cell_type": "markdown",
   "metadata": {},
   "source": [
    "## Stochastic Block Model"
   ]
  },
  {
   "cell_type": "markdown",
   "metadata": {},
   "source": [
    "* Given an order-$m$ hypergraph with $N$ nodes and $M$ hyperedges (edges for short). \n",
    "* Let $A$ be the order-$m$ adjacency tensor.  \n",
    "* The stochastic block model for hypergraphs (SBMH) is defined as follows:\n",
    " * The nodes are divided into $K$ disjoint communities, $V=V_1\\cap V_2 \\cap \\cdots \\cap V_K$.\n",
    " * The probability that nodes $i_1,\\cdots,i_m$ will form an edge is \n",
    "$$P(A[i_1,\\cdots,i_m]=1) = C[g(i_1),\\cdots,g(i_m)]\\prod_{j\\in\\{i_1,\\cdots,i_m\\}}\\theta_j,$$\n",
    "where $g(i)$ is the community that node $i$ belongs to, and $\\theta_i$ is a connectivity paramter for $i$.\n",
    " * $C$ is also an order-$m$ tensor and $C[g_1,\\cdots,g_m]$ is the \"density\" of edges between communities $g_1,\\cdots,g_m$. $C$ is much smaller than $A$.\n",
    "* Let $Q$ be the tensor where $Q[i_1,\\cdots,i_m]= P(A[i_1,\\cdots,i_m]=1)$, $1\\leq i_1,\\cdots,i_m \\leq N$, and $B$ be the matrix where $B[i,k]=1$ if node $i$ is in community $k$.\n",
    "* Then SBMH can be written as\n",
    "$$Q[i_1,\\cdots,i_m] = \\sum_{g_1,\\cdots,g_m} C[g_1,\\cdots,g_m] \\theta_{i_1}B[i_1,g_1] \\cdots \\theta_{i_m} B[i_m,g_m].$$\n",
    "* In tensor form, $Q = [C; \\theta B, \\cdots, \\theta B]$.\n",
    "* In other words, the SBMH assumes that the adjacency tensor can be approximated by a Tucker decomposition $[C; \\theta B, \\cdots, \\theta B]$. "
   ]
  },
  {
   "cell_type": "code",
   "execution_count": 7,
   "metadata": {},
   "outputs": [],
   "source": [
    "# This function generate a hypergraph (actually, all hyperedges) from the SBM with the following C: the diagonal elements of C = pwithin and the off-diagonal elements of C = pbetween\n",
    "def generate(N,m,comm,pwithin,pbetween):\n",
    "    V=range(N)\n",
    "    edges=set()\n",
    "    typecount=[0,0]\n",
    "    for e in combinations(V,m):\n",
    "        if len(np.unique(comm[list(e)]))>1:\n",
    "            p=pbetween\n",
    "            t=1\n",
    "        else:\n",
    "            p=pwithin\n",
    "            t=0\n",
    "        if random.random()<=p:\n",
    "            edges.add(e)\n",
    "            typecount[t]+=1\n",
    "    print(\"between: {}, within: {}\".format(typecount[1],typecount[0]) )\n",
    "    return list(edges)"
   ]
  },
  {
   "cell_type": "markdown",
   "metadata": {},
   "source": [
    "## Hyper-SCORE"
   ]
  },
  {
   "cell_type": "markdown",
   "metadata": {},
   "source": [
    "Given a hypergraph, hyper-SCORE fits the SBM to data and infers the community membership of nodes.\n",
    "1. Perform a Tucker decomposition of the adjacency tensor $A$.\n",
    "    1. Higher-order SVD (HOSVD) of $A$ as the initial decomposition. \n",
    "        1. Obtain the mode-1 matrix $A^{(1)}$ of $A$ by mapping indices as the following: $$A^{(1)}[i_1, \\sum_{j=2}^m i_j N^{m-j}] = A[i_1,\\cdots,i_m].$$\n",
    "        2. Compute the $K$ left singular vectors $(u_1,\\cdots,u_K)$ of $A^{(1)}$ corresponding to the $K$ largest singular values. \n",
    "            * If $A^{(1)}$ is too wide ($N$ by $N^{m-1}$) to do SVD, compute the eigen vectors of $A^{(1)}A^{(1)^T}$, since $A^{(1)}A^{(1)^T}$ can be much smaller than $A^{(1)}$ and can be calculated without constructing $A^{(1)}$ explicitely as follows.\n",
    "            * Let $e_i$ ($e_j$) be an edge that contains $i$ ($j$), and $e_i - i$ be the set of nodes after removing $i$ from $e_i$. \n",
    "            * $[A^{(1)}A^{(1)^T}]_{ij}$ = number of pairs $(e_i, e_j)$ s.t. $e_i - i$ = $e_j - j$, for any $e_i, e_j$.\n",
    "    2. Higher-order orthogonal iteration for improvements.\n",
    "        1. Let $U=[u_1,\\cdots,u_K]$. (Use the leading sigular vectors from HOSVD in the first iteration.)  \n",
    "        2. Compute $$C[i_1, g_2, \\cdots, g_m]=\\sum_{i_2,\\cdots,i_m} A[i_1,i_2,\\cdots,i_m] U[i_2,g_2] \\cdots U[i_m,g_m], 1\\leq i_1,\\cdots,i_m \\leq N, 1\\leq g_2, \\cdots, g_m \\leq K.$$\n",
    "        3. Calculate the $K$ leading left singular vectors $(u_1,\\cdots,u_K)$ of $C^{(1)}$, the mode-1 matrization of $C$. For even modest $m$ or $K$, $C^{(1)}$ will be very wide ($K^{m-1}$ columns), and computation needs to be arranged smartly to avoiding constructing the full $C^{(1)}$.\n",
    "            1. Note that many columns of $C^{(1)}$ are repeated. The unique columns correpond to the outcomes of sampling $m-1$ elements from {1,2,...,K} with replacement. Each column $(g_2, \\cdots, g_m)$ is repeated ($m-1$ choose $x_1$)*($m-1-x_1$ choose $x_2$)$\\cdot\\cdot\\cdot$($m-1-x_1-...-x_{K-1}$ choose $x_K$), where $x_k$ is the number of elements equal to $k$.\n",
    "            2. For each column $(g_2, \\cdots, g_m)$, go over all the hyperedges. For each hyperedge $e$ and each node $v\\in e$, this hyperedge contributes $\\sum_{(i_2,\\cdots,i_m)\\in \\pi(e/v)} U[i_2,g_2] \\cdots U[i_m,g_m]$ to the $v$-th row of this column.\n",
    "            3. Calculate the $K$ leading eigen-vectors of $C^{(1)}\\cdot C^{(1)T}$. We can reorder the columns of $C^{(1)}$ and rewrite it as $[C_1,C_2,...,C_2,C_3,...,C_3...]$ where $C_i$ consists of a subset of the unique columns and it appears for as many times as its columns are repeated. Then $C^{(1)}\\cdot C^{(1)T}=\\sum_i r_iC_iC_i^T$ where $r_i$ is the number of times $C_i$ is repeated. \n",
    "        4. Repeat all steps above until convergence.\n",
    "2. Compute $b_i=u_{i+1}/u_1$, $i=1,\\cdots,K-1$.\n",
    "3. Partition the rows of the matrix $[b_1,\\cdots,b_{K-1}]$ with any clustering algorithm, e.g., k-means."
   ]
  },
  {
   "cell_type": "code",
   "execution_count": 8,
   "metadata": {},
   "outputs": [],
   "source": [
    "MAX_EDGE=10 #The biggest edge size that the algorithm will see. This is needed for pre-allocation."
   ]
  },
  {
   "cell_type": "markdown",
   "metadata": {},
   "source": [
    "### Higher-Order SVD"
   ]
  },
  {
   "cell_type": "code",
   "execution_count": 9,
   "metadata": {},
   "outputs": [],
   "source": [
    "def count(x):\n",
    "    return Counter([tuple(i) for i in x])\n",
    "\n",
    "def preduce(A):\n",
    "    chunks=cpu_count()-1\n",
    "    with Pool(chunks) as pool:\n",
    "        res=pool.map(count, np.array_split(A,chunks,axis=0))\n",
    "    return reduce(lambda x,y:x+y, res)\n",
    "\n",
    "@guvectorize([(int64[:],int64[:,:],int64[:])], '(N),(M,m)->(N)',target='cuda')\n",
    "def hosvd_matrization_gpu(pair,T,res):\n",
    "    i=pair[0]\n",
    "    j=pair[1]\n",
    "    for k in range(len(res)):\n",
    "        res[k]=-1\n",
    "    end=T.shape[1]\n",
    "    indxi=0\n",
    "    indxj=0\n",
    "    ei=T[i,:]\n",
    "    ej=T[j,:]\n",
    "    overlap=cuda.local.array(MAX_EDGE,int64)\n",
    "    v=0\n",
    "    for k in range(end):\n",
    "        overlap[k]=-1\n",
    "        v+=k\n",
    "    csame=0\n",
    "    while indxi<end and indxj<end:\n",
    "        if ei[indxi]==ej[indxj]:\n",
    "            overlap[indxi]=indxj\n",
    "            csame+=1\n",
    "            indxi+=1\n",
    "            indxj+=1\n",
    "        elif ei[indxi]>ej[indxj]:\n",
    "            indxj+=1\n",
    "        else:\n",
    "            indxi+=1\n",
    "    if csame==(end-1):\n",
    "        for k in range(len(overlap)):\n",
    "            if overlap[k]==-1:\n",
    "                u=ei[k]\n",
    "            else:\n",
    "                v-=overlap[k]\n",
    "        v=ej[v]\n",
    "        if u<v:\n",
    "            res[0]=u\n",
    "            res[1]=v\n",
    "        else:\n",
    "            res[0]=v\n",
    "            res[1]=u\n",
    "\n",
    "def hosvd_gpu(N,K,hyperedges,v0=None):\n",
    "    M=len(hyperedges)\n",
    "    m=len(hyperedges[0])\n",
    "    T=cuda.to_device(np.array(hyperedges))\n",
    "    indices=hosvd_matrization_gpu(list(combinations(range(M),2)),T)\n",
    "    indices=indices.copy_to_host()\n",
    "    indices=preduce(indices)\n",
    "    del indices[(-1,-1)]\n",
    "    \n",
    "    H=ssp.coo_matrix((list(indices.values()),zip(*(indices.keys()))),shape=(N,N),dtype=float)\n",
    "    H=H+H.T\n",
    "    _,U=eigsh(H,K,v0=v0)\n",
    "\n",
    "    return U"
   ]
  },
  {
   "cell_type": "markdown",
   "metadata": {},
   "source": [
    "### Higher-Order Orthogonal Iteration"
   ]
  },
  {
   "cell_type": "code",
   "execution_count": 10,
   "metadata": {
    "scrolled": true
   },
   "outputs": [],
   "source": [
    "@guvectorize([(int64[:],int64[:,:],float64[:,:],int64[:,:],float64[:])], '(m1),(M,m),(N,K),(p,m1)->(N)',target='cuda')\n",
    "def hooi_matrization_gpu(km, T, U, permute, res):\n",
    "    m=T.shape[1]\n",
    "    for i in range(len(res)):\n",
    "        res[i]=0\n",
    "    for i in range(T.shape[0]):\n",
    "        for j in range(m):\n",
    "            im=cuda.local.array(MAX_EDGE,int64)\n",
    "            k=0\n",
    "            for l in range(m):\n",
    "                if l!=j:\n",
    "                    im[k]=T[i,l]\n",
    "                    k+=1\n",
    "            for p in range(permute.shape[0]):\n",
    "                prod=1.0\n",
    "                for k in range(m-1):\n",
    "                    prod*=U[im[permute[p,k]],km[k]]\n",
    "                res[T[i,j]]+=prod\n",
    "\n",
    "def comb2(e):\n",
    "    c=Counter(e)\n",
    "    res=1\n",
    "    a=m-1\n",
    "    for v in c.values():\n",
    "        res*=comb(a,v)\n",
    "        a=a-v\n",
    "    return int(res)\n",
    "\n",
    "def hooi_gpu(N, K, edges, U0, iterations=1, diagnose=True):\n",
    "    m=len(edges[0])\n",
    "    U_prev=U0\n",
    "    U_new=U0\n",
    "    permute=np.array(list(permutations(range(m-1))))\n",
    "    permute=cuda.to_device(permute)\n",
    "    T=cuda.to_device(np.array(edges))\n",
    "    for iteration in range(iterations):\n",
    "        cols=sorted(combinations_with_replacement(range(K), m-1), key=comb2)\n",
    "        A=np.zeros([N,N])\n",
    "        for k,sub_cols in groupby(cols,comb2):\n",
    "            T2=hooi_matrization_gpu(list(sub_cols),T,U_prev,permute)\n",
    "            T2=T2.copy_to_host()\n",
    "            A+=k*T2.T.dot(T2)\n",
    "#         U_new,_,_=ssp.linalg.svds(T2,k=K)\n",
    "        _,U_new=eigh(A,eigvals=(N-K,N-1))\n",
    "        if diagnose:\n",
    "            print(\"Iteration: {}, Difference: {}\".format(iteration, np.linalg.norm(abs(U_new)-abs(U_prev))), flush=True)\n",
    "        U_prev=U_new\n",
    "    return U_new"
   ]
  },
  {
   "cell_type": "markdown",
   "metadata": {},
   "source": [
    "### SCORE"
   ]
  },
  {
   "cell_type": "code",
   "execution_count": 11,
   "metadata": {},
   "outputs": [],
   "source": [
    "def score(G,K,eigs=False,project='binary'):\n",
    "    if project not in ['binary', 'sum', 'normalized']:\n",
    "        raise ValueError(\"Invalid projection type.\")\n",
    "    if project=='normalized':\n",
    "        d=G.sum(axis=1).A.flatten()\n",
    "        d=1/d\n",
    "        D=ssp.diags(d)\n",
    "        A=G.T*D*D*G\n",
    "    else:\n",
    "        A=G.T*G\n",
    "    if project is 'binary':\n",
    "        A.data=np.ones_like(A.data)\n",
    "    _,U=eigsh(A,K)\n",
    "    if eigs:\n",
    "        return U\n",
    "    B = U[:,:-1]/U[:,-1].reshape(len(U),1)\n",
    "    return B"
   ]
  },
  {
   "cell_type": "markdown",
   "metadata": {},
   "source": [
    "### Non-uniform Hypergraphs"
   ]
  },
  {
   "cell_type": "markdown",
   "metadata": {},
   "source": [
    "If the hypergraph is not uniform (not all the hyperedges are of the same size), make all the hyperedges the same size by adding dummy nodes."
   ]
  },
  {
   "cell_type": "code",
   "execution_count": 12,
   "metadata": {},
   "outputs": [],
   "source": [
    "# Edges smaller than m will get dummy nodes, and edges larger than m will be projected to edges of size m.\n",
    "# N: number of nodes.\n",
    "# m: target uniform edge size.\n",
    "# edges: input hyperedges.\n",
    "# max_size: edges larger than max_size will be ignored. \n",
    "def homogenize(N,m,edges,max_size=None):\n",
    "    if max_size is None:\n",
    "        max_size=m\n",
    "    min_size=m\n",
    "    for e in edges:\n",
    "        if (len(e)!=1 and len(e)<min_size):\n",
    "            min_size=len(e)\n",
    "    dummies=np.ones(m-min_size)*N + np.arange(m-min_size)\n",
    "    dummies=tuple(dummies.astype(int))\n",
    "    newedges=set()\n",
    "    for e in edges:\n",
    "        if len(e)<=1 or len(e)>max_size:\n",
    "            continue\n",
    "        if len(e)>m:\n",
    "            for i in combinations(e,m):\n",
    "                newedges.add(i)\n",
    "        elif len(e)==m:\n",
    "            newedges.add(e)\n",
    "        else:\n",
    "            newedges.add(e+dummies[len(e)-min_size:])\n",
    "    return len(dummies), list(newedges)"
   ]
  },
  {
   "cell_type": "markdown",
   "metadata": {},
   "source": [
    "##  Synthetic Data"
   ]
  },
  {
   "cell_type": "markdown",
   "metadata": {},
   "source": [
    "Hypergraph generated from the SBM, with $N$ nodes, edges of size $m$, and $K$ communities. "
   ]
  },
  {
   "cell_type": "code",
   "execution_count": 13,
   "metadata": {},
   "outputs": [],
   "source": [
    "N=50\n",
    "m=3\n",
    "K=2\n",
    "comm=np.zeros(N)\n",
    "comm[25:]=1\n",
    "pwithin=0.1\n",
    "pbetween=0.01"
   ]
  },
  {
   "cell_type": "code",
   "execution_count": 14,
   "metadata": {},
   "outputs": [
    {
     "name": "stdout",
     "output_type": "stream",
     "text": [
      "between: 167, within: 487\n"
     ]
    }
   ],
   "source": [
    "edges = generate(N,m,comm,pwithin,pbetween)"
   ]
  },
  {
   "cell_type": "markdown",
   "metadata": {},
   "source": [
    "#### HOSVD"
   ]
  },
  {
   "cell_type": "code",
   "execution_count": 15,
   "metadata": {},
   "outputs": [],
   "source": [
    "U0 = hosvd_gpu(N,K,edges)\n",
    "B0 = U0[:,:-1]/U0[:,-1].reshape(len(U0),1)"
   ]
  },
  {
   "cell_type": "code",
   "execution_count": 16,
   "metadata": {},
   "outputs": [
    {
     "data": {
      "image/png": "[encoded data removed]",
      "text/plain": [
       "<Figure size 432x288 with 1 Axes>"
      ]
     },
     "metadata": {
      "needs_background": "light"
     },
     "output_type": "display_data"
    }
   ],
   "source": [
    "plt.scatter(range(len(B0)), B0, s=30,c=comm, cmap=ListedColormap(sns.color_palette(\"Set2\", 2)));\n",
    "plt.xlabel('Node ID');\n",
    "plt.ylabel('R');"
   ]
  },
  {
   "cell_type": "code",
   "execution_count": 17,
   "metadata": {},
   "outputs": [
    {
     "data": {
      "text/plain": [
       "Counter({0: 25, 1: 25})"
      ]
     },
     "execution_count": 17,
     "metadata": {},
     "output_type": "execute_result"
    }
   ],
   "source": [
    "labels = skcluster.KMeans(n_clusters=K).fit(B0[:N,:])\n",
    "Counter(labels.labels_)"
   ]
  },
  {
   "cell_type": "code",
   "execution_count": 18,
   "metadata": {},
   "outputs": [
    {
     "name": "stdout",
     "output_type": "stream",
     "text": [
      "1.0\n",
      "1.0\n",
      "1.0\n",
      "1.0\n",
      "1.0\n"
     ]
    },
    {
     "name": "stderr",
     "output_type": "stream",
     "text": [
      "/home/bill10/anaconda3/lib/python3.7/site-packages/sklearn/metrics/cluster/supervised.py:732: FutureWarning: The behavior of AMI will change in version 0.22. To match the behavior of 'v_measure_score', AMI will use average_method='arithmetic' by default.\n",
      "  FutureWarning)\n",
      "/home/bill10/anaconda3/lib/python3.7/site-packages/sklearn/metrics/cluster/supervised.py:844: FutureWarning: The behavior of NMI will change in version 0.22. To match the behavior of 'v_measure_score', NMI will use average_method='arithmetic' by default.\n",
      "  FutureWarning)\n"
     ]
    }
   ],
   "source": [
    "print(metrics.adjusted_rand_score(comm,labels.labels_))\n",
    "print(metrics.adjusted_mutual_info_score(comm,labels.labels_))\n",
    "print(metrics.normalized_mutual_info_score(comm,labels.labels_))\n",
    "print(metrics.homogeneity_score(comm,labels.labels_)  )\n",
    "print(metrics.completeness_score(comm,labels.labels_)  )"
   ]
  },
  {
   "cell_type": "markdown",
   "metadata": {},
   "source": [
    "#### HOOI"
   ]
  },
  {
   "cell_type": "code",
   "execution_count": 19,
   "metadata": {},
   "outputs": [
    {
     "name": "stdout",
     "output_type": "stream",
     "text": [
      "Iteration: 0, Difference: 0.17876936834384866\n",
      "Iteration: 1, Difference: 0.03805321874068803\n",
      "Iteration: 2, Difference: 0.01316645309101559\n",
      "Iteration: 3, Difference: 0.005368656541156046\n",
      "Iteration: 4, Difference: 0.0023474280641055836\n",
      "Iteration: 5, Difference: 0.001058677422633988\n",
      "Iteration: 6, Difference: 0.00048513568123183904\n",
      "Iteration: 7, Difference: 0.00022480098257433945\n",
      "Iteration: 8, Difference: 0.00010488491504794689\n",
      "Iteration: 9, Difference: 4.9239829307779384e-05\n"
     ]
    }
   ],
   "source": [
    "U=hooi_gpu(N, K, edges, U0, iterations=10, diagnose=True)\n",
    "B = U[:,:-1]/U[:,-1].reshape(len(U),1)"
   ]
  },
  {
   "cell_type": "code",
   "execution_count": 20,
   "metadata": {},
   "outputs": [
    {
     "data": {
      "image/png": "[encoded data removed]",
      "text/plain": [
       "<Figure size 432x288 with 1 Axes>"
      ]
     },
     "metadata": {
      "needs_background": "light"
     },
     "output_type": "display_data"
    }
   ],
   "source": [
    "plt.scatter(range(len(B)), B, s=30,c=comm, cmap=ListedColormap(sns.color_palette(\"Set2\", 2)));\n",
    "plt.xlabel('Node ID');\n",
    "plt.ylabel('R');"
   ]
  },
  {
   "cell_type": "code",
   "execution_count": 21,
   "metadata": {},
   "outputs": [
    {
     "data": {
      "text/plain": [
       "Counter({0: 25, 1: 25})"
      ]
     },
     "execution_count": 21,
     "metadata": {},
     "output_type": "execute_result"
    }
   ],
   "source": [
    "labels = skcluster.KMeans(n_clusters=K).fit(B)\n",
    "Counter(labels.labels_)"
   ]
  },
  {
   "cell_type": "code",
   "execution_count": 22,
   "metadata": {},
   "outputs": [
    {
     "name": "stdout",
     "output_type": "stream",
     "text": [
      "1.0\n",
      "1.0\n",
      "1.0\n",
      "1.0\n",
      "1.0\n"
     ]
    },
    {
     "name": "stderr",
     "output_type": "stream",
     "text": [
      "/home/bill10/anaconda3/lib/python3.7/site-packages/sklearn/metrics/cluster/supervised.py:732: FutureWarning: The behavior of AMI will change in version 0.22. To match the behavior of 'v_measure_score', AMI will use average_method='arithmetic' by default.\n",
      "  FutureWarning)\n",
      "/home/bill10/anaconda3/lib/python3.7/site-packages/sklearn/metrics/cluster/supervised.py:844: FutureWarning: The behavior of NMI will change in version 0.22. To match the behavior of 'v_measure_score', NMI will use average_method='arithmetic' by default.\n",
      "  FutureWarning)\n"
     ]
    }
   ],
   "source": [
    "print(metrics.adjusted_rand_score(comm,labels.labels_))\n",
    "print(metrics.adjusted_mutual_info_score(comm,labels.labels_))\n",
    "print(metrics.normalized_mutual_info_score(comm,labels.labels_))\n",
    "print(metrics.homogeneity_score(comm,labels.labels_)  )\n",
    "print(metrics.completeness_score(comm,labels.labels_)  )"
   ]
  },
  {
   "cell_type": "markdown",
   "metadata": {},
   "source": [
    "#### SCORE"
   ]
  },
  {
   "cell_type": "code",
   "execution_count": 23,
   "metadata": {},
   "outputs": [],
   "source": [
    "G=get_incidence(edges)"
   ]
  },
  {
   "cell_type": "code",
   "execution_count": 24,
   "metadata": {},
   "outputs": [],
   "source": [
    "B2=score(G,K)"
   ]
  },
  {
   "cell_type": "code",
   "execution_count": 25,
   "metadata": {},
   "outputs": [
    {
     "data": {
      "image/png": "[encoded data removed]",
      "text/plain": [
       "<Figure size 432x288 with 1 Axes>"
      ]
     },
     "metadata": {
      "needs_background": "light"
     },
     "output_type": "display_data"
    }
   ],
   "source": [
    "plt.scatter(range(len(B2)), B2, s=30,c=comm, cmap=ListedColormap(sns.color_palette(\"Set2\", 2)));"
   ]
  },
  {
   "cell_type": "code",
   "execution_count": 26,
   "metadata": {},
   "outputs": [
    {
     "data": {
      "text/plain": [
       "Counter({1: 25, 0: 25})"
      ]
     },
     "execution_count": 26,
     "metadata": {},
     "output_type": "execute_result"
    }
   ],
   "source": [
    "labels = skcluster.KMeans(n_clusters=K).fit(B2)\n",
    "Counter(labels.labels_)"
   ]
  },
  {
   "cell_type": "code",
   "execution_count": 27,
   "metadata": {},
   "outputs": [
    {
     "name": "stdout",
     "output_type": "stream",
     "text": [
      "1.0\n",
      "1.0\n",
      "1.0\n",
      "1.0\n",
      "1.0\n"
     ]
    },
    {
     "name": "stderr",
     "output_type": "stream",
     "text": [
      "/home/bill10/anaconda3/lib/python3.7/site-packages/sklearn/metrics/cluster/supervised.py:732: FutureWarning: The behavior of AMI will change in version 0.22. To match the behavior of 'v_measure_score', AMI will use average_method='arithmetic' by default.\n",
      "  FutureWarning)\n",
      "/home/bill10/anaconda3/lib/python3.7/site-packages/sklearn/metrics/cluster/supervised.py:844: FutureWarning: The behavior of NMI will change in version 0.22. To match the behavior of 'v_measure_score', NMI will use average_method='arithmetic' by default.\n",
      "  FutureWarning)\n"
     ]
    }
   ],
   "source": [
    "print(metrics.adjusted_rand_score(comm,labels.labels_))\n",
    "print(metrics.adjusted_mutual_info_score(comm,labels.labels_))\n",
    "print(metrics.normalized_mutual_info_score(comm,labels.labels_))\n",
    "print(metrics.homogeneity_score(comm,labels.labels_)  )\n",
    "print(metrics.completeness_score(comm,labels.labels_)  )"
   ]
  },
  {
   "cell_type": "markdown",
   "metadata": {},
   "source": [
    "## Real Data"
   ]
  },
  {
   "cell_type": "markdown",
   "metadata": {},
   "source": [
    "### Dataset 1: Legislator Network"
   ]
  },
  {
   "cell_type": "markdown",
   "metadata": {},
   "source": [
    "* Node: congressman of Peru.\n",
    "* Edge: a bill proposed in the congress of Peru."
   ]
  },
  {
   "cell_type": "markdown",
   "metadata": {},
   "source": [
    "#### Data"
   ]
  },
  {
   "cell_type": "code",
   "execution_count": 89,
   "metadata": {},
   "outputs": [],
   "source": [
    "G=load_edges('../Data/Legislator/legislator.csv')\n",
    "N=G.shape[1]"
   ]
  },
  {
   "cell_type": "code",
   "execution_count": 90,
   "metadata": {},
   "outputs": [],
   "source": [
    "df=pd.read_csv('../Data/Legislator/legislator_party.csv',sep='\\t')\n",
    "comm=np.zeros(N,dtype=int)\n",
    "comm[df['node_id']]=df['party_id']"
   ]
  },
  {
   "cell_type": "code",
   "execution_count": 91,
   "metadata": {},
   "outputs": [],
   "source": [
    "edges=get_hyperedges(G)"
   ]
  },
  {
   "cell_type": "code",
   "execution_count": 92,
   "metadata": {},
   "outputs": [
    {
     "name": "stdout",
     "output_type": "stream",
     "text": [
      "Distribution of edge sizes:\n",
      "[(2, 19), (3, 5), (4, 14), (5, 15), (6, 805), (7, 743), (8, 446), (9, 245), (10, 142), (11, 104), (12, 60), (13, 53), (14, 41), (15, 34), (16, 26), (17, 17), (18, 16), (19, 8), (20, 8), (21, 4), (22, 6), (23, 1), (24, 3), (25, 2), (26, 2), (27, 1), (28, 1), (29, 2), (31, 1), (33, 1), (34, 1), (40, 1), (49, 1), (60, 1), (65, 1)]\n"
     ]
    }
   ],
   "source": [
    "print(\"Distribution of edge sizes:\")\n",
    "print(sorted(Counter([len(i) for i in edges]).items()))"
   ]
  },
  {
   "cell_type": "markdown",
   "metadata": {},
   "source": [
    "#### Homogenize"
   ]
  },
  {
   "cell_type": "code",
   "execution_count": 93,
   "metadata": {},
   "outputs": [],
   "source": [
    "# Add dummy nodes to make all edges of size $m$\n",
    "m=6\n",
    "dummies,regular_edges=homogenize(N,m,edges,8)"
   ]
  },
  {
   "cell_type": "markdown",
   "metadata": {},
   "source": [
    "#### HOSVD"
   ]
  },
  {
   "cell_type": "code",
   "execution_count": 95,
   "metadata": {},
   "outputs": [],
   "source": [
    "K=7"
   ]
  },
  {
   "cell_type": "code",
   "execution_count": 96,
   "metadata": {},
   "outputs": [],
   "source": [
    "U0 = hosvd_gpu(N+dummies,K,regular_edges)\n",
    "B0 = U0[:,:-1]/U0[:,-1].reshape(len(U0),1)"
   ]
  },
  {
   "cell_type": "code",
   "execution_count": 97,
   "metadata": {},
   "outputs": [
    {
     "data": {
      "image/png": "[encoded data removed]",
      "text/plain": [
       "<Figure size 432x288 with 2 Axes>"
      ]
     },
     "metadata": {
      "needs_background": "light"
     },
     "output_type": "display_data"
    }
   ],
   "source": [
    "pos = TSNE(n_components=2).fit_transform(B0[:N,:])\n",
    "plt.scatter(pos[:N,0],pos[:N,1],s=30,c=comm, cmap=ListedColormap(sns.color_palette(\"Set2\", K)));\n",
    "plt.colorbar();"
   ]
  },
  {
   "cell_type": "code",
   "execution_count": 98,
   "metadata": {},
   "outputs": [
    {
     "data": {
      "text/plain": [
       "Counter({2: 17, 5: 23, 0: 9, 3: 24, 1: 11, 6: 29, 4: 17})"
      ]
     },
     "execution_count": 98,
     "metadata": {},
     "output_type": "execute_result"
    }
   ],
   "source": [
    "labels = skcluster.KMeans(n_clusters=K).fit(B0[:N,:])\n",
    "Counter(labels.labels_)"
   ]
  },
  {
   "cell_type": "code",
   "execution_count": 101,
   "metadata": {},
   "outputs": [
    {
     "name": "stdout",
     "output_type": "stream",
     "text": [
      "0.5418694285608133\n",
      "0.5856888300180197\n",
      "0.6858466457903286\n",
      "0.7614341853361974\n",
      "0.6177626781153178\n"
     ]
    },
    {
     "name": "stderr",
     "output_type": "stream",
     "text": [
      "/home/bill10/anaconda3/lib/python3.7/site-packages/sklearn/metrics/cluster/supervised.py:732: FutureWarning: The behavior of AMI will change in version 0.22. To match the behavior of 'v_measure_score', AMI will use average_method='arithmetic' by default.\n",
      "  FutureWarning)\n",
      "/home/bill10/anaconda3/lib/python3.7/site-packages/sklearn/metrics/cluster/supervised.py:844: FutureWarning: The behavior of NMI will change in version 0.22. To match the behavior of 'v_measure_score', NMI will use average_method='arithmetic' by default.\n",
      "  FutureWarning)\n"
     ]
    }
   ],
   "source": [
    "print(metrics.adjusted_rand_score(comm,labels.labels_))\n",
    "print(metrics.adjusted_mutual_info_score(comm,labels.labels_))\n",
    "print(metrics.normalized_mutual_info_score(comm,labels.labels_))\n",
    "print(metrics.homogeneity_score(comm,labels.labels_)  )\n",
    "print(metrics.completeness_score(comm,labels.labels_)  )"
   ]
  },
  {
   "cell_type": "code",
   "execution_count": 102,
   "metadata": {},
   "outputs": [
    {
     "data": {
      "text/plain": [
       "array([[ 2, 11,  0,  0,  0,  0,  0],\n",
       "       [ 3,  0,  0,  0,  0,  4,  0],\n",
       "       [ 0,  0,  9,  0,  0,  0, 29],\n",
       "       [ 1,  0,  1,  0, 17,  0,  0],\n",
       "       [ 1,  0,  1,  0,  0,  0,  0],\n",
       "       [ 1,  0,  0,  0,  0,  1,  0],\n",
       "       [ 1,  0,  6, 24,  0, 18,  0]])"
      ]
     },
     "execution_count": 102,
     "metadata": {},
     "output_type": "execute_result"
    }
   ],
   "source": [
    "contingency_matrix(comm,labels.labels_)  "
   ]
  },
  {
   "cell_type": "markdown",
   "metadata": {},
   "source": [
    "#### HOOI"
   ]
  },
  {
   "cell_type": "code",
   "execution_count": 103,
   "metadata": {},
   "outputs": [
    {
     "name": "stdout",
     "output_type": "stream",
     "text": [
      "Iteration: 0, Difference: 2.9522267844963395\n",
      "Iteration: 1, Difference: 0.49442772726696704\n",
      "Iteration: 2, Difference: 0.27346377704428987\n",
      "Iteration: 3, Difference: 0.2514949332309892\n",
      "Iteration: 4, Difference: 0.21824167603073086\n"
     ]
    }
   ],
   "source": [
    "U=hooi_gpu(N+dummies, K, regular_edges, U0, iterations=5, diagnose=True)"
   ]
  },
  {
   "cell_type": "code",
   "execution_count": 127,
   "metadata": {},
   "outputs": [],
   "source": [
    "# x=U[:N,-1]\n",
    "# d=(x==0)\n",
    "# x[d]=1\n",
    "B = U[:N,:-1]/x.reshape(N,1)\n",
    "# B[d,:]=B.max()\n",
    "B[B>100]=100\n",
    "B[B<-100]=-100"
   ]
  },
  {
   "cell_type": "code",
   "execution_count": 128,
   "metadata": {},
   "outputs": [
    {
     "data": {
      "image/png": "[encoded data removed]",
      "text/plain": [
       "<Figure size 432x288 with 2 Axes>"
      ]
     },
     "metadata": {
      "needs_background": "light"
     },
     "output_type": "display_data"
    }
   ],
   "source": [
    "pos = TSNE(n_components=2).fit_transform(B)\n",
    "plt.scatter(pos[:N,0],pos[:N,1],s=30,c=comm, cmap=ListedColormap(sns.color_palette(\"Set2\", 7)));\n",
    "plt.colorbar();"
   ]
  },
  {
   "cell_type": "code",
   "execution_count": 129,
   "metadata": {},
   "outputs": [
    {
     "data": {
      "text/plain": [
       "Counter({0: 24, 1: 23, 6: 8, 2: 23, 4: 16, 5: 15, 3: 21})"
      ]
     },
     "execution_count": 129,
     "metadata": {},
     "output_type": "execute_result"
    }
   ],
   "source": [
    "labels = skcluster.KMeans(n_clusters=K).fit(B)\n",
    "Counter(labels.labels_)"
   ]
  },
  {
   "cell_type": "code",
   "execution_count": 130,
   "metadata": {},
   "outputs": [
    {
     "name": "stdout",
     "output_type": "stream",
     "text": [
      "0.49514759637656053\n",
      "0.5815588231774814\n",
      "0.6847784049971937\n",
      "0.7640726524298505\n",
      "0.6137131887383607\n"
     ]
    },
    {
     "name": "stderr",
     "output_type": "stream",
     "text": [
      "/home/bill10/anaconda3/lib/python3.7/site-packages/sklearn/metrics/cluster/supervised.py:732: FutureWarning: The behavior of AMI will change in version 0.22. To match the behavior of 'v_measure_score', AMI will use average_method='arithmetic' by default.\n",
      "  FutureWarning)\n",
      "/home/bill10/anaconda3/lib/python3.7/site-packages/sklearn/metrics/cluster/supervised.py:844: FutureWarning: The behavior of NMI will change in version 0.22. To match the behavior of 'v_measure_score', NMI will use average_method='arithmetic' by default.\n",
      "  FutureWarning)\n"
     ]
    }
   ],
   "source": [
    "print(metrics.adjusted_rand_score(comm,labels.labels_))\n",
    "print(metrics.adjusted_mutual_info_score(comm,labels.labels_))\n",
    "print(metrics.normalized_mutual_info_score(comm,labels.labels_))\n",
    "print(metrics.homogeneity_score(comm,labels.labels_)  )\n",
    "print(metrics.completeness_score(comm,labels.labels_)  )"
   ]
  },
  {
   "cell_type": "code",
   "execution_count": 131,
   "metadata": {},
   "outputs": [
    {
     "data": {
      "text/plain": [
       "array([[ 0,  0,  0,  0, 13,  0,  0],\n",
       "       [ 1,  0,  2,  3,  1,  0,  0],\n",
       "       [ 0, 23,  0,  0,  0, 15,  0],\n",
       "       [ 0,  0, 19,  0,  0,  0,  0],\n",
       "       [ 1,  0,  0,  0,  1,  0,  0],\n",
       "       [ 1,  0,  1,  0,  0,  0,  0],\n",
       "       [21,  0,  1, 18,  1,  0,  8]])"
      ]
     },
     "execution_count": 131,
     "metadata": {},
     "output_type": "execute_result"
    }
   ],
   "source": [
    "contingency_matrix(comm,labels.labels_)  "
   ]
  },
  {
   "cell_type": "markdown",
   "metadata": {},
   "source": [
    "#### SCORE"
   ]
  },
  {
   "cell_type": "code",
   "execution_count": 132,
   "metadata": {},
   "outputs": [],
   "source": [
    "B2=score(G,K)"
   ]
  },
  {
   "cell_type": "code",
   "execution_count": 133,
   "metadata": {},
   "outputs": [
    {
     "data": {
      "image/png": "[encoded data removed]",
      "text/plain": [
       "<Figure size 432x288 with 2 Axes>"
      ]
     },
     "metadata": {
      "needs_background": "light"
     },
     "output_type": "display_data"
    }
   ],
   "source": [
    "pos = TSNE(n_components=2).fit_transform(B2)\n",
    "plt.scatter(pos[:,0],pos[:,1],s=30,c=comm, cmap=ListedColormap(sns.color_palette(\"Set2\", 7)));\n",
    "plt.colorbar();"
   ]
  },
  {
   "cell_type": "code",
   "execution_count": 135,
   "metadata": {},
   "outputs": [
    {
     "data": {
      "text/plain": [
       "Counter({2: 53, 0: 39, 4: 23, 5: 5, 3: 3, 6: 2, 1: 5})"
      ]
     },
     "execution_count": 135,
     "metadata": {},
     "output_type": "execute_result"
    }
   ],
   "source": [
    "labels = skcluster.KMeans(n_clusters=K).fit(B2)\n",
    "Counter(labels.labels_)"
   ]
  },
  {
   "cell_type": "code",
   "execution_count": 136,
   "metadata": {},
   "outputs": [
    {
     "name": "stdout",
     "output_type": "stream",
     "text": [
      "0.31066922132328034\n",
      "0.28634076962263005\n",
      "0.3562642762069815\n",
      "0.34569185652809226\n",
      "0.3671600360391192\n"
     ]
    },
    {
     "name": "stderr",
     "output_type": "stream",
     "text": [
      "/home/bill10/anaconda3/lib/python3.7/site-packages/sklearn/metrics/cluster/supervised.py:732: FutureWarning: The behavior of AMI will change in version 0.22. To match the behavior of 'v_measure_score', AMI will use average_method='arithmetic' by default.\n",
      "  FutureWarning)\n",
      "/home/bill10/anaconda3/lib/python3.7/site-packages/sklearn/metrics/cluster/supervised.py:844: FutureWarning: The behavior of NMI will change in version 0.22. To match the behavior of 'v_measure_score', NMI will use average_method='arithmetic' by default.\n",
      "  FutureWarning)\n"
     ]
    }
   ],
   "source": [
    "print(metrics.adjusted_rand_score(comm,labels.labels_))\n",
    "print(metrics.adjusted_mutual_info_score(comm,labels.labels_))\n",
    "print(metrics.normalized_mutual_info_score(comm,labels.labels_))\n",
    "print(metrics.homogeneity_score(comm,labels.labels_)  )\n",
    "print(metrics.completeness_score(comm,labels.labels_)  )"
   ]
  },
  {
   "cell_type": "code",
   "execution_count": 137,
   "metadata": {},
   "outputs": [
    {
     "data": {
      "text/plain": [
       "array([[ 5,  0,  4,  0,  2,  2,  0],\n",
       "       [ 0,  1,  4,  0,  2,  0,  0],\n",
       "       [29,  0,  7,  0,  0,  0,  2],\n",
       "       [ 0,  0,  3,  3, 10,  3,  0],\n",
       "       [ 0,  0,  0,  0,  2,  0,  0],\n",
       "       [ 1,  0,  0,  0,  1,  0,  0],\n",
       "       [ 4,  4, 35,  0,  6,  0,  0]])"
      ]
     },
     "execution_count": 137,
     "metadata": {},
     "output_type": "execute_result"
    }
   ],
   "source": [
    "contingency_matrix(comm,labels.labels_)  "
   ]
  },
  {
   "cell_type": "markdown",
   "metadata": {},
   "source": [
    "### Dataset 2: Stats Paper citation"
   ]
  },
  {
   "cell_type": "markdown",
   "metadata": {},
   "source": [
    "* Node: paper\n",
    "* Edge: a set of papers cited by a paper"
   ]
  },
  {
   "cell_type": "markdown",
   "metadata": {},
   "source": [
    "#### Data"
   ]
  },
  {
   "cell_type": "code",
   "execution_count": 62,
   "metadata": {},
   "outputs": [],
   "source": [
    "G=load_edges('../Data/Stats_citation/citation.tsv',sep='\\t')\n",
    "N=G.shape[1]"
   ]
  },
  {
   "cell_type": "code",
   "execution_count": 63,
   "metadata": {},
   "outputs": [],
   "source": [
    "G2, nodes, _=largest_component(G,2)\n",
    "N=G2.shape[1]"
   ]
  },
  {
   "cell_type": "code",
   "execution_count": 65,
   "metadata": {},
   "outputs": [],
   "source": [
    "node_df=pd.read_csv('../Data/Stats_citation/paperList.txt')\n",
    "node_df['ID']=node_df.index\n",
    "node_df=node_df.merge(pd.DataFrame({\"ID\":nodes}), on='ID')"
   ]
  },
  {
   "cell_type": "code",
   "execution_count": 66,
   "metadata": {},
   "outputs": [
    {
     "name": "stdout",
     "output_type": "stream",
     "text": [
      "Distribution of edge sizes:\n",
      "[(2, 130), (3, 106), (4, 82), (5, 70), (6, 51), (7, 37), (8, 28), (9, 17), (10, 24), (11, 14), (12, 9), (13, 5), (14, 2), (15, 1), (18, 1), (19, 1), (21, 1)]\n"
     ]
    }
   ],
   "source": [
    "edges=get_hyperedges(G2)\n",
    "print(\"Distribution of edge sizes:\")\n",
    "print(sorted(Counter([len(i) for i in edges]).items()))"
   ]
  },
  {
   "cell_type": "markdown",
   "metadata": {},
   "source": [
    "#### Homogenize"
   ]
  },
  {
   "cell_type": "code",
   "execution_count": 67,
   "metadata": {},
   "outputs": [],
   "source": [
    "# Add dummy nodes to make all edges of size $m$\n",
    "m=7\n",
    "dummies,regular_edges=homogenize(N,m,edges,8)"
   ]
  },
  {
   "cell_type": "markdown",
   "metadata": {},
   "source": [
    "#### HOSVD"
   ]
  },
  {
   "cell_type": "code",
   "execution_count": 68,
   "metadata": {},
   "outputs": [],
   "source": [
    "K=5"
   ]
  },
  {
   "cell_type": "code",
   "execution_count": 69,
   "metadata": {},
   "outputs": [],
   "source": [
    "U0 = hosvd_gpu(N+dummies,K,regular_edges)\n",
    "B0 = U0[:,:-1]/U0[:,-1].reshape(len(U0),1)"
   ]
  },
  {
   "cell_type": "code",
   "execution_count": 74,
   "metadata": {},
   "outputs": [
    {
     "data": {
      "text/plain": [
       "Counter({0: 376, 3: 20, 1: 3, 4: 1, 2: 1})"
      ]
     },
     "execution_count": 74,
     "metadata": {},
     "output_type": "execute_result"
    }
   ],
   "source": [
    "labels = skcluster.KMeans(n_clusters=K).fit(B0[:N,:])\n",
    "Counter(labels.labels_)"
   ]
  },
  {
   "cell_type": "code",
   "execution_count": 72,
   "metadata": {},
   "outputs": [
    {
     "data": {
      "image/png": "[encoded data removed]",
      "text/plain": [
       "<Figure size 432x288 with 1 Axes>"
      ]
     },
     "metadata": {
      "needs_background": "light"
     },
     "output_type": "display_data"
    }
   ],
   "source": [
    "pos = TSNE(n_components=2).fit_transform(B0[:N,:])\n",
    "plt.scatter(pos[:N,0],pos[:N,1],s=10,c=labels.labels_);"
   ]
  },
  {
   "cell_type": "code",
   "execution_count": 73,
   "metadata": {},
   "outputs": [
    {
     "data": {
      "text/html": [
       "\n",
       "\n",
       "\n",
       "\n",
       "\n",
       "\n",
       "  <div class=\"bk-root\" id=\"fb8cdf94-3abf-46c0-93ac-777ccabf67af\" data-root-id=\"1005\"></div>\n"
      ]
     },
     "metadata": {},
     "output_type": "display_data"
    },
    {
     "data": {
      "application/javascript": [
       "(function(root) {\n",
       "  function embed_document(root) {\n",
       "    \n",
       "  var docs_json = {\"bd141469-bf69-4267-a9b8-3d73d7f07198\":{\"roots\":{\"references\":[{\"attributes\":{\"below\":[{\"id\":\"1014\",\"type\":\"LinearAxis\"}],\"left\":[{\"id\":\"1019\",\"type\":\"LinearAxis\"}],\"plot_height\":500,\"plot_width\":750,\"renderers\":[{\"id\":\"1014\",\"type\":\"LinearAxis\"},{\"id\":\"1018\",\"type\":\"Grid\"},{\"id\":\"1019\",\"type\":\"LinearAxis\"},{\"id\":\"1023\",\"type\":\"Grid\"},{\"id\":\"1032\",\"type\":\"BoxAnnotation\"},{\"id\":\"1042\",\"type\":\"GlyphRenderer\"}],\"title\":{\"id\":\"1045\",\"type\":\"Title\"},\"toolbar\":{\"id\":\"1030\",\"type\":\"Toolbar\"},\"x_range\":{\"id\":\"1006\",\"type\":\"DataRange1d\"},\"x_scale\":{\"id\":\"1010\",\"type\":\"LinearScale\"},\"y_range\":{\"id\":\"1008\",\"type\":\"DataRange1d\"},\"y_scale\":{\"id\":\"1012\",\"type\":\"LinearScale\"}},\"id\":\"1005\",\"subtype\":\"Figure\",\"type\":\"Plot\"},{\"attributes\":{\"callback\":null,\"tooltips\":[[\"\",\"@desc\"]]},\"id\":\"1004\",\"type\":\"HoverTool\"},{\"attributes\":{},\"id\":\"1053\",\"type\":\"UnionRenderers\"},{\"attributes\":{},\"id\":\"1027\",\"type\":\"SaveTool\"},{\"attributes\":{\"formatter\":{\"id\":\"1049\",\"type\":\"BasicTickFormatter\"},\"plot\":{\"id\":\"1005\",\"subtype\":\"Figure\",\"type\":\"Plot\"},\"ticker\":{\"id\":\"1020\",\"type\":\"BasicTicker\"}},\"id\":\"1019\",\"type\":\"LinearAxis\"},{\"attributes\":{\"source\":{\"id\":\"1003\",\"type\":\"ColumnDataSource\"}},\"id\":\"1043\",\"type\":\"CDSView\"},{\"attributes\":{\"dimension\":1,\"plot\":{\"id\":\"1005\",\"subtype\":\"Figure\",\"type\":\"Plot\"},\"ticker\":{\"id\":\"1020\",\"type\":\"BasicTicker\"}},\"id\":\"1023\",\"type\":\"Grid\"},{\"attributes\":{},\"id\":\"1052\",\"type\":\"Selection\"},{\"attributes\":{\"callback\":null,\"data\":{\"c\":[\"0\",\"0\",\"0\",\"0\",\"0\",\"0\",\"0\",\"0\",\"0\",\"0\",\"0\",\"0\",\"0\",\"0\",\"0\",\"0\",\"0\",\"0\",\"0\",\"0\",\"0\",\"0\",\"0\",\"0\",\"0\",\"0\",\"0\",\"0\",\"0\",\"0\",\"0\",\"0\",\"0\",\"0\",\"0\",\"0\",\"0\",\"0\",\"0\",\"0\",\"0\",\"3\",\"3\",\"3\",\"0\",\"0\",\"0\",\"0\",\"0\",\"0\",\"0\",\"0\",\"0\",\"0\",\"0\",\"0\",\"0\",\"0\",\"0\",\"0\",\"0\",\"0\",\"0\",\"0\",\"0\",\"0\",\"0\",\"0\",\"0\",\"0\",\"0\",\"0\",\"0\",\"0\",\"0\",\"3\",\"0\",\"0\",\"0\",\"0\",\"0\",\"0\",\"0\",\"0\",\"0\",\"0\",\"0\",\"3\",\"0\",\"3\",\"3\",\"0\",\"0\",\"0\",\"0\",\"0\",\"0\",\"0\",\"0\",\"0\",\"0\",\"0\",\"0\",\"0\",\"0\",\"0\",\"0\",\"0\",\"0\",\"0\",\"0\",\"3\",\"0\",\"0\",\"0\",\"0\",\"0\",\"3\",\"0\",\"0\",\"0\",\"0\",\"0\",\"0\",\"0\",\"0\",\"0\",\"0\",\"0\",\"0\",\"3\",\"0\",\"0\",\"3\",\"0\",\"0\",\"0\",\"0\",\"0\",\"0\",\"0\",\"0\",\"0\",\"0\",\"0\",\"0\",\"0\",\"0\",\"0\",\"3\",\"0\",\"0\",\"0\",\"0\",\"0\",\"0\",\"3\",\"0\",\"0\",\"0\",\"0\",\"3\",\"0\",\"0\",\"0\",\"0\",\"0\",\"0\",\"0\",\"0\",\"0\",\"0\",\"0\",\"0\",\"0\",\"0\",\"4\",\"0\",\"0\",\"0\",\"0\",\"0\",\"0\",\"0\",\"0\",\"0\",\"0\",\"0\",\"0\",\"0\",\"0\",\"0\",\"0\",\"0\",\"0\",\"0\",\"0\",\"0\",\"0\",\"0\",\"0\",\"3\",\"3\",\"0\",\"0\",\"0\",\"0\",\"0\",\"0\",\"0\",\"0\",\"0\",\"0\",\"0\",\"0\",\"0\",\"0\",\"0\",\"0\",\"0\",\"0\",\"0\",\"0\",\"0\",\"0\",\"0\",\"0\",\"0\",\"0\",\"0\",\"0\",\"0\",\"0\",\"0\",\"0\",\"0\",\"0\",\"0\",\"0\",\"0\",\"0\",\"0\",\"0\",\"0\",\"0\",\"0\",\"0\",\"0\",\"0\",\"0\",\"0\",\"0\",\"3\",\"0\",\"0\",\"0\",\"0\",\"0\",\"0\",\"0\",\"0\",\"0\",\"0\",\"0\",\"0\",\"0\",\"0\",\"0\",\"0\",\"0\",\"0\",\"0\",\"0\",\"0\",\"0\",\"0\",\"0\",\"0\",\"0\",\"0\",\"0\",\"0\",\"0\",\"0\",\"0\",\"0\",\"3\",\"3\",\"0\",\"0\",\"0\",\"0\",\"0\",\"0\",\"0\",\"0\",\"0\",\"0\",\"4\",\"0\",\"0\",\"0\",\"0\",\"0\",\"0\",\"4\",\"0\",\"0\",\"0\",\"0\",\"0\",\"0\",\"0\",\"0\",\"0\",\"0\",\"0\",\"0\",\"0\",\"0\",\"0\",\"3\",\"0\",\"0\",\"0\",\"0\",\"0\",\"0\",\"0\",\"0\",\"0\",\"0\",\"0\",\"0\",\"0\",\"0\",\"0\",\"0\",\"0\",\"0\",\"0\",\"0\",\"0\",\"0\",\"0\",\"0\",\"0\",\"0\",\"0\",\"0\",\"0\",\"0\",\"0\",\"0\",\"0\",\"0\",\"0\",\"0\",\"0\",\"0\",\"0\",\"0\",\"0\",\"0\",\"0\",\"0\",\"0\",\"0\",\"0\",\"0\",\"0\",\"0\",\"0\",\"0\",\"0\",\"0\",\"0\",\"0\",\"0\",\"0\",\"0\",\"0\",\"0\",\"2\",\"1\",\"0\",\"0\",\"0\",\"0\",\"0\",\"0\",\"0\",\"0\",\"0\",\"0\",\"0\",\"0\",\"0\",\"0\",\"0\",\"0\"],\"desc\":[\"The solution path of the generalized lasso\",\"Sparse linear discriminant analysis by thresholding for high dimensional data\",\"Estimation of (near) low-rank matrices with noise and high-dimensional scaling\",\"Estimation of high-dimensional low-rank matrices\",\"Wishart distributions for decomposable covariance graph models\",\"{$\\\\ell_1$}-penalized quantile regression in high-dimensional sparse models\",\"Support union recovery in high-dimensional multivariate regression\",\"Sure independence screening in generalized linear models with {NP}-dimensionality\",\"Empirical dynamics for longitudinal data\",\"Identifying the finite dimensionality of curve time series\",\"Variable selection in nonparametric additive models\",\"Optimal rates of convergence for covariance matrix estimation\",\"Innovated higher criticism for detecting sparse signals in correlated noise\",\"Defining probability density for a distribution of random functions\",\"Vast volatility matrix estimation for high-frequency financial data\",\"Confidence bands in density estimation\",\"Nearly unbiased variable selection under minimax concave penalty\",\"A two-sample test for high-dimensional data with applications to gene-set testing\",\"Spectral estimation of the fractional order of a {L}\\\\'evy process\",\"Estimation for a partial-linear single-index model\",\"Optimal rates of convergence for estimating the null density and proportion of nonnull effects in large-scale multiple testing\",\"Some nonasymptotic results on resampling in high dimension. {II}. {M}ultiple tests\",\"Some nonasymptotic results on resampling in high dimension. {I}. {C}onfidence regions\",\"Sparsistency and rates of convergence in large covariance matrix estimation\",\"P{CA} consistency in high dimension, low sample size context\",\"Break detection in the covariance structure of multivariate time series models\",\"High-dimensional additive modeling\",\"A unified approach to model selection and sparse recovery using regularized least squares\",\"The composite absolute penalties family for grouped and hierarchical variable selection\",\"Estimation of functional derivatives\",\"Estimating the degree of activity of jumps in high frequency data\",\"High-dimensional variable selection\",\"Near-ideal model selection by {$\\\\ell_1$} minimization\",\"High-dimensional analysis of semidefinite relaxations for sparse principal components\",\"Nonparametric regression, confidence regions and regularization\",\"Change-point estimation under adaptive sampling\",\"On the adaptive elastic-net with a diverging number of parameters\",\"Simultaneous analysis of lasso and {D}antzig selector\",\"Sparse recovery in convex hulls via entropy penalization\",\"Dimension reduction for nonelliptically distributed predictors\",\"Extending the scope of empirical likelihood\",\"An adaptive step-down procedure with proven {FDR} control under independence\",\"On the false discovery rate and an asymptotically optimal rejection curve\",\"Robustness of multiple testing procedures against dependence\",\"Lasso-type recovery of sparse representations for high-dimensional data\",\"Testing for jumps in a discretely observed process\",\"Smoothing splines estimators for functional linear regression\",\"Common functional principal components\",\"Flexible covariance estimation in graphical {G}aussian models\",\"Finite sample approximation results for principal component analysis: a matrix perturbation approach\",\"Operator norm consistent estimation of large-dimensional sparse covariance matrices\",\"High-dimensional classification using features annealed independence rules\",\"Covariance regularization by thresholding\",\"Profile-kernel likelihood inference with diverging number of parameters\",\"Learning by mirror averaging\",\"General frequentist properties of the posterior profile distribution\",\"Higher order semiparametric frequentist inference with the profile sampler\",\"Searching for a trail of evidence in a maze\",\"Dimension reduction based on constrained canonical correlation and variable filtering\",\"The sparsity and bias of the {LASSO} selection in high-dimensional linear regression\",\"One-step sparse estimates in nonconcave penalized likelihood models\",\"Composite quantile regression and the oracle model selection theory\",\"Adaptive confidence bands\",\"High-dimensional generalized linear models and the lasso\",\"Asymptotic properties of bridge estimators in sparse high-dimensional regression models\",\"Properties of higher criticism under strong dependence\",\"On false discovery control under dependence\",\"Generalizing {S}imes' test and {H}ochberg's stepup procedure\",\"Variable selection in semiparametric regression modeling\",\"Regularized estimation of large covariance matrices\",\"A test for model specification of diffusion processes\",\"Approximation and learning by greedy algorithms\",\"A constructive approach to the estimation of dimension reduction directions\",\"Consistency of cross validation for comparing regression procedures\",\"Estimation and confidence sets for sparse normal mixtures\",\"Stepup procedures controlling generalized {FWER} and generalized {FDR}\",\"A tale of three cousins: {L}asso, {$L_2$}{B}oosting and {D}antzig. {D}iscussion: ``{T}he {D}antzig selector: statistical estimation when {$p$} is much larger than {$n$}'' [{A}nn. {S}tatist. {\\\\bf 35} (2007), no. 6, 2313--2351; \\\\refcno 2382644] by {E}. {C}andes and {T}. {T}ao\",\"The {D}antzig selector: statistical estimation when {$p$} is much larger than {$n$}\",\"Spatial aggregation of local likelihood estimates with applications to classification\",\"On the ``degrees of freedom'' of the lasso\",\"Two likelihood-based semiparametric estimation methods for panel count data with covariates\",\"Goodness-of-fit tests via phi-divergences\",\"Simultaneous adaptation to the margin and to complexity in classification\",\"Aggregation for {G}aussian regression\",\"Nonparametric estimation of correlation functions in longitudinal and spatial data, with applications to colon carcinogenesis experiments\",\"Bayesian variable selection for high dimensional generalized linear models: convergence rates of the fitted densities\",\"Marginal asymptotics for the ``large {$p$}, small {$n$}'' paradigm: with applications to microarray data\",\"Dependency and false discovery rate: asymptotics\",\"On the performance of {FDR} control: constraints and a partial solution\",\"Control of generalized error rates in multiple testing\",\"Size, power and false discovery rates\",\"Wishart distributions for decomposable graphs\",\"Accumulated prediction errors, information criteria and optimal forecasting for autoregressive time series\",\"Statistical inferences for functional data\",\"Piecewise linear regularized solution paths\",\"Inference under right censoring for transformation models with a change-point based on a covariate threshold\",\"Fast rates for support vector machines using {G}aussian kernels\",\"Volatility estimators for discretely sampled {L}\\\\'evy processes\",\"Quantile regression with varying coefficients\",\"Methodology and convergence rates for functional linear regression\",\"Asymptotics for sliced average variance estimation\",\"Asymptotic minimaxity of false discovery rate thresholding for sparse exponential data\",\"Local {R}ademacher complexities and oracle inequalities in risk minimization\",\"Can one estimate the conditional distribution of post-model-selection estimators?\",\"A multivariate empirical {B}ayes statistic for replicated microarray time course data\",\"Best subset selection, persistence in high-dimensional statistical learning and optimization under {$l_1$} constraint\",\"Risk bounds for statistical learning\",\"Component selection and smoothing in multivariate nonparametric regression\",\"From {$\\\\epsilon$}-entropy to {KL}-entropy: analysis of minimum information complexity density estimation\",\"Prediction in functional linear regression\",\"Conditional growth charts\",\"Stepup procedures for control of generalizations of the familywise error rate\",\"On the {B}enjamini-{H}ochberg method\",\"Adapting to unknown sparsity by controlling the false discovery rate\",\"Boosting for high-dimensional linear models\",\"Properties of principal component methods for functional and longitudinal data analysis\",\"High-dimensional graphs and variable selection with the lasso\",\"False discovery and false nondiscovery rates in single-step multiple testing procedures\",\"Estimating the proportion of false null hypotheses among a large number of independently tested hypotheses\",\"Local partial-likelihood estimation for lifetime data\",\"Adaptive nonparametric confidence sets\",\"Adaptive confidence balls\",\"Penalized maximum likelihood and semiparametric second-order efficiency\",\"Functional linear regression analysis for longitudinal data\",\"Order selection for same-realization predictions in autoregressive processes\",\"Penalized log-likelihood estimation for partly linear transformation models with current status data\",\"Asymptotic behavior of the unconditional {NPMLE} of the length-biased survivor function from right censored prevalent cohort data\",\"Approximating conditional distribution functions using dimension reduction\",\"Optimal smoothing in nonparametric mixed-effect models\",\"Square root penalty: adaptation to the margin in classification and in edge estimation\",\"Generalizations of the familywise error rate\",\"On optimality of stepdown and stepup multiple test procedures\",\"Nonparametric checks for single-index models\",\"Empirical {B}ayes selection of wavelet thresholds\",\"Variable selection using {MM} algorithms\",\"Contour regression: a general approach to dimension reduction\",\"Boosting with early stopping: convergence and consistency\",\"Local {R}ademacher complexities\",\"Complexities of convex combinations and bounding the generalization error in classification\",\"Generalized functional linear models\",\"Spike and slab variable selection: frequentist and {B}ayesian strategies\",\"Confidence sets for nonparametric wavelet regression\",\"Characterization of {B}ayes procedures for multiple endpoint problems and inadmissibility of the step-up procedure\",\"General empirical {B}ayes wavelet methods and exactly adaptive minimax estimation\",\"Determining the dimension of iterative {H}essian transformation\",\"Complexity regularization via localized random penalties\",\"Needles and straw in haystacks: empirical {B}ayes estimates of possibly sparse sequences\",\"Robust inference for univariate proportional hazards frailty regression models\",\"Testing predictor contributions in sufficient dimension reduction\",\"A stochastic process approach to false discovery control\",\"Higher criticism for detecting sparse heterogeneous mixtures\",\"Nonconcave penalized likelihood with a diverging number of parameters\",\"Consistent covariate selection and post model selection inference in semiparametric regression\",\"Optimal predictive model selection\",\"Training samples in objective {B}ayesian model selection\",\"Confidence balls in {G}aussian regression\",\"The positive false discovery rate: a {B}ayesian interpretation and the {$q$}-value\",\"Dimension reduction for the conditional mean in regressions with categorical predictors\",\"Local asymptotics for polynomial spline regression\",\"Estimation in a {C}ox regression model with a change-point according to a threshold in a covariate\",\"Compound decision theory and empirical {B}ayes methods\",\"Robbins, empirical {B}ayes and microarrays\",\"Model selection in nonparametric regression\",\"The horseshoe estimator for sparse signals\",\"A new approach to {C}holesky-based covariance regularization in high dimensions\",\"Pseudo-partial likelihood for proportional hazards models with biased-sampling data\",\"Objective {B}ayesian model selection in {G}aussian graphical models\",\"Scale adjustments for classifiers in high-dimensional, low sample size settings\",\"Bayesian lasso regression\",\"Effects of data dimension on empirical likelihood\",\"Asymptotic properties of penalized spline estimators\",\"Extended {B}ayesian information criteria for model selection with large model spaces\",\"Joint modelling of paired sparse functional data using principal components\",\"On the asymptotics of penalized splines\",\"Modelling multiple time series via common factors\",\"Kernel stick-breaking processes\",\"A note on path-based variable selection in the penalized proportional hazards model\",\"Retrospective {M}arkov chain {M}onte {C}arlo methods for {D}irichlet process hierarchical models\",\"Probability estimation for large-margin classifiers\",\"Bayesian nonparametric inference on stochastic ordering\",\"Robust functional estimation using the median and spherical principal components\",\"Generalized spatial {D}irichlet process models\",\"The high-dimension, low-sample-size geometric representation holds under mild conditions\",\"Survival analysis with temporal covariate effects\",\"Adaptive {L}asso for {C}ox's proportional hazards model\",\"Simulation of hyper-inverse {W}ishart distributions in graphical models\",\"Partial inverse regression\",\"Sparse sufficient dimension reduction\",\"Tuning parameter selectors for the smoothly clipped absolute deviation method\",\"Cholesky decompositions and estimation of a covariance matrix: orthogonality of variance-correlation parameters\",\"Model selection and estimation in the {G}aussian graphical model\",\"Marginal tests with sliced average variance estimation\",\"An asymptotic theory for model selection inference in general semiparametric problems\",\"Estimation of a covariance matrix with zeros\",\"Modelling of covariance structures in generalised estimating equations for longitudinal data\",\"Variable selection in clustering via {D}irichlet process mixture models\",\"Understanding nonparametric estimation for clustered data\",\"On least-squares regression with censored data\",\"Covariance matrix selection and estimation via penalised normal likelihood\",\"Using intraslice covariances for improved estimation of the central subspace in regression\",\"Efficient estimation of semiparametric transformation models for counting processes\",\"False discovery control with {$p$}-value weighting\",\"Adaptive linear step-up procedures that control the false discovery rate\",\"Can the strengths of {AIC} and {BIC} be shared? {A} conflict between model indentification and regression estimation\",\"Lower bounds for the number of false null hypotheses for multiple testing of associations under general dependence structures\",\"Nonparametric maximum likelihood estimation of the structural mean of a sample of curves\",\"Semiparametric {B}ox-{C}ox power transformation models for censored survival observations\",\"Direction estimation in single-index regressions\",\"A {M}onte {C}arlo method for computing the marginal likelihood in nondecomposable {G}aussian graphical models\",\"Variable selection for multivariate failure time data\",\"A note on shrinkage sliced inverse regression\",\"Standard errors and covariance matrices for smoothed rank estimators\",\"Theory for penalised spline regression\",\"Exact likelihood ratio tests for penalised splines\",\"Local polynomial regression analysis of clustered data\",\"Statistical inference based on non-smooth estimating functions\",\"A crossvalidation method for estimating conditional densities\",\"Efficient estimation for semivarying-coefficient models\",\"Model selection for {G}aussian concentration graphs\",\"Posterior probability intervals in {B}ayesian wavelet estimation\",\"Principal {H}essian directions for regression with measurement error\",\"On semiparametric transformation cure models\",\"Profile-kernel versus backfitting in the partially linear models for longitudinal/clustered data\",\"Equivalent kernels of smoothing splines in nonparametric regression for clustered/longitudinal data\",\"On identification of multi-factor models with correlated residuals\",\"Nonparametric estimation of large covariance matrices of longitudinal data\",\"Efficient estimation of covariance selection models\",\"Estimating subject-specific survival functions under the accelerated failure time model\",\"Uniform consistency in causal inference\",\"Rank-based inference for the accelerated failure time model\",\"On modelling mean-covariance structures in longitudinal studies\",\"Estimating central subspaces via inverse third moments\",\"Marginal nonparametric kernel regression accounting for within-subject correlation\",\"Working correlation structure misspecification, estimation and covariate design: implications for generalised estimating equations performance\",\"Frequentist model average estimators\",\"The focused information criterion\",\"Using the bootstrap to select one of a new class of dimension reduction methods\",\"Censored regression quantiles\",\"A lack-of-fit test for quantile regression\",\"Estimating cure rates from survival data: an alternative to two-component mixture models\",\"Dimension reduction for multivariate response data\",\"On additive conditional quantiles with high-dimensional covariates\",\"Marginal likelihood and {B}ayes factors for {D}irichlet process mixture models\",\"Dynamic latent trait models for multidimensional longitudinal data\",\"Wavelet-based nonparametric modeling of hierarchical functions in colon carcinogenesis\",\"Calibrating the degrees of freedom for automatic data smoothing and effective curve checking\",\"On {$\\\\psi$}-learning\",\"Boosting with the {$L_2$} loss: regression and classification\",\"A model-free test for reduced rank in multivariate regression\",\"Clustering for sparsely sampled functional data\",\"Detecting differentially expressed genes in microarrays using {B}ayesian model selection\",\"Optimal sample size for multiple testing: the case of gene expression microarrays\",\"False discovery control for random fields\",\"Cross-validation and the estimation of conditional probability densities\",\"The estimation of prediction error: covariance penalties and cross-validation\",\"Variable selection and model building via likelihood basis pursuit\",\"Functional convex averaging and synchronization for time-warped random curves\",\"New estimation and model selection procedures for semiparametric modeling in longitudinal data analysis\",\"Inference after model selection\",\"Unit root quantile autoregression inference\",\"Semiparametric regression analysis with missing response at random\",\"Testing homogeneity in a mixture distribution via the {$L^2$} distance between competing models\",\"Multicategory support vector machines: theory and application to the classification of microarray data and satellite radiance data\",\"Large-scale simultaneous hypothesis testing: the choice of a null hypothesis\",\"An {ANOVA} model for dependent random measures\",\"A tale of two time scales: determining integrated volatility with noisy high-frequency data\",\"Hierarchical mixture modeling with normalized inverse-{G}aussian priors\",\"A pseudo-partial likelihood method for semiparametric survival regression with covariate errors\",\"Nonparametric estimation of an additive quantile regression model\",\"Efficient empirical {B}ayes variable selection and estimation in linear models\",\"Robust estimation in generalized partial linear models for clustered data\",\"Bayesian nonparametric spatial modeling with {D}irichlet process mixing\",\"C{ATS}: clustering after transformation and smoothing\",\"The profile sampler\",\"A two-way semilinear model for normalization and analysis of c{DNA} microarray data\",\"Semilinear high-dimensional model for normalization of microarray data: a theoretical analysis and partial consistency\",\"Spike and slab gene selection for multigroup microarray data\",\"Bayesian semiparametric isotonic regression for count data\",\"Functional data analysis for sparse longitudinal data\",\"Functional adaptive model estimation\",\"Maximum likelihood estimation for the proportional odds model with random effects\",\"Sufficient dimension reduction via inverse regression: a minimum discrepancy approach\",\"Variance estimation in a model with {G}aussian submodels\",\"A {B}ayesian semiparametric model for random-effects meta-analysis\",\"On the {C}ox model with time-varying regression coefficients\",\"Efficient semiparametric marginal estimation for longitudinal/clustered data\",\"Exact and approximate stepdown methods for multiple hypothesis testing\",\"False discovery rate-adjusted multiple confidence intervals for selected parameters\",\"Using wavelet-based functional mixed models to characterize population heterogeneity in accelerometer profiles: a case study\",\"Semiparametric transformation models for survival data with a cure fraction\",\"On the large-sample minimal coverage probability of confidence intervals after model selection\",\"Multicategory {$\\\\psi$}-learning\",\"On sliced inverse regression with high-dimensional covariates\",\"Non-{G}aussian {B}ayesian geostatistical modeling\",\"Optimal model assessment, selection, and combination\",\"Fourier methods for estimating the central subspace and the central mean subspace in regression\",\"Hierarchical {D}irichlet processes\",\"Inference for mixtures of finite {P}olya tree models\",\"Robust estimation of mixture complexity\",\"Focused information criteria and model averaging for the {C}ox hazard regression model\",\"The adaptive lasso and its oracle properties\",\"Prediction by supervised principal components\",\"A quantitative study of gene regulation involved in the immune response of anopheline mosquitoes: an application of {B}ayesian hierarchical clustering of curves\",\"Order-based dependent {D}irichlet processes\",\"Convexity, classification, and risk bounds\",\"Portmanteau test of independence for functional observations\",\"False discovery rates for spatial signals\",\"Distance-weighted discrimination\",\"Unified {LASSO} estimation by least squares approximation\",\"Functional principal component regression and functional partial least squares\",\"Robust truncated hinge loss support vector machines\",\"Oracle and adaptive compound decision rules for false discovery rate control\",\"Analysis of longitudinal data with semiparametric estimation of convariance function\",\"On {$L_1$}-norm multiclass support vector machines: methodology and theory\",\"Partially linear hazard regression for multivariate survival data\",\"Multi-scale jump and volatility analysis for high-frequency financial data\",\"To how many simultaneous hypothesis tests can normal, {S}tudent's {$t$} or bootstrap calibration be applied?\",\"Empirical likelihood inference in nonlinear errors-in-covariables models with validation data\",\"On directional regression for dimension reduction\",\"Bayesian curve classification using wavelets\",\"Determining the number of factors in the general dynamic factor model\",\"Estimating the null and the proportional of nonnull effects in large-scale multiple comparisons\",\"Power transformation toward a linear regression quantile\",\"Detecting differential expressions in {G}ene{C}hip microarray studies: a quantile approach\",\"Correlation and large-scale simultaneous significance testing\",\"Statistical significance of clustering for high-dimension, low-sample size data\",\"The nested {D}irichlet process\",\"Bayesian treed {G}aussian process models with an application to computer modeling\",\"Modeling price dynamics in e{B}ay auctions using differential equations\",\"Sliced regression for dimension reduction\",\"Covariate bias induced by length-biased sampling of failure times\",\"The {B}ayesian lasso\",\"Bayesian hidden {M}arkov modeling of array {CGH} data\",\"Mixtures of {$g$} priors for {B}ayesian variable selection\",\"Efficient local estimation for time-varying coefficients in deterministic dynamic models with applications to {HIV}-1 dynamics\",\"Smoothly clipped absolute deviation on high dimensions\",\"Nonparametric quantile estimations for dynamic smooth coefficient models\",\"Parameter estimation for differential equation models using a framework of measurement error in regression models\",\"Variable selection in nonparametric varying-coefficient models for analysis of repeated measurements\",\"Functional additive models\",\"Semiparametric estimation of covariance matrixes for longitudinal data\",\"Variable inclusion and shrinkage algorithms\",\"On a projective resampling method for dimension reduction with multivariate responses\",\"Survival analysis with quantile regression models\",\"Nonparametric {B}ayes conditional distribution modeling with variable selection\",\"Generalized multilevel functional regression\",\"Forward regression for ultra-high dimensional variable screening\",\"On consistency and sparsity for principal components analysis in high dimensions\",\"Partial correlation estimation by joint sparse regression models\",\"Estimating derivatives for samples of sparsely observed functions, with application to online auction dynamics\",\"Likelihood-based sufficient dimension reduction\",\"Generalized thresholding of large covariance matrices\",\"Semiparametric mean-covariance regression analysis for longitudinal data\",\"Adaptive thresholding for sparse covariance matrix estimation\",\"Bayesian non-parametric hidden {M}arkov models with applications in genomics\",\"Shrinkage tuning parameter selection with a diverging number of parameters\",\"Covariance-regularized regression and classification for high dimensional problems\",\"Smoothing parameter selection for a class of semiparametric linear models\",\"On distribution-weighted partial least squares with diverging number of highly correlated predictors\",\"Some asymptotic results on generalized penalized spline smoothing\",\"D{ASSO}: connections between the {D}antzig selector and lasso\",\"Sure independence screening for ultrahigh dimensional feature space\",\"Variable selection in semiparametric linear regression with censored data\",\"Parameter estimation for differential equations: a generalized smoothing approach\",\"Functional clustering and identifying substructures of longitudinal data\",\"{$L_1$}-regularization path algorithm for generalized linear models\",\"Maximum likelihood estimation in semiparametric regression models with censored data\",\"The optimal discovery procedure: a new approach to simultaneous significance testing\",\"Dimension reduction and coefficient estimation in multivariate linear regression\",\"Mixture cure survival models with dependent censoring\",\"Bayesian density regression\",\"On the non-negative garrote estimator\",\"Empirical likelihood confidence regions in a partially linear single-index model\",\"Testing against a high dimensional alternative\",\"Functional clustering by {B}ayesian wavelet methods\",\"Wavelet-based functional mixed models\",\"On properties of functional principal components analysis\",\"Semiparametric estimation in general repeated measures problems\",\"Model selection and estimation in regression with grouped variables\",\"Penalized spline models for functional principal component analysis\",\"Estimating the proportion of true null hypotheses, with application to {DNA} microarray data\",\"Estimated estimating equations: semiparametric inference for clustered and longitudinal data\",\"Geometric representation of high dimension, low sample size data\",\"Variance of the number of false discoveries\",\"Sparsity and smoothness via the fused lasso\",\"Regularization and variable selection via the elastic net\",\"Model-free variable selection\",\"Self-modelling warping functions\",\"Real nonparametric regression using complex wavelets\",\"A method for combining inference across related nonparametric {B}ayesian models\",\"Bayesian variable selection and regularization for time-frequency surface estimation\",\"Identification of non-linear additive autoregressive models\",\"A note on the adaptive control of false discovery rates\",\"Strong control, conservative point estimation and simultaneous conservative consistency of false discovery rates: a unified approach\",\"Likelihood ratio tests in linear mixed models with one variance component\",\"Testing for a finite mixture model with two components\",\"Hypothesis testing in mixture regression models\",\"Semiparametric models: a generalized self-consistency approach\",\"Bayesian clustering and product partition models\",\"Functional quasi-likelihood regression models with smooth random effects\",\"Adaptive varying-coefficient linear models\"],\"s\":{\"__ndarray__\":\"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\",\"dtype\":\"float64\",\"shape\":[401]},\"x\":{\"__ndarray__\":\"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\",\"dtype\":\"float32\",\"shape\":[401]},\"y\":{\"__ndarray__\":\"QCWlwSQv00GxMbhBDcXewfGonkEnfV5BplnOQasZc0G72YnBBIh5QYaOgsD0vtjAuTqfwL226sF5QWtBSNYLQRAytkEyRe/A+YqRQCvGw0HlzszBl0GgwbDxoUFPyHBABa2Fwfs+zUHrC76/KxS8QV8Mc0HF45ZB6yuZwXw2lEHVEaVBuPfFQRTMNkGBjUI/YBklv6CyocAkDn7AHwC5wZMOesFW9aBBZHmkQWSUoUHWEH7ApaK3wBeWP0GPQi5BzGdfQa7IrMGnQmxA8qlrQK6gVUAxHK0/vRBIQRw/hsGygp5BAsy0wcGwmkGgTrzA/eigvvgvOECjjcHBwpmLwL8n2b9aKdfANy+rQYonoEEC947Aqm46QCqwgUDdA6bAnxIZQR7hxsEUjaLAKX+mQe5/ssBracbAJ1iAwIhT+j+du6LBmk6XwFqB4cAnBbHAoCt0wcSx4cF6SO/AXguhQeFn3MHalK5BEpanQbsMfkHUWcXBoUM3QUdBy8HGs8A/qXjqwBl0uMDKafi/dcYqQZAnssE656bBr/SSwADSt0GypMfBVnkRwC4YiMBx1lDA5CnFwbQYMEG1o4jBZpGtQaid88BfB5DA6XV1vpTA4EAs0ADAKX+mQY/LVEFhOpvBMTs9QTE7PUFqaGlBSSjqQAV9yEGf45TBRe8ZwRiqk0CJCOfBlnjqwDXJrUH4ipFAISEywPnyn0FCTfa/aZPuQNGmLr4qgeLA5lb/wH6+RUGdsp3BaspJQY4bjEH/eJpB6IshQWl46sCeT1VBbwd5v8BmRUE1raRB0yC7wOOZRz+UerXAza6yweiRlUFMFTpB91GmQfo6x8FnaHa/oC8awfgN4cGEqqtB91a1wPr9gcHaB7HBOaWFv9X1mEGvwo/B7+yPwWHP2cFSsKDBqpe6QZIGoEHiWGVBoZHMwUmguMHx8MxB3NLIwacmWUG8MYTBeGWTQcpuqMHtOoNA9vCIQEreTcDSDtNBM86pwX7CzEFF+AJAmD25wfwHQEAoqHXBOIqHQPR3P0BvTIpAaKnLwSw4fsFYHJhAvY9CQL2xpMGVHpXBZHmkQWMqpUHt3ti/MGiiwU2zdUAhITLAV8CCQCBNksGPHuPBtAQkQee7qUAeo0lBYz+bwToBxEG3gd1AyGGkQTLxgEAS4ss/XJTqwSgMSkGkX6dB0i1TPQz+u0CZ4yvAdFBJQOG9ysH3ipFATKClwAsr5UDpsopAgZTfweO1vL+Yy41ApdcRv89OeEDqB65BXxkywDWCBEDTUJXBW3IkQT62mMEQlnpAaYWqQYblpcHWacO/Hx99QeZW/8Bm99FBlOx1QU2zdUDIV4pB0fSqQTUyokEgxuZAgkaBv+Rjg8GT5wTASa+SwUchX0ASMqxBv7mrwSv1W0EhllRBin7LweSvnMExQpPBq84MwRCUvcH7FdTBIpxuQLKpy8GYAHBBbK8DQTFF78B85fDAsu0wQP0/1sEkF+tAF5Y/Qb4nckEm6B1Bn294QIu+ksFGzuZAK36MQCXXrkH3LaFBGZZ6QJI3skElLqPBacK3QcAYJ0HIFdLBaQ+JQLzCNkGDecDBNH9/wTUszkGcP9I/FFggwEOEM0AFmmNBtqnLwb8oB8Dvm81BHa7OwesSkEBgGSW/CHgzQTQhjMFnD6HAgCPMQR4x58GzWazBRkSiwXtI78DfIJFB2+YdQXsphUEKIY0/h86gQR+chcHxOOnB63XgwD9ujkBqxZXBXzy1QXouicG9V29BOEF0vwBKisFKmsDBkdYZwb0QSEHkK7fBJwaQwV3wgUEIiILAwROAwVZLikAlJJnB3wdvwZ2AXkD1b5bBoRIZQWVK5cAMpUlBjzs4QCzDKkEbVJpBMJ+TQGsUqsFzoZNAebBnQbto0kEwn5NA3at5wYWUs8E/MIHBp/KaQeafvMCTienB86EQQNzqJkEAFF4+3EB0vxGWhUFWL9vAuHaHQa+py8GutqXB5PcEQSYXm8GUnpRBWyQzQRm9LkGVS4pAYtVtwHAoHUFQA53BNPGcwWmOjUHm78tBtAHrwUBfqr9NMCrApPGzwVnlrcEgtsvBNIuqQe3KvL/UAdPBghybQZfs8kAUCrzBa+a8Qb4rU0ESfMXBWfwVQRG1pME=\",\"dtype\":\"float32\",\"shape\":[401]}},\"selected\":{\"id\":\"1052\",\"type\":\"Selection\"},\"selection_policy\":{\"id\":\"1053\",\"type\":\"UnionRenderers\"}},\"id\":\"1003\",\"type\":\"ColumnDataSource\"},{\"attributes\":{},\"id\":\"1024\",\"type\":\"PanTool\"},{\"attributes\":{\"callback\":null},\"id\":\"1006\",\"type\":\"DataRange1d\"},{\"attributes\":{\"fill_alpha\":{\"value\":0.5},\"fill_color\":{\"field\":\"c\",\"transform\":{\"id\":\"1002\",\"type\":\"CategoricalColorMapper\"}},\"line_color\":{\"field\":\"c\",\"transform\":{\"id\":\"1002\",\"type\":\"CategoricalColorMapper\"}},\"size\":{\"field\":\"s\",\"units\":\"screen\"},\"x\":{\"field\":\"x\"},\"y\":{\"field\":\"y\"}},\"id\":\"1040\",\"type\":\"Circle\"},{\"attributes\":{\"fill_alpha\":{\"value\":0.1},\"fill_color\":{\"value\":\"#1f77b4\"},\"line_alpha\":{\"value\":0.1},\"line_color\":{\"value\":\"#1f77b4\"},\"size\":{\"field\":\"s\",\"units\":\"screen\"},\"x\":{\"field\":\"x\"},\"y\":{\"field\":\"y\"}},\"id\":\"1041\",\"type\":\"Circle\"},{\"attributes\":{},\"id\":\"1025\",\"type\":\"WheelZoomTool\"},{\"attributes\":{\"bottom_units\":\"screen\",\"fill_alpha\":{\"value\":0.5},\"fill_color\":{\"value\":\"lightgrey\"},\"left_units\":\"screen\",\"level\":\"overlay\",\"line_alpha\":{\"value\":1.0},\"line_color\":{\"value\":\"black\"},\"line_dash\":[4,4],\"line_width\":{\"value\":2},\"plot\":null,\"render_mode\":\"css\",\"right_units\":\"screen\",\"top_units\":\"screen\"},\"id\":\"1032\",\"type\":\"BoxAnnotation\"},{\"attributes\":{\"overlay\":{\"id\":\"1032\",\"type\":\"BoxAnnotation\"}},\"id\":\"1026\",\"type\":\"BoxZoomTool\"},{\"attributes\":{\"factors\":[\"0\",\"1\",\"2\",\"3\",\"4\"],\"palette\":[\"#2b83ba\",\"#abdda4\",\"#ffffbf\",\"#fdae61\",\"#d7191c\"]},\"id\":\"1002\",\"type\":\"CategoricalColorMapper\"},{\"attributes\":{},\"id\":\"1047\",\"type\":\"BasicTickFormatter\"},{\"attributes\":{\"callback\":null},\"id\":\"1008\",\"type\":\"DataRange1d\"},{\"attributes\":{\"plot\":null,\"text\":\"\"},\"id\":\"1045\",\"type\":\"Title\"},{\"attributes\":{},\"id\":\"1028\",\"type\":\"ResetTool\"},{\"attributes\":{},\"id\":\"1010\",\"type\":\"LinearScale\"},{\"attributes\":{},\"id\":\"1012\",\"type\":\"LinearScale\"},{\"attributes\":{},\"id\":\"1049\",\"type\":\"BasicTickFormatter\"},{\"attributes\":{},\"id\":\"1029\",\"type\":\"HelpTool\"},{\"attributes\":{\"active_drag\":\"auto\",\"active_inspect\":\"auto\",\"active_multi\":null,\"active_scroll\":\"auto\",\"active_tap\":\"auto\",\"tools\":[{\"id\":\"1024\",\"type\":\"PanTool\"},{\"id\":\"1025\",\"type\":\"WheelZoomTool\"},{\"id\":\"1026\",\"type\":\"BoxZoomTool\"},{\"id\":\"1027\",\"type\":\"SaveTool\"},{\"id\":\"1028\",\"type\":\"ResetTool\"},{\"id\":\"1029\",\"type\":\"HelpTool\"},{\"id\":\"1004\",\"type\":\"HoverTool\"}]},\"id\":\"1030\",\"type\":\"Toolbar\"},{\"attributes\":{\"plot\":{\"id\":\"1005\",\"subtype\":\"Figure\",\"type\":\"Plot\"},\"ticker\":{\"id\":\"1015\",\"type\":\"BasicTicker\"}},\"id\":\"1018\",\"type\":\"Grid\"},{\"attributes\":{\"data_source\":{\"id\":\"1003\",\"type\":\"ColumnDataSource\"},\"glyph\":{\"id\":\"1040\",\"type\":\"Circle\"},\"hover_glyph\":null,\"muted_glyph\":null,\"nonselection_glyph\":{\"id\":\"1041\",\"type\":\"Circle\"},\"selection_glyph\":null,\"view\":{\"id\":\"1043\",\"type\":\"CDSView\"}},\"id\":\"1042\",\"type\":\"GlyphRenderer\"},{\"attributes\":{\"formatter\":{\"id\":\"1047\",\"type\":\"BasicTickFormatter\"},\"plot\":{\"id\":\"1005\",\"subtype\":\"Figure\",\"type\":\"Plot\"},\"ticker\":{\"id\":\"1015\",\"type\":\"BasicTicker\"}},\"id\":\"1014\",\"type\":\"LinearAxis\"},{\"attributes\":{},\"id\":\"1015\",\"type\":\"BasicTicker\"},{\"attributes\":{},\"id\":\"1020\",\"type\":\"BasicTicker\"}],\"root_ids\":[\"1005\"]},\"title\":\"Bokeh Application\",\"version\":\"1.0.4\"}};\n",
       "  var render_items = [{\"docid\":\"bd141469-bf69-4267-a9b8-3d73d7f07198\",\"roots\":{\"1005\":\"fb8cdf94-3abf-46c0-93ac-777ccabf67af\"}}];\n",
       "  root.Bokeh.embed.embed_items_notebook(docs_json, render_items);\n",
       "\n",
       "  }\n",
       "  if (root.Bokeh !== undefined) {\n",
       "    embed_document(root);\n",
       "  } else {\n",
       "    var attempts = 0;\n",
       "    var timer = setInterval(function(root) {\n",
       "      if (root.Bokeh !== undefined) {\n",
       "        embed_document(root);\n",
       "        clearInterval(timer);\n",
       "      }\n",
       "      attempts++;\n",
       "      if (attempts > 100) {\n",
       "        console.log(\"Bokeh: ERROR: Unable to run BokehJS code because BokehJS library is missing\");\n",
       "        clearInterval(timer);\n",
       "      }\n",
       "    }, 10, root)\n",
       "  }\n",
       "})(window);"
      ],
      "application/vnd.bokehjs_exec.v0+json": ""
     },
     "metadata": {
      "application/vnd.bokehjs_exec.v0+json": {
       "id": "1005"
      }
     },
     "output_type": "display_data"
    }
   ],
   "source": [
    "cmap=factor_cmap(field_name='c', palette=Spectral[K], factors=[str(i) for i in range(K)])\n",
    "\n",
    "source = ColumnDataSource(\n",
    "        data=dict(\n",
    "            x=pos[:N,0],\n",
    "            y=pos[:N,1],\n",
    "            desc=node_df['title'],\n",
    "            s=node_df['citCounts']/2,\n",
    "            c=[str(i) for i in labels.labels_]\n",
    "        )\n",
    "    )\n",
    "\n",
    "hover = HoverTool(\n",
    "        tooltips=[\n",
    "            (\"\", \"@desc\"),\n",
    "        ]\n",
    "    )\n",
    "\n",
    "p = figure(plot_width=750, plot_height=500)\n",
    "\n",
    "p.circle('x', 'y', size='s',color=cmap,source=source, fill_alpha=0.5)\n",
    "p.add_tools(hover)\n",
    "show(p)"
   ]
  },
  {
   "cell_type": "markdown",
   "metadata": {},
   "source": [
    "#### HOOI"
   ]
  },
  {
   "cell_type": "code",
   "execution_count": 83,
   "metadata": {},
   "outputs": [
    {
     "name": "stdout",
     "output_type": "stream",
     "text": [
      "Iteration: 0, Difference: 2.702570694663899\n",
      "Iteration: 1, Difference: 2.170421834412296\n",
      "Iteration: 2, Difference: 2.8286557060533615\n",
      "Iteration: 3, Difference: 0.40660877311377075\n",
      "Iteration: 4, Difference: 2.0190533127517036\n"
     ]
    }
   ],
   "source": [
    "U=hooi_gpu(N+dummies, K, regular_edges, U0, iterations=5, diagnose=True)"
   ]
  },
  {
   "cell_type": "code",
   "execution_count": 85,
   "metadata": {},
   "outputs": [],
   "source": [
    "x=U[:N,-1]\n",
    "d=(x==0)\n",
    "x[d]=1\n",
    "B = U[:N,:-1]/x.reshape(N,1)\n",
    "B[d,:]=B.max()\n",
    "B[B>10]=10\n",
    "B[B<-10]=-10"
   ]
  },
  {
   "cell_type": "code",
   "execution_count": 86,
   "metadata": {},
   "outputs": [
    {
     "data": {
      "text/plain": [
       "Counter({3: 65, 0: 100, 2: 54, 1: 126, 4: 56})"
      ]
     },
     "execution_count": 86,
     "metadata": {},
     "output_type": "execute_result"
    }
   ],
   "source": [
    "labels = skcluster.KMeans(n_clusters=K).fit(B)\n",
    "Counter(labels.labels_)"
   ]
  },
  {
   "cell_type": "code",
   "execution_count": 87,
   "metadata": {},
   "outputs": [
    {
     "data": {
      "image/png": "[encoded data removed]",
      "text/plain": [
       "<Figure size 432x288 with 1 Axes>"
      ]
     },
     "metadata": {
      "needs_background": "light"
     },
     "output_type": "display_data"
    }
   ],
   "source": [
    "pos = TSNE(n_components=2).fit_transform(B[:N,:])\n",
    "plt.scatter(pos[:N,0],pos[:N,1],s=10,c=labels.labels_);"
   ]
  },
  {
   "cell_type": "code",
   "execution_count": 88,
   "metadata": {},
   "outputs": [
    {
     "data": {
      "text/html": [
       "\n",
       "\n",
       "\n",
       "\n",
       "\n",
       "\n",
       "  <div class=\"bk-root\" id=\"77353345-5ed2-43e7-ada5-92b32b4e543e\" data-root-id=\"1226\"></div>\n"
      ]
     },
     "metadata": {},
     "output_type": "display_data"
    },
    {
     "data": {
      "application/javascript": [
       "(function(root) {\n",
       "  function embed_document(root) {\n",
       "    \n",
       "  var docs_json = {\"66682716-2044-4f01-b6cd-c79f32594521\":{\"roots\":{\"references\":[{\"attributes\":{\"below\":[{\"id\":\"1235\",\"type\":\"LinearAxis\"}],\"left\":[{\"id\":\"1240\",\"type\":\"LinearAxis\"}],\"plot_height\":500,\"plot_width\":750,\"renderers\":[{\"id\":\"1235\",\"type\":\"LinearAxis\"},{\"id\":\"1239\",\"type\":\"Grid\"},{\"id\":\"1240\",\"type\":\"LinearAxis\"},{\"id\":\"1244\",\"type\":\"Grid\"},{\"id\":\"1253\",\"type\":\"BoxAnnotation\"},{\"id\":\"1263\",\"type\":\"GlyphRenderer\"}],\"title\":{\"id\":\"1284\",\"type\":\"Title\"},\"toolbar\":{\"id\":\"1251\",\"type\":\"Toolbar\"},\"x_range\":{\"id\":\"1227\",\"type\":\"DataRange1d\"},\"x_scale\":{\"id\":\"1231\",\"type\":\"LinearScale\"},\"y_range\":{\"id\":\"1229\",\"type\":\"DataRange1d\"},\"y_scale\":{\"id\":\"1233\",\"type\":\"LinearScale\"}},\"id\":\"1226\",\"subtype\":\"Figure\",\"type\":\"Plot\"},{\"attributes\":{\"callback\":null},\"id\":\"1229\",\"type\":\"DataRange1d\"},{\"attributes\":{\"bottom_units\":\"screen\",\"fill_alpha\":{\"value\":0.5},\"fill_color\":{\"value\":\"lightgrey\"},\"left_units\":\"screen\",\"level\":\"overlay\",\"line_alpha\":{\"value\":1.0},\"line_color\":{\"value\":\"black\"},\"line_dash\":[4,4],\"line_width\":{\"value\":2},\"plot\":null,\"render_mode\":\"css\",\"right_units\":\"screen\",\"top_units\":\"screen\"},\"id\":\"1253\",\"type\":\"BoxAnnotation\"},{\"attributes\":{},\"id\":\"1233\",\"type\":\"LinearScale\"},{\"attributes\":{\"formatter\":{\"id\":\"1286\",\"type\":\"BasicTickFormatter\"},\"plot\":{\"id\":\"1226\",\"subtype\":\"Figure\",\"type\":\"Plot\"},\"ticker\":{\"id\":\"1236\",\"type\":\"BasicTicker\"}},\"id\":\"1235\",\"type\":\"LinearAxis\"},{\"attributes\":{},\"id\":\"1291\",\"type\":\"Selection\"},{\"attributes\":{\"plot\":null,\"text\":\"\"},\"id\":\"1284\",\"type\":\"Title\"},{\"attributes\":{},\"id\":\"1236\",\"type\":\"BasicTicker\"},{\"attributes\":{},\"id\":\"1286\",\"type\":\"BasicTickFormatter\"},{\"attributes\":{\"plot\":{\"id\":\"1226\",\"subtype\":\"Figure\",\"type\":\"Plot\"},\"ticker\":{\"id\":\"1236\",\"type\":\"BasicTicker\"}},\"id\":\"1239\",\"type\":\"Grid\"},{\"attributes\":{\"callback\":null,\"data\":{\"c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desc\":[\"The solution path of the generalized lasso\",\"Sparse linear discriminant analysis by thresholding for high dimensional data\",\"Estimation of (near) low-rank matrices with noise and high-dimensional scaling\",\"Estimation of high-dimensional low-rank matrices\",\"Wishart distributions for decomposable covariance graph models\",\"{$\\\\ell_1$}-penalized quantile regression in high-dimensional sparse models\",\"Support union recovery in high-dimensional multivariate regression\",\"Sure independence screening in generalized linear models with {NP}-dimensionality\",\"Empirical dynamics for longitudinal data\",\"Identifying the finite dimensionality of curve time series\",\"Variable selection in nonparametric additive models\",\"Optimal rates of convergence for covariance matrix estimation\",\"Innovated higher criticism for detecting sparse signals in correlated noise\",\"Defining probability density for a distribution of random functions\",\"Vast volatility matrix estimation for high-frequency financial data\",\"Confidence bands in density estimation\",\"Nearly unbiased variable selection under minimax concave penalty\",\"A two-sample test for high-dimensional data with applications to gene-set testing\",\"Spectral estimation of the fractional order of a {L}\\\\'evy process\",\"Estimation for a partial-linear single-index model\",\"Optimal rates of convergence for estimating the null density and proportion of nonnull effects in large-scale multiple testing\",\"Some nonasymptotic results on resampling in high dimension. {II}. {M}ultiple tests\",\"Some nonasymptotic results on resampling in high dimension. {I}. {C}onfidence regions\",\"Sparsistency and rates of convergence in large covariance matrix estimation\",\"P{CA} consistency in high dimension, low sample size context\",\"Break detection in the covariance structure of multivariate time series models\",\"High-dimensional additive modeling\",\"A unified approach to model selection and sparse recovery using regularized least squares\",\"The composite absolute penalties family for grouped and hierarchical variable selection\",\"Estimation of functional derivatives\",\"Estimating the degree of activity of jumps in high frequency data\",\"High-dimensional variable selection\",\"Near-ideal model selection by {$\\\\ell_1$} minimization\",\"High-dimensional analysis of semidefinite relaxations for sparse principal components\",\"Nonparametric regression, confidence regions and regularization\",\"Change-point estimation under adaptive sampling\",\"On the adaptive elastic-net with a diverging number of parameters\",\"Simultaneous analysis of lasso and {D}antzig selector\",\"Sparse recovery in convex hulls via entropy penalization\",\"Dimension reduction for nonelliptically distributed predictors\",\"Extending the scope of empirical likelihood\",\"An adaptive step-down procedure with proven {FDR} control under independence\",\"On the false discovery rate and an asymptotically optimal rejection curve\",\"Robustness of multiple testing procedures against dependence\",\"Lasso-type recovery of sparse representations for high-dimensional data\",\"Testing for jumps in a discretely observed process\",\"Smoothing splines estimators for functional linear regression\",\"Common functional principal components\",\"Flexible covariance estimation in graphical {G}aussian models\",\"Finite sample approximation results for principal component analysis: a matrix perturbation approach\",\"Operator norm consistent estimation of large-dimensional sparse covariance matrices\",\"High-dimensional classification using features annealed independence rules\",\"Covariance regularization by thresholding\",\"Profile-kernel likelihood inference with diverging number of parameters\",\"Learning by mirror averaging\",\"General frequentist properties of the posterior profile distribution\",\"Higher order semiparametric frequentist inference with the profile sampler\",\"Searching for a trail of evidence in a maze\",\"Dimension reduction based on constrained canonical correlation and variable filtering\",\"The sparsity and bias of the {LASSO} selection in high-dimensional linear regression\",\"One-step sparse estimates in nonconcave penalized likelihood models\",\"Composite quantile regression and the oracle model selection theory\",\"Adaptive confidence bands\",\"High-dimensional generalized linear models and the lasso\",\"Asymptotic properties of bridge estimators in sparse high-dimensional regression models\",\"Properties of higher criticism under strong dependence\",\"On false discovery control under dependence\",\"Generalizing {S}imes' test and {H}ochberg's stepup procedure\",\"Variable selection in semiparametric regression modeling\",\"Regularized estimation of large covariance matrices\",\"A test for model specification of diffusion processes\",\"Approximation and learning by greedy algorithms\",\"A constructive approach to the estimation of dimension reduction directions\",\"Consistency of cross validation for comparing regression procedures\",\"Estimation and confidence sets for sparse normal mixtures\",\"Stepup procedures controlling generalized {FWER} and generalized {FDR}\",\"A tale of three cousins: {L}asso, {$L_2$}{B}oosting and {D}antzig. {D}iscussion: ``{T}he {D}antzig selector: statistical estimation when {$p$} is much larger than {$n$}'' [{A}nn. {S}tatist. {\\\\bf 35} (2007), no. 6, 2313--2351; \\\\refcno 2382644] by {E}. {C}andes and {T}. {T}ao\",\"The {D}antzig selector: statistical estimation when {$p$} is much larger than {$n$}\",\"Spatial aggregation of local likelihood estimates with applications to classification\",\"On the ``degrees of freedom'' of the lasso\",\"Two likelihood-based semiparametric estimation methods for panel count data with covariates\",\"Goodness-of-fit tests via phi-divergences\",\"Simultaneous adaptation to the margin and to complexity in classification\",\"Aggregation for {G}aussian regression\",\"Nonparametric estimation of correlation functions in longitudinal and spatial data, with applications to colon carcinogenesis experiments\",\"Bayesian variable selection for high dimensional generalized linear models: convergence rates of the fitted densities\",\"Marginal asymptotics for the ``large {$p$}, small {$n$}'' paradigm: with applications to microarray data\",\"Dependency and false discovery rate: asymptotics\",\"On the performance of {FDR} control: constraints and a partial solution\",\"Control of generalized error rates in multiple testing\",\"Size, power and false discovery rates\",\"Wishart distributions for decomposable graphs\",\"Accumulated prediction errors, information criteria and optimal forecasting for autoregressive time series\",\"Statistical inferences for functional data\",\"Piecewise linear regularized solution paths\",\"Inference under right censoring for transformation models with a change-point based on a covariate threshold\",\"Fast rates for support vector machines using {G}aussian kernels\",\"Volatility estimators for discretely sampled {L}\\\\'evy processes\",\"Quantile regression with varying coefficients\",\"Methodology and convergence rates for functional linear regression\",\"Asymptotics for sliced average variance estimation\",\"Asymptotic minimaxity of false discovery rate thresholding for sparse exponential data\",\"Local {R}ademacher complexities and oracle inequalities in risk minimization\",\"Can one estimate the conditional distribution of post-model-selection estimators?\",\"A multivariate empirical {B}ayes statistic for replicated microarray time course data\",\"Best subset selection, persistence in high-dimensional statistical learning and optimization under {$l_1$} constraint\",\"Risk bounds for statistical learning\",\"Component selection and smoothing in multivariate nonparametric regression\",\"From {$\\\\epsilon$}-entropy to {KL}-entropy: analysis of minimum information complexity density estimation\",\"Prediction in functional linear regression\",\"Conditional growth charts\",\"Stepup procedures for control of generalizations of the familywise error rate\",\"On the {B}enjamini-{H}ochberg method\",\"Adapting to unknown sparsity by controlling the false discovery rate\",\"Boosting for high-dimensional linear models\",\"Properties of principal component methods for functional and longitudinal data analysis\",\"High-dimensional graphs and variable selection with the lasso\",\"False discovery and false nondiscovery rates in single-step multiple testing procedures\",\"Estimating the proportion of false null hypotheses among a large number of independently tested hypotheses\",\"Local partial-likelihood estimation for lifetime data\",\"Adaptive nonparametric confidence sets\",\"Adaptive confidence balls\",\"Penalized maximum likelihood and semiparametric second-order efficiency\",\"Functional linear regression analysis for longitudinal data\",\"Order selection for same-realization predictions in autoregressive processes\",\"Penalized log-likelihood estimation for partly linear transformation models with current status data\",\"Asymptotic behavior of the unconditional {NPMLE} of the length-biased survivor function from right censored prevalent cohort data\",\"Approximating conditional distribution functions using dimension reduction\",\"Optimal smoothing in nonparametric mixed-effect models\",\"Square root penalty: adaptation to the margin in classification and in edge estimation\",\"Generalizations of the familywise error rate\",\"On optimality of stepdown and stepup multiple test procedures\",\"Nonparametric checks for single-index models\",\"Empirical {B}ayes selection of wavelet thresholds\",\"Variable selection using {MM} algorithms\",\"Contour regression: a general approach to dimension reduction\",\"Boosting with early stopping: convergence and consistency\",\"Local {R}ademacher complexities\",\"Complexities of convex combinations and bounding the generalization error in classification\",\"Generalized functional linear models\",\"Spike and slab variable selection: frequentist and {B}ayesian strategies\",\"Confidence sets for nonparametric wavelet regression\",\"Characterization of {B}ayes procedures for multiple endpoint problems and inadmissibility of the step-up procedure\",\"General empirical {B}ayes wavelet methods and exactly adaptive minimax estimation\",\"Determining the dimension of iterative {H}essian transformation\",\"Complexity regularization via localized random penalties\",\"Needles and straw in haystacks: empirical {B}ayes estimates of possibly sparse sequences\",\"Robust inference for univariate proportional hazards frailty regression models\",\"Testing predictor contributions in sufficient dimension reduction\",\"A stochastic process approach to false discovery control\",\"Higher criticism for detecting sparse heterogeneous mixtures\",\"Nonconcave penalized likelihood with a diverging number of parameters\",\"Consistent covariate selection and post model selection inference in semiparametric regression\",\"Optimal predictive model selection\",\"Training samples in objective {B}ayesian model selection\",\"Confidence balls in {G}aussian regression\",\"The positive false discovery rate: a {B}ayesian interpretation and the {$q$}-value\",\"Dimension reduction for the conditional mean in regressions with categorical predictors\",\"Local asymptotics for polynomial spline regression\",\"Estimation in a {C}ox regression model with a change-point according to a threshold in a covariate\",\"Compound decision theory and empirical {B}ayes methods\",\"Robbins, empirical {B}ayes and microarrays\",\"Model selection in nonparametric regression\",\"The horseshoe estimator for sparse signals\",\"A new approach to {C}holesky-based covariance regularization in high dimensions\",\"Pseudo-partial likelihood for proportional hazards models with biased-sampling data\",\"Objective {B}ayesian model selection in {G}aussian graphical models\",\"Scale adjustments for classifiers in high-dimensional, low sample size settings\",\"Bayesian lasso regression\",\"Effects of data dimension on empirical likelihood\",\"Asymptotic properties of penalized spline estimators\",\"Extended {B}ayesian information criteria for model selection with large model spaces\",\"Joint modelling of paired sparse functional data using principal components\",\"On the asymptotics of penalized splines\",\"Modelling multiple time series via common factors\",\"Kernel stick-breaking processes\",\"A note on path-based variable selection in the penalized proportional hazards model\",\"Retrospective {M}arkov chain {M}onte {C}arlo methods for {D}irichlet process hierarchical models\",\"Probability estimation for large-margin classifiers\",\"Bayesian nonparametric inference on stochastic ordering\",\"Robust functional estimation using the median and spherical principal components\",\"Generalized spatial {D}irichlet process models\",\"The high-dimension, low-sample-size geometric representation holds under mild conditions\",\"Survival analysis with temporal covariate effects\",\"Adaptive {L}asso for {C}ox's proportional hazards model\",\"Simulation of hyper-inverse {W}ishart distributions in graphical models\",\"Partial inverse regression\",\"Sparse sufficient dimension reduction\",\"Tuning parameter selectors for the smoothly clipped absolute deviation method\",\"Cholesky decompositions and estimation of a covariance matrix: orthogonality of variance-correlation parameters\",\"Model selection and estimation in the {G}aussian graphical model\",\"Marginal tests with sliced average variance estimation\",\"An asymptotic theory for model selection inference in general semiparametric problems\",\"Estimation of a covariance matrix with zeros\",\"Modelling of covariance structures in generalised estimating equations for longitudinal data\",\"Variable selection in clustering via {D}irichlet process mixture models\",\"Understanding nonparametric estimation for clustered data\",\"On least-squares regression with censored data\",\"Covariance matrix selection and estimation via penalised normal likelihood\",\"Using intraslice covariances for improved estimation of the central subspace in regression\",\"Efficient estimation of semiparametric transformation models for counting processes\",\"False discovery control with {$p$}-value weighting\",\"Adaptive linear step-up procedures that control the false discovery rate\",\"Can the strengths of {AIC} and {BIC} be shared? {A} conflict between model indentification and regression estimation\",\"Lower bounds for the number of false null hypotheses for multiple testing of associations under general dependence structures\",\"Nonparametric maximum likelihood estimation of the structural mean of a sample of curves\",\"Semiparametric {B}ox-{C}ox power transformation models for censored survival observations\",\"Direction estimation in single-index regressions\",\"A {M}onte {C}arlo method for computing the marginal likelihood in nondecomposable {G}aussian graphical models\",\"Variable selection for multivariate failure time data\",\"A note on shrinkage sliced inverse regression\",\"Standard errors and covariance matrices for smoothed rank estimators\",\"Theory for penalised spline regression\",\"Exact likelihood ratio tests for penalised splines\",\"Local polynomial regression analysis of clustered data\",\"Statistical inference based on non-smooth estimating functions\",\"A crossvalidation method for estimating conditional densities\",\"Efficient estimation for semivarying-coefficient models\",\"Model selection for {G}aussian concentration graphs\",\"Posterior probability intervals in {B}ayesian wavelet estimation\",\"Principal {H}essian directions for regression with measurement error\",\"On semiparametric transformation cure models\",\"Profile-kernel versus backfitting in the partially linear models for longitudinal/clustered data\",\"Equivalent kernels of smoothing splines in nonparametric regression for clustered/longitudinal data\",\"On identification of multi-factor models with correlated residuals\",\"Nonparametric estimation of large covariance matrices of longitudinal data\",\"Efficient estimation of covariance selection models\",\"Estimating subject-specific survival functions under the accelerated failure time model\",\"Uniform consistency in causal inference\",\"Rank-based inference for the accelerated failure time model\",\"On modelling mean-covariance structures in longitudinal studies\",\"Estimating central subspaces via inverse third moments\",\"Marginal nonparametric kernel regression accounting for within-subject correlation\",\"Working correlation structure misspecification, estimation and covariate design: implications for generalised estimating equations performance\",\"Frequentist model average estimators\",\"The focused information criterion\",\"Using the bootstrap to select one of a new class of dimension reduction methods\",\"Censored regression quantiles\",\"A lack-of-fit test for quantile regression\",\"Estimating cure rates from survival data: an alternative to two-component mixture models\",\"Dimension reduction for multivariate response data\",\"On additive conditional quantiles with high-dimensional covariates\",\"Marginal likelihood and {B}ayes factors for {D}irichlet process mixture models\",\"Dynamic latent trait models for multidimensional longitudinal data\",\"Wavelet-based nonparametric modeling of hierarchical functions in colon carcinogenesis\",\"Calibrating the degrees of freedom for automatic data smoothing and effective curve checking\",\"On {$\\\\psi$}-learning\",\"Boosting with the {$L_2$} loss: regression and classification\",\"A model-free test for reduced rank in multivariate regression\",\"Clustering for sparsely sampled functional data\",\"Detecting differentially expressed genes in microarrays using {B}ayesian model selection\",\"Optimal sample size for multiple testing: the case of gene expression microarrays\",\"False discovery control for random fields\",\"Cross-validation and the estimation of conditional probability densities\",\"The estimation of prediction error: covariance penalties and cross-validation\",\"Variable selection and model building via likelihood basis pursuit\",\"Functional convex averaging and synchronization for time-warped random curves\",\"New estimation and model selection procedures for semiparametric modeling in longitudinal data analysis\",\"Inference after model selection\",\"Unit root quantile autoregression inference\",\"Semiparametric regression analysis with missing response at random\",\"Testing homogeneity in a mixture distribution via the {$L^2$} distance between competing models\",\"Multicategory support vector machines: theory and application to the classification of microarray data and satellite radiance data\",\"Large-scale simultaneous hypothesis testing: the choice of a null hypothesis\",\"An {ANOVA} model for dependent random measures\",\"A tale of two time scales: determining integrated volatility with noisy high-frequency data\",\"Hierarchical mixture modeling with normalized inverse-{G}aussian priors\",\"A pseudo-partial likelihood method for semiparametric survival regression with covariate errors\",\"Nonparametric estimation of an additive quantile regression model\",\"Efficient empirical {B}ayes variable selection and estimation in linear models\",\"Robust estimation in generalized partial linear models for clustered data\",\"Bayesian nonparametric spatial modeling with {D}irichlet process mixing\",\"C{ATS}: clustering after transformation and smoothing\",\"The profile sampler\",\"A two-way semilinear model for normalization and analysis of c{DNA} microarray data\",\"Semilinear high-dimensional model for normalization of microarray data: a theoretical analysis and partial consistency\",\"Spike and slab gene selection for multigroup microarray data\",\"Bayesian semiparametric isotonic regression for count data\",\"Functional data analysis for sparse longitudinal data\",\"Functional adaptive model estimation\",\"Maximum likelihood estimation for the proportional odds model with random effects\",\"Sufficient dimension reduction via inverse regression: a minimum discrepancy approach\",\"Variance estimation in a model with {G}aussian submodels\",\"A {B}ayesian semiparametric model for random-effects meta-analysis\",\"On the {C}ox model with time-varying regression coefficients\",\"Efficient semiparametric marginal estimation for longitudinal/clustered data\",\"Exact and approximate stepdown methods for multiple hypothesis testing\",\"False discovery rate-adjusted multiple confidence intervals for selected parameters\",\"Using wavelet-based functional mixed models to characterize population heterogeneity in accelerometer profiles: a case study\",\"Semiparametric transformation models for survival data with a cure fraction\",\"On the large-sample minimal coverage probability of confidence intervals after model selection\",\"Multicategory {$\\\\psi$}-learning\",\"On sliced inverse regression with high-dimensional covariates\",\"Non-{G}aussian {B}ayesian geostatistical modeling\",\"Optimal model assessment, selection, and combination\",\"Fourier methods for estimating the central subspace and the central mean subspace in regression\",\"Hierarchical {D}irichlet processes\",\"Inference for mixtures of finite {P}olya tree models\",\"Robust estimation of mixture complexity\",\"Focused information criteria and model averaging for the {C}ox hazard regression model\",\"The adaptive lasso and its oracle properties\",\"Prediction by supervised principal components\",\"A quantitative study of gene regulation involved in the immune response of anopheline mosquitoes: an application of {B}ayesian hierarchical clustering of curves\",\"Order-based dependent {D}irichlet processes\",\"Convexity, classification, and risk bounds\",\"Portmanteau test of independence for functional observations\",\"False discovery rates for spatial signals\",\"Distance-weighted discrimination\",\"Unified {LASSO} estimation by least squares approximation\",\"Functional principal component regression and functional partial least squares\",\"Robust truncated hinge loss support vector machines\",\"Oracle and adaptive compound decision rules for false discovery rate control\",\"Analysis of longitudinal data with semiparametric estimation of convariance function\",\"On {$L_1$}-norm multiclass support vector machines: methodology and theory\",\"Partially linear hazard regression for multivariate survival data\",\"Multi-scale jump and volatility analysis for high-frequency financial data\",\"To how many simultaneous hypothesis tests can normal, {S}tudent's {$t$} or bootstrap calibration be applied?\",\"Empirical likelihood inference in nonlinear errors-in-covariables models with validation data\",\"On directional regression for dimension reduction\",\"Bayesian curve classification using wavelets\",\"Determining the number of factors in the general dynamic factor model\",\"Estimating the null and the proportional of nonnull effects in large-scale multiple comparisons\",\"Power transformation toward a linear regression quantile\",\"Detecting differential expressions in {G}ene{C}hip microarray studies: a quantile approach\",\"Correlation and large-scale simultaneous significance testing\",\"Statistical significance of clustering for high-dimension, low-sample size data\",\"The nested {D}irichlet process\",\"Bayesian treed {G}aussian process models with an application to computer modeling\",\"Modeling price dynamics in e{B}ay auctions using differential equations\",\"Sliced regression for dimension reduction\",\"Covariate bias induced by length-biased sampling of failure times\",\"The {B}ayesian lasso\",\"Bayesian hidden {M}arkov modeling of array {CGH} data\",\"Mixtures of {$g$} priors for {B}ayesian variable selection\",\"Efficient local estimation for time-varying coefficients in deterministic dynamic models with applications to {HIV}-1 dynamics\",\"Smoothly clipped absolute deviation on high dimensions\",\"Nonparametric quantile estimations for dynamic smooth coefficient models\",\"Parameter estimation for differential equation models using a framework of measurement error in regression models\",\"Variable selection in nonparametric varying-coefficient models for analysis of repeated measurements\",\"Functional additive models\",\"Semiparametric estimation of covariance matrixes for longitudinal data\",\"Variable inclusion and shrinkage algorithms\",\"On a projective resampling method for dimension reduction with multivariate responses\",\"Survival analysis with quantile regression models\",\"Nonparametric {B}ayes conditional distribution modeling with variable selection\",\"Generalized multilevel functional regression\",\"Forward regression for ultra-high dimensional variable screening\",\"On consistency and sparsity for principal components analysis in high dimensions\",\"Partial correlation estimation by joint sparse regression models\",\"Estimating derivatives for samples of sparsely observed functions, with application to online auction dynamics\",\"Likelihood-based sufficient dimension reduction\",\"Generalized thresholding of large covariance matrices\",\"Semiparametric mean-covariance regression analysis for longitudinal data\",\"Adaptive thresholding for sparse covariance matrix estimation\",\"Bayesian non-parametric hidden {M}arkov models with applications in genomics\",\"Shrinkage tuning parameter selection with a diverging number of parameters\",\"Covariance-regularized regression and classification for high dimensional problems\",\"Smoothing parameter selection for a class of semiparametric linear models\",\"On distribution-weighted partial least squares with diverging number of highly correlated predictors\",\"Some asymptotic results on generalized penalized spline smoothing\",\"D{ASSO}: connections between the {D}antzig selector and lasso\",\"Sure independence screening for ultrahigh dimensional feature space\",\"Variable selection in semiparametric linear regression with censored data\",\"Parameter estimation for differential equations: a generalized smoothing approach\",\"Functional clustering and identifying substructures of longitudinal data\",\"{$L_1$}-regularization path algorithm for generalized linear models\",\"Maximum likelihood estimation in semiparametric regression models with censored data\",\"The optimal discovery procedure: a new approach to simultaneous significance testing\",\"Dimension reduction and coefficient estimation in multivariate linear regression\",\"Mixture cure survival models with dependent censoring\",\"Bayesian density regression\",\"On the non-negative garrote estimator\",\"Empirical likelihood confidence regions in a partially linear single-index model\",\"Testing against a high dimensional alternative\",\"Functional clustering by {B}ayesian wavelet methods\",\"Wavelet-based functional mixed models\",\"On properties of functional principal components analysis\",\"Semiparametric estimation in general repeated measures problems\",\"Model selection and estimation in regression with grouped variables\",\"Penalized spline models for functional principal component analysis\",\"Estimating the proportion of true null hypotheses, with application to {DNA} microarray data\",\"Estimated estimating equations: semiparametric inference for clustered and longitudinal data\",\"Geometric representation of high dimension, low sample size data\",\"Variance of the number of false discoveries\",\"Sparsity and smoothness via the fused lasso\",\"Regularization and variable selection via the elastic net\",\"Model-free variable selection\",\"Self-modelling warping functions\",\"Real nonparametric regression using complex wavelets\",\"A method for combining inference across related nonparametric {B}ayesian models\",\"Bayesian variable selection and regularization for time-frequency surface estimation\",\"Identification of non-linear additive autoregressive models\",\"A note on the adaptive control of false discovery rates\",\"Strong control, conservative point estimation and simultaneous conservative consistency of false discovery rates: a unified approach\",\"Likelihood ratio tests in linear mixed models with one variance component\",\"Testing for a finite mixture model with two components\",\"Hypothesis testing in mixture regression models\",\"Semiparametric models: a generalized self-consistency approach\",\"Bayesian clustering and product partition models\",\"Functional quasi-likelihood regression models with smooth random effects\",\"Adaptive varying-coefficient linear models\"],\"s\":{\"__ndarray__\":\"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\",\"dtype\":\"float64\",\"shape\":[401]},\"x\":{\"__ndarray__\":\"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\",\"dtype\":\"float32\",\"shape\":[401]},\"y\":{\"__ndarray__\":\"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\",\"dtype\":\"float32\",\"shape\":[401]}},\"selected\":{\"id\":\"1291\",\"type\":\"Selection\"},\"selection_policy\":{\"id\":\"1292\",\"type\":\"UnionRenderers\"}},\"id\":\"1224\",\"type\":\"ColumnDataSource\"},{\"attributes\":{},\"id\":\"1288\",\"type\":\"BasicTickFormatter\"},{\"attributes\":{\"formatter\":{\"id\":\"1288\",\"type\":\"BasicTickFormatter\"},\"plot\":{\"id\":\"1226\",\"subtype\":\"Figure\",\"type\":\"Plot\"},\"ticker\":{\"id\":\"1241\",\"type\":\"BasicTicker\"}},\"id\":\"1240\",\"type\":\"LinearAxis\"},{\"attributes\":{},\"id\":\"1241\",\"type\":\"BasicTicker\"},{\"attributes\":{},\"id\":\"1292\",\"type\":\"UnionRenderers\"},{\"attributes\":{\"dimension\":1,\"plot\":{\"id\":\"1226\",\"subtype\":\"Figure\",\"type\":\"Plot\"},\"ticker\":{\"id\":\"1241\",\"type\":\"BasicTicker\"}},\"id\":\"1244\",\"type\":\"Grid\"},{\"attributes\":{\"fill_alpha\":{\"value\":0.1},\"fill_color\":{\"value\":\"#1f77b4\"},\"line_alpha\":{\"value\":0.1},\"line_color\":{\"value\":\"#1f77b4\"},\"size\":{\"field\":\"s\",\"units\":\"screen\"},\"x\":{\"field\":\"x\"},\"y\":{\"field\":\"y\"}},\"id\":\"1262\",\"type\":\"Circle\"},{\"attributes\":{\"callback\":null,\"tooltips\":[[\"\",\"@desc\"]]},\"id\":\"1225\",\"type\":\"HoverTool\"},{\"attributes\":{\"fill_alpha\":{\"value\":0.5},\"fill_color\":{\"field\":\"c\",\"transform\":{\"id\":\"1223\",\"type\":\"CategoricalColorMapper\"}},\"line_color\":{\"field\":\"c\",\"transform\":{\"id\":\"1223\",\"type\":\"CategoricalColorMapper\"}},\"size\":{\"field\":\"s\",\"units\":\"screen\"},\"x\":{\"field\":\"x\"},\"y\":{\"field\":\"y\"}},\"id\":\"1261\",\"type\":\"Circle\"},{\"attributes\":{},\"id\":\"1245\",\"type\":\"PanTool\"},{\"attributes\":{\"factors\":[\"0\",\"1\",\"2\",\"3\",\"4\"],\"palette\":[\"#2b83ba\",\"#abdda4\",\"#ffffbf\",\"#fdae61\",\"#d7191c\"]},\"id\":\"1223\",\"type\":\"CategoricalColorMapper\"},{\"attributes\":{},\"id\":\"1246\",\"type\":\"WheelZoomTool\"},{\"attributes\":{\"overlay\":{\"id\":\"1253\",\"type\":\"BoxAnnotation\"}},\"id\":\"1247\",\"type\":\"BoxZoomTool\"},{\"attributes\":{\"source\":{\"id\":\"1224\",\"type\":\"ColumnDataSource\"}},\"id\":\"1264\",\"type\":\"CDSView\"},{\"attributes\":{},\"id\":\"1248\",\"type\":\"SaveTool\"},{\"attributes\":{},\"id\":\"1249\",\"type\":\"ResetTool\"},{\"attributes\":{},\"id\":\"1231\",\"type\":\"LinearScale\"},{\"attributes\":{},\"id\":\"1250\",\"type\":\"HelpTool\"},{\"attributes\":{\"active_drag\":\"auto\",\"active_inspect\":\"auto\",\"active_multi\":null,\"active_scroll\":\"auto\",\"active_tap\":\"auto\",\"tools\":[{\"id\":\"1245\",\"type\":\"PanTool\"},{\"id\":\"1246\",\"type\":\"WheelZoomTool\"},{\"id\":\"1247\",\"type\":\"BoxZoomTool\"},{\"id\":\"1248\",\"type\":\"SaveTool\"},{\"id\":\"1249\",\"type\":\"ResetTool\"},{\"id\":\"1250\",\"type\":\"HelpTool\"},{\"id\":\"1225\",\"type\":\"HoverTool\"}]},\"id\":\"1251\",\"type\":\"Toolbar\"},{\"attributes\":{\"callback\":null},\"id\":\"1227\",\"type\":\"DataRange1d\"},{\"attributes\":{\"data_source\":{\"id\":\"1224\",\"type\":\"ColumnDataSource\"},\"glyph\":{\"id\":\"1261\",\"type\":\"Circle\"},\"hover_glyph\":null,\"muted_glyph\":null,\"nonselection_glyph\":{\"id\":\"1262\",\"type\":\"Circle\"},\"selection_glyph\":null,\"view\":{\"id\":\"1264\",\"type\":\"CDSView\"}},\"id\":\"1263\",\"type\":\"GlyphRenderer\"}],\"root_ids\":[\"1226\"]},\"title\":\"Bokeh Application\",\"version\":\"1.0.4\"}};\n",
       "  var render_items = [{\"docid\":\"66682716-2044-4f01-b6cd-c79f32594521\",\"roots\":{\"1226\":\"77353345-5ed2-43e7-ada5-92b32b4e543e\"}}];\n",
       "  root.Bokeh.embed.embed_items_notebook(docs_json, render_items);\n",
       "\n",
       "  }\n",
       "  if (root.Bokeh !== undefined) {\n",
       "    embed_document(root);\n",
       "  } else {\n",
       "    var attempts = 0;\n",
       "    var timer = setInterval(function(root) {\n",
       "      if (root.Bokeh !== undefined) {\n",
       "        embed_document(root);\n",
       "        clearInterval(timer);\n",
       "      }\n",
       "      attempts++;\n",
       "      if (attempts > 100) {\n",
       "        console.log(\"Bokeh: ERROR: Unable to run BokehJS code because BokehJS library is missing\");\n",
       "        clearInterval(timer);\n",
       "      }\n",
       "    }, 10, root)\n",
       "  }\n",
       "})(window);"
      ],
      "application/vnd.bokehjs_exec.v0+json": ""
     },
     "metadata": {
      "application/vnd.bokehjs_exec.v0+json": {
       "id": "1226"
      }
     },
     "output_type": "display_data"
    }
   ],
   "source": [
    "cmap=factor_cmap(field_name='c', palette=Spectral[K], factors=[str(i) for i in range(K)])\n",
    "\n",
    "source = ColumnDataSource(\n",
    "        data=dict(\n",
    "            x=pos[:N,0],\n",
    "            y=pos[:N,1],\n",
    "            desc=node_df['title'],\n",
    "            s=node_df['citCounts']/2,\n",
    "            c=[str(i) for i in labels.labels_]\n",
    "        )\n",
    "    )\n",
    "\n",
    "hover = HoverTool(\n",
    "        tooltips=[\n",
    "            (\"\", \"@desc\"),\n",
    "        ]\n",
    "    )\n",
    "\n",
    "p = figure(plot_width=750, plot_height=500)\n",
    "\n",
    "p.circle('x', 'y', size='s',color=cmap,source=source, fill_alpha=0.5)\n",
    "p.add_tools(hover)\n",
    "show(p)"
   ]
  }
 ],
 "metadata": {
  "anaconda-cloud": {},
  "kernelspec": {
   "display_name": "Python 3",
   "language": "python",
   "name": "python3"
  },
  "language_info": {
   "codemirror_mode": {
    "name": "ipython",
    "version": 3
   },
   "file_extension": ".py",
   "mimetype": "text/x-python",
   "name": "python",
   "nbconvert_exporter": "python",
   "pygments_lexer": "ipython3",
   "version": "3.7.3"
  },
  "toc": {
   "base_numbering": 1,
   "nav_menu": {
    "height": "171px",
    "width": "252px"
   },
   "number_sections": false,
   "sideBar": true,
   "skip_h1_title": true,
   "title_cell": "Table of Contents",
   "title_sidebar": "Contents",
   "toc_cell": false,
   "toc_position": {
    "height": "791px",
    "left": "0px",
    "right": "1693px",
    "top": "135px",
    "width": "165px"
   },
   "toc_section_display": "block",
   "toc_window_display": true
  }
 },
 "nbformat": 4,
 "nbformat_minor": 2
}
